{
  "cells": [
    {
      "cell_type": "markdown",
      "metadata": {
        "id": "view-in-github",
        "colab_type": "text"
      },
      "source": [
        "<a href=\"https://colab.research.google.com/github/lucas-fpaiva/AnalisePred_I/blob/main/Projeto/car_eval/classifier_car.ipynb\" target=\"_parent\"><img src=\"https://colab.research.google.com/assets/colab-badge.svg\" alt=\"Open In Colab\"/></a>"
      ]
    },
    {
      "cell_type": "code",
      "source": [
        "from google.colab import drive\n",
        "drive.mount('/content/drive')"
      ],
      "metadata": {
        "colab": {
          "base_uri": "https://localhost:8080/"
        },
        "id": "kuMmcN4bIxmL",
        "outputId": "29d2ab33-bf24-48a0-8197-a1b542e4b280"
      },
      "execution_count": null,
      "outputs": [
        {
          "output_type": "stream",
          "name": "stdout",
          "text": [
            "Mounted at /content/drive\n"
          ]
        }
      ]
    },
    {
      "cell_type": "markdown",
      "metadata": {
        "id": "Csxq-QIV1xUD"
      },
      "source": [
        "# Avaliar se o preço de compra do veículo é aceitável\n"
      ]
    },
    {
      "cell_type": "code",
      "execution_count": null,
      "metadata": {
        "id": "GqjIv-ud1xUa"
      },
      "outputs": [],
      "source": [
        "import pandas as pd\n",
        "import matplotlib.gridspec as gridspec\n",
        "import matplotlib.pyplot as plt\n",
        "import numpy as np\n",
        "import sklearn\n",
        "import seaborn as sns\n",
        "\n",
        "from scipy.io.arff import loadarff \n",
        "from scipy.io import arff\n",
        "\n",
        "from sklearn.tree import DecisionTreeClassifier\n",
        "from sklearn.ensemble import RandomForestClassifier\n",
        "from sklearn.model_selection import GridSearchCV, KFold, StratifiedKFold, cross_val_score\n",
        "from sklearn.neural_network import MLPClassifier\n",
        "from sklearn.neighbors import KNeighborsClassifier\n",
        "from sklearn.linear_model import LogisticRegression\n",
        "from sklearn.naive_bayes import GaussianNB, BernoulliNB\n",
        "from sklearn.svm import SVC\n",
        "from sklearn.ensemble import GradientBoostingClassifier\n",
        "\n",
        "from sklearn.metrics import precision_score as ps\n",
        "from sklearn.metrics import recall_score as rs\n",
        "from sklearn.metrics import f1_score as f1\n",
        "from sklearn.metrics import accuracy_score as acs\n",
        "from sklearn.metrics import auc, roc_auc_score\n",
        "\n",
        "\n",
        "from sklearn.metrics import plot_confusion_matrix\n",
        "\n",
        "from sklearn.datasets import make_classification\n",
        "from ast import literal_eval\n",
        "\n",
        "import warnings\n",
        "warnings.filterwarnings('ignore')\n"
      ]
    },
    {
      "cell_type": "code",
      "source": [
        "def grid_best_model (model=\"DT\", grid=\"\"):\n",
        "  #A função retorna o modelo com os melhores parametros, os melhores parametros e o melhor score\n",
        "  scoring = 'accuracy'\n",
        "    \n",
        "  if model == \"DT\":\n",
        "    gs_cv = GridSearchCV(estimator=DecisionTreeClassifier(), param_grid=grid['DT'], cv= 5, scoring=scoring, n_jobs=-1)\n",
        "    gs_cv.fit(x_treino, y_treino)\n",
        "    return DecisionTreeClassifier(**gs_cv.best_params_).fit(x_treino, y_treino), gs_cv.best_params_\n",
        "      \n",
        "  if model==\"PMC\":\n",
        "    gs_cv = GridSearchCV(estimator=MLPClassifier(), param_grid=grid['PMC'], cv= 5, scoring=scoring, n_jobs=-1)\n",
        "    gs_cv.fit(x_treino, y_treino)\n",
        "    return MLPClassifier(**gs_cv.best_params_), gs_cv.best_params_\n",
        "    \n",
        "  if model == \"RF\":\n",
        "    gs_cv = GridSearchCV(estimator=RandomForestClassifier(), param_grid=grid['RF'], cv= 5, scoring=scoring, n_jobs=-1)\n",
        "    gs_cv.fit(x_treino, y_treino)\n",
        "    return RandomForestClassifier(**gs_cv.best_params_), gs_cv.best_params_\n",
        "\n",
        "  if model == \"KNN\":\n",
        "    gs_cv = GridSearchCV(estimator=KNeighborsClassifier(), param_grid=grid['KNN'], cv= 5, scoring=scoring, n_jobs=-1)\n",
        "    gs_cv.fit(x_treino, y_treino)\n",
        "    return KNeighborsClassifier(**gs_cv.best_params_), gs_cv.best_params_\n",
        "\n",
        "  if model == \"RL\":\n",
        "    gs_cv = GridSearchCV(estimator=LogisticRegression(), param_grid=grid['RL'], cv= 5, scoring=scoring, n_jobs=-1)\n",
        "    gs_cv.fit(x_treino, y_treino)\n",
        "    return LogisticRegression(**gs_cv.best_params_), gs_cv.best_params_\n",
        "\n",
        "  if model == \"BNB\":\n",
        "    gs_cv = GridSearchCV(estimator=BernoulliNB(), param_grid=grid['BNB'], cv= 5, scoring=scoring, n_jobs=-1)\n",
        "    gs_cv.fit(x_treino, y_treino)\n",
        "    return BernoulliNB(**gs_cv.best_params_).fit(x_treino, y_treino), gs_cv.best_params_\n",
        "\n",
        "  if model == \"SVM\":\n",
        "    gs_cv = GridSearchCV(estimator=SVC(), param_grid=grid['SVM'], cv= 5, scoring=scoring, n_jobs=-1)\n",
        "    gs_cv.fit(x_treino, y_treino)\n",
        "    return SVC(**gs_cv.best_params_).fit(x_treino, y_treino), gs_cv.best_params_\n",
        "\n",
        "  if model == \"GB\":\n",
        "    gs_cv = GridSearchCV(estimator=GradientBoostingClassifier(), param_grid=grid['GB'], cv= 5, scoring=scoring, n_jobs=-1)\n",
        "    gs_cv.fit(x_treino, y_treino)\n",
        "    return GradientBoostingClassifier(**gs_cv.best_params_).fit(x_treino, y_treino), gs_cv.best_params_\n",
        "        \n",
        "  \n",
        "#Parâmetros do Grid\n",
        "grid = {\n",
        "    'RF':{ #based on: Discrete Simulation Optimization for Tuning Machine Learning Method Hyperparameters\n",
        "        'n_estimators': [10, 100],\n",
        "        'max_depth' : range(5, 50, 5),\n",
        "        #'min_samples_split' : [2, 11],\n",
        "        #'min_samples_leaf' : [1, 11],\n",
        "        #'max_features' : [1,54],\n",
        "        'criterion' :['gini', 'entropy'],\n",
        "        'random_state' : [0]},\n",
        "\n",
        "    'PMC':{ #based on: Discrete Simulation Optimization for Tuning Machine Learning Method Hyperparameters\n",
        "        'hidden_layer_sizes': range(5, 50, 5),\n",
        "        'learning_rate' : ['constant','adaptive'],\n",
        "        'learning_rate_init' : [0.001, 0.01, 0.05],\n",
        "        'max_iter': [200],\n",
        "        'activation' : ['relu', 'tanh'],\n",
        "        #'solver' : ['adam', 'sgd'],\n",
        "        'random_state' : [0]},\n",
        "\n",
        "    'DT':{ #based on: Random Forest\n",
        "        'max_depth' : range(5, 50, 5),\n",
        "        #'min_samples_split' : [2, 11],\n",
        "        #'min_samples_leaf' : [1, 11],\n",
        "        #'max_features' : [1,54],\n",
        "        'criterion' :['gini', 'entropy'],\n",
        "        'random_state' : [0]},\n",
        "\n",
        "    'KNN':{ #based on:\n",
        "        'n_neighbors': range(5, 50, 5),\n",
        "        'weights': ['uniform', 'distance'],\n",
        "        'metric' : ['manhattan', 'euclidean']},\n",
        "\n",
        "    'RL':{ #based on: Logistic Regression Hyperparameter Optimization for Cancer Classification\n",
        "        'penalty' : ['l1', 'l2', 'elasticnet'],\n",
        "        'l1_ratio' : [0, 1],\n",
        "        #'learning_rate' : ['constant', 'optimal', 'invscaling', 'adaptive'],\n",
        "        #'eta0' : [0, 2],\n",
        "        'tol' : [0.00001, 0.01], #Alpha\n",
        "        'warm_start' : [True, False],\n",
        "        'random_state' : [0]},\n",
        "\n",
        "    'BNB':{ #based on:\n",
        "        'alpha' : np.arange(0.0, 1.0, 0.05)},\n",
        "    \n",
        "    'SVM':{ #based on:\n",
        "        'C' : [0.1,1,10],\n",
        "        'kernel' : ['linear', 'poly', 'rbf'],\n",
        "        #'gamma' : ['auto', 'scale'], #[0.001, 0.01, 0.1, 0.5, 1, 10, 100],\n",
        "        'probability' : [True],\n",
        "        'random_state' : [0]},\n",
        "    \n",
        "    'GB':{ #based on:\n",
        "        'n_estimators': [10, 100],\n",
        "        'max_depth' : [2, 3, 5, 7, 10],\n",
        "        #'learning_rate' : [0.025, 0.05, 0.1, 0.2, 0.3],\n",
        "        #'min_samples_split' : [2, 5, 10, 20],\n",
        "        #'max_features' : ['log2', 'sqrt', 0.25, 1.0],\n",
        "        #'subsample' : [0.15, 0.5, 0.75, 1.0],\n",
        "        'random_state' : [0]}\n",
        "}"
      ],
      "metadata": {
        "id": "7oTeWB0yLtxT"
      },
      "execution_count": null,
      "outputs": []
    },
    {
      "cell_type": "code",
      "source": [
        "def metrics (y_true, y_pred, y_pred_prob):\n",
        "  return [acs(y_true, y_pred), f1(y_true, y_pred, average = 'macro'),\n",
        "          roc_auc_score(y_true, y_pred_prob, average='macro', multi_class = 'ovr')]"
      ],
      "metadata": {
        "id": "W_HPPnYUAu6f"
      },
      "execution_count": null,
      "outputs": []
    },
    {
      "cell_type": "code",
      "source": [
        "def balan_func(treino,balan_name):\n",
        "\n",
        "\n",
        "\n",
        "  return treino_balan\n",
        "\n",
        "\n",
        "from sklearn.feature_selection import RFE\n",
        "def select_feat(x_treino,y_treino,model,n)\n",
        "  base_estimator = model\n",
        "  rfe = RFE(base_estimator, n_features_to_select=n, step=1)\n",
        "  X_filtered = rfe.fit_transform(x_treino,y_treino)\n",
        "\n",
        "  return features"
      ],
      "metadata": {
        "id": "DwGa_0IchnrR"
      },
      "execution_count": null,
      "outputs": []
    },
    {
      "cell_type": "markdown",
      "source": [
        "## Lendo o Dataset"
      ],
      "metadata": {
        "id": "FI2B053-WNjz"
      }
    },
    {
      "cell_type": "code",
      "source": [
        "data = pd.read_csv('https://raw.githubusercontent.com/lucas-fpaiva/AnalisePred_I/main/Projeto/car_eval/data_processed.csv', index_col=0)\n",
        "features = data.columns[1:-2]"
      ],
      "metadata": {
        "id": "KfQW75l1XIiJ"
      },
      "execution_count": null,
      "outputs": []
    },
    {
      "cell_type": "code",
      "source": [
        "features"
      ],
      "metadata": {
        "id": "NaR5cBBSvcY-",
        "outputId": "1c5f6c68-9aeb-42a0-c998-e3ae55220a56",
        "colab": {
          "base_uri": "https://localhost:8080/"
        }
      },
      "execution_count": null,
      "outputs": [
        {
          "output_type": "execute_result",
          "data": {
            "text/plain": [
              "Index(['buying_price_vhigh', 'buying_price_high', 'buying_price_med',\n",
              "       'buying_price_low', 'maintenance_price_vhigh', 'maintenance_price_high',\n",
              "       'maintenance_price_med', 'maintenance_price_low', 'doors_2', 'doors_3',\n",
              "       'doors_4', 'doors_5more', 'persons_2', 'persons_4', 'persons_more',\n",
              "       'luggage_boot_size_small', 'luggage_boot_size_med',\n",
              "       'luggage_boot_size_big', 'safety_low', 'safety_med', 'safety_high'],\n",
              "      dtype='object')"
            ]
          },
          "metadata": {},
          "execution_count": 8
        }
      ]
    },
    {
      "cell_type": "code",
      "source": [
        "data.head()"
      ],
      "metadata": {
        "id": "VIBEEusnx7XW",
        "outputId": "d93b034d-1a81-40d4-a09c-d9b6b2493bc8",
        "colab": {
          "base_uri": "https://localhost:8080/",
          "height": 299
        }
      },
      "execution_count": null,
      "outputs": [
        {
          "output_type": "execute_result",
          "data": {
            "text/plain": [
              "   class  buying_price_vhigh  buying_price_high  buying_price_med  \\\n",
              "0      0                   1                  0                 0   \n",
              "1      0                   1                  0                 0   \n",
              "2      0                   1                  0                 0   \n",
              "3      0                   1                  0                 0   \n",
              "4      0                   1                  0                 0   \n",
              "\n",
              "   buying_price_low  maintenance_price_vhigh  maintenance_price_high  \\\n",
              "0                 0                        1                       0   \n",
              "1                 0                        1                       0   \n",
              "2                 0                        1                       0   \n",
              "3                 0                        1                       0   \n",
              "4                 0                        1                       0   \n",
              "\n",
              "   maintenance_price_med  maintenance_price_low  doors_2  ...  persons_4  \\\n",
              "0                      0                      0        1  ...          0   \n",
              "1                      0                      0        1  ...          0   \n",
              "2                      0                      0        1  ...          0   \n",
              "3                      0                      0        1  ...          0   \n",
              "4                      0                      0        1  ...          0   \n",
              "\n",
              "   persons_more  luggage_boot_size_small  luggage_boot_size_med  \\\n",
              "0             0                        1                      0   \n",
              "1             0                        1                      0   \n",
              "2             0                        1                      0   \n",
              "3             0                        0                      1   \n",
              "4             0                        0                      1   \n",
              "\n",
              "   luggage_boot_size_big  safety_low  safety_med  safety_high  id  fold  \n",
              "0                      0           1           0            0   0     5  \n",
              "1                      0           0           1            0   1     5  \n",
              "2                      0           0           0            1   2     5  \n",
              "3                      0           1           0            0   3     4  \n",
              "4                      0           0           1            0   4     2  \n",
              "\n",
              "[5 rows x 24 columns]"
            ],
            "text/html": [
              "\n",
              "  <div id=\"df-6a16ab70-c250-4694-87f1-7295b17a6ade\">\n",
              "    <div class=\"colab-df-container\">\n",
              "      <div>\n",
              "<style scoped>\n",
              "    .dataframe tbody tr th:only-of-type {\n",
              "        vertical-align: middle;\n",
              "    }\n",
              "\n",
              "    .dataframe tbody tr th {\n",
              "        vertical-align: top;\n",
              "    }\n",
              "\n",
              "    .dataframe thead th {\n",
              "        text-align: right;\n",
              "    }\n",
              "</style>\n",
              "<table border=\"1\" class=\"dataframe\">\n",
              "  <thead>\n",
              "    <tr style=\"text-align: right;\">\n",
              "      <th></th>\n",
              "      <th>class</th>\n",
              "      <th>buying_price_vhigh</th>\n",
              "      <th>buying_price_high</th>\n",
              "      <th>buying_price_med</th>\n",
              "      <th>buying_price_low</th>\n",
              "      <th>maintenance_price_vhigh</th>\n",
              "      <th>maintenance_price_high</th>\n",
              "      <th>maintenance_price_med</th>\n",
              "      <th>maintenance_price_low</th>\n",
              "      <th>doors_2</th>\n",
              "      <th>...</th>\n",
              "      <th>persons_4</th>\n",
              "      <th>persons_more</th>\n",
              "      <th>luggage_boot_size_small</th>\n",
              "      <th>luggage_boot_size_med</th>\n",
              "      <th>luggage_boot_size_big</th>\n",
              "      <th>safety_low</th>\n",
              "      <th>safety_med</th>\n",
              "      <th>safety_high</th>\n",
              "      <th>id</th>\n",
              "      <th>fold</th>\n",
              "    </tr>\n",
              "  </thead>\n",
              "  <tbody>\n",
              "    <tr>\n",
              "      <th>0</th>\n",
              "      <td>0</td>\n",
              "      <td>1</td>\n",
              "      <td>0</td>\n",
              "      <td>0</td>\n",
              "      <td>0</td>\n",
              "      <td>1</td>\n",
              "      <td>0</td>\n",
              "      <td>0</td>\n",
              "      <td>0</td>\n",
              "      <td>1</td>\n",
              "      <td>...</td>\n",
              "      <td>0</td>\n",
              "      <td>0</td>\n",
              "      <td>1</td>\n",
              "      <td>0</td>\n",
              "      <td>0</td>\n",
              "      <td>1</td>\n",
              "      <td>0</td>\n",
              "      <td>0</td>\n",
              "      <td>0</td>\n",
              "      <td>5</td>\n",
              "    </tr>\n",
              "    <tr>\n",
              "      <th>1</th>\n",
              "      <td>0</td>\n",
              "      <td>1</td>\n",
              "      <td>0</td>\n",
              "      <td>0</td>\n",
              "      <td>0</td>\n",
              "      <td>1</td>\n",
              "      <td>0</td>\n",
              "      <td>0</td>\n",
              "      <td>0</td>\n",
              "      <td>1</td>\n",
              "      <td>...</td>\n",
              "      <td>0</td>\n",
              "      <td>0</td>\n",
              "      <td>1</td>\n",
              "      <td>0</td>\n",
              "      <td>0</td>\n",
              "      <td>0</td>\n",
              "      <td>1</td>\n",
              "      <td>0</td>\n",
              "      <td>1</td>\n",
              "      <td>5</td>\n",
              "    </tr>\n",
              "    <tr>\n",
              "      <th>2</th>\n",
              "      <td>0</td>\n",
              "      <td>1</td>\n",
              "      <td>0</td>\n",
              "      <td>0</td>\n",
              "      <td>0</td>\n",
              "      <td>1</td>\n",
              "      <td>0</td>\n",
              "      <td>0</td>\n",
              "      <td>0</td>\n",
              "      <td>1</td>\n",
              "      <td>...</td>\n",
              "      <td>0</td>\n",
              "      <td>0</td>\n",
              "      <td>1</td>\n",
              "      <td>0</td>\n",
              "      <td>0</td>\n",
              "      <td>0</td>\n",
              "      <td>0</td>\n",
              "      <td>1</td>\n",
              "      <td>2</td>\n",
              "      <td>5</td>\n",
              "    </tr>\n",
              "    <tr>\n",
              "      <th>3</th>\n",
              "      <td>0</td>\n",
              "      <td>1</td>\n",
              "      <td>0</td>\n",
              "      <td>0</td>\n",
              "      <td>0</td>\n",
              "      <td>1</td>\n",
              "      <td>0</td>\n",
              "      <td>0</td>\n",
              "      <td>0</td>\n",
              "      <td>1</td>\n",
              "      <td>...</td>\n",
              "      <td>0</td>\n",
              "      <td>0</td>\n",
              "      <td>0</td>\n",
              "      <td>1</td>\n",
              "      <td>0</td>\n",
              "      <td>1</td>\n",
              "      <td>0</td>\n",
              "      <td>0</td>\n",
              "      <td>3</td>\n",
              "      <td>4</td>\n",
              "    </tr>\n",
              "    <tr>\n",
              "      <th>4</th>\n",
              "      <td>0</td>\n",
              "      <td>1</td>\n",
              "      <td>0</td>\n",
              "      <td>0</td>\n",
              "      <td>0</td>\n",
              "      <td>1</td>\n",
              "      <td>0</td>\n",
              "      <td>0</td>\n",
              "      <td>0</td>\n",
              "      <td>1</td>\n",
              "      <td>...</td>\n",
              "      <td>0</td>\n",
              "      <td>0</td>\n",
              "      <td>0</td>\n",
              "      <td>1</td>\n",
              "      <td>0</td>\n",
              "      <td>0</td>\n",
              "      <td>1</td>\n",
              "      <td>0</td>\n",
              "      <td>4</td>\n",
              "      <td>2</td>\n",
              "    </tr>\n",
              "  </tbody>\n",
              "</table>\n",
              "<p>5 rows × 24 columns</p>\n",
              "</div>\n",
              "      <button class=\"colab-df-convert\" onclick=\"convertToInteractive('df-6a16ab70-c250-4694-87f1-7295b17a6ade')\"\n",
              "              title=\"Convert this dataframe to an interactive table.\"\n",
              "              style=\"display:none;\">\n",
              "        \n",
              "  <svg xmlns=\"http://www.w3.org/2000/svg\" height=\"24px\"viewBox=\"0 0 24 24\"\n",
              "       width=\"24px\">\n",
              "    <path d=\"M0 0h24v24H0V0z\" fill=\"none\"/>\n",
              "    <path d=\"M18.56 5.44l.94 2.06.94-2.06 2.06-.94-2.06-.94-.94-2.06-.94 2.06-2.06.94zm-11 1L8.5 8.5l.94-2.06 2.06-.94-2.06-.94L8.5 2.5l-.94 2.06-2.06.94zm10 10l.94 2.06.94-2.06 2.06-.94-2.06-.94-.94-2.06-.94 2.06-2.06.94z\"/><path d=\"M17.41 7.96l-1.37-1.37c-.4-.4-.92-.59-1.43-.59-.52 0-1.04.2-1.43.59L10.3 9.45l-7.72 7.72c-.78.78-.78 2.05 0 2.83L4 21.41c.39.39.9.59 1.41.59.51 0 1.02-.2 1.41-.59l7.78-7.78 2.81-2.81c.8-.78.8-2.07 0-2.86zM5.41 20L4 18.59l7.72-7.72 1.47 1.35L5.41 20z\"/>\n",
              "  </svg>\n",
              "      </button>\n",
              "      \n",
              "  <style>\n",
              "    .colab-df-container {\n",
              "      display:flex;\n",
              "      flex-wrap:wrap;\n",
              "      gap: 12px;\n",
              "    }\n",
              "\n",
              "    .colab-df-convert {\n",
              "      background-color: #E8F0FE;\n",
              "      border: none;\n",
              "      border-radius: 50%;\n",
              "      cursor: pointer;\n",
              "      display: none;\n",
              "      fill: #1967D2;\n",
              "      height: 32px;\n",
              "      padding: 0 0 0 0;\n",
              "      width: 32px;\n",
              "    }\n",
              "\n",
              "    .colab-df-convert:hover {\n",
              "      background-color: #E2EBFA;\n",
              "      box-shadow: 0px 1px 2px rgba(60, 64, 67, 0.3), 0px 1px 3px 1px rgba(60, 64, 67, 0.15);\n",
              "      fill: #174EA6;\n",
              "    }\n",
              "\n",
              "    [theme=dark] .colab-df-convert {\n",
              "      background-color: #3B4455;\n",
              "      fill: #D2E3FC;\n",
              "    }\n",
              "\n",
              "    [theme=dark] .colab-df-convert:hover {\n",
              "      background-color: #434B5C;\n",
              "      box-shadow: 0px 1px 3px 1px rgba(0, 0, 0, 0.15);\n",
              "      filter: drop-shadow(0px 1px 2px rgba(0, 0, 0, 0.3));\n",
              "      fill: #FFFFFF;\n",
              "    }\n",
              "  </style>\n",
              "\n",
              "      <script>\n",
              "        const buttonEl =\n",
              "          document.querySelector('#df-6a16ab70-c250-4694-87f1-7295b17a6ade button.colab-df-convert');\n",
              "        buttonEl.style.display =\n",
              "          google.colab.kernel.accessAllowed ? 'block' : 'none';\n",
              "\n",
              "        async function convertToInteractive(key) {\n",
              "          const element = document.querySelector('#df-6a16ab70-c250-4694-87f1-7295b17a6ade');\n",
              "          const dataTable =\n",
              "            await google.colab.kernel.invokeFunction('convertToInteractive',\n",
              "                                                     [key], {});\n",
              "          if (!dataTable) return;\n",
              "\n",
              "          const docLinkHtml = 'Like what you see? Visit the ' +\n",
              "            '<a target=\"_blank\" href=https://colab.research.google.com/notebooks/data_table.ipynb>data table notebook</a>'\n",
              "            + ' to learn more about interactive tables.';\n",
              "          element.innerHTML = '';\n",
              "          dataTable['output_type'] = 'display_data';\n",
              "          await google.colab.output.renderOutput(dataTable, element);\n",
              "          const docLink = document.createElement('div');\n",
              "          docLink.innerHTML = docLinkHtml;\n",
              "          element.appendChild(docLink);\n",
              "        }\n",
              "      </script>\n",
              "    </div>\n",
              "  </div>\n",
              "  "
            ]
          },
          "metadata": {},
          "execution_count": 9
        }
      ]
    },
    {
      "cell_type": "markdown",
      "source": [
        "## GridSearch dos Modelos"
      ],
      "metadata": {
        "id": "son5ymSm4A_a"
      }
    },
    {
      "cell_type": "code",
      "execution_count": null,
      "metadata": {
        "id": "2nCdUEwp1xUb",
        "outputId": "1443b159-8b2f-470a-8586-f5a9353d2f96",
        "colab": {
          "base_uri": "https://localhost:8080/",
          "height": 1000
        }
      },
      "outputs": [
        {
          "output_type": "stream",
          "name": "stdout",
          "text": [
            "Modelo: KNN\n",
            "Melhor parametro: {'metric': 'euclidean', 'n_neighbors': 15, 'weights': 'distance'}\n",
            "Fold 1 [0.9132947976878613, 0.7210814590697645, 0.9898526835779161]\n",
            "Modelo: KNN\n",
            "Melhor parametro: {'metric': 'manhattan', 'n_neighbors': 15, 'weights': 'distance'}\n",
            "Fold 2 [0.9075144508670521, 0.7533590888969375, 0.9885892605228042]\n",
            "Modelo: KNN\n",
            "Melhor parametro: {'metric': 'manhattan', 'n_neighbors': 10, 'weights': 'uniform'}\n",
            "Fold 3 [0.8901734104046243, 0.664149414941494, 0.9864936423154765]\n",
            "Modelo: KNN\n",
            "Melhor parametro: {'metric': 'manhattan', 'n_neighbors': 15, 'weights': 'distance'}\n",
            "Fold 4 [0.9246376811594202, 0.7131984841966974, 0.9939992527629535]\n",
            "Modelo: KNN\n",
            "Melhor parametro: {'metric': 'euclidean', 'n_neighbors': 25, 'weights': 'distance'}\n",
            "Fold 5 [0.863768115942029, 0.5530920212408417, 0.989488363700472]\n",
            "Modelo: RL\n",
            "Melhor parametro: {'l1_ratio': 0, 'penalty': 'l2', 'random_state': 0, 'tol': 1e-05, 'warm_start': True}\n",
            "Fold 1 [0.9161849710982659, 0.7631551744633785, 0.9887235769675422]\n",
            "Modelo: RL\n",
            "Melhor parametro: {'l1_ratio': 0, 'penalty': 'l2', 'random_state': 0, 'tol': 1e-05, 'warm_start': True}\n",
            "Fold 2 [0.9421965317919075, 0.8236576923424523, 0.9939258262479969]\n",
            "Modelo: RL\n",
            "Melhor parametro: {'l1_ratio': 0, 'penalty': 'l2', 'random_state': 0, 'tol': 1e-05, 'warm_start': True}\n",
            "Fold 3 [0.884393063583815, 0.7252310782036392, 0.9857336300250785]\n",
            "Modelo: RL\n",
            "Melhor parametro: {'l1_ratio': 0, 'penalty': 'l2', 'random_state': 0, 'tol': 1e-05, 'warm_start': True}\n",
            "Fold 4 [0.9246376811594202, 0.8492602657004831, 0.9905029155819515]\n",
            "Modelo: RL\n",
            "Melhor parametro: {'l1_ratio': 0, 'penalty': 'l2', 'random_state': 0, 'tol': 1e-05, 'warm_start': True}\n",
            "Fold 5 [0.9014492753623189, 0.7267857142857143, 0.9904885646866552]\n",
            "Modelo: BNB\n",
            "Melhor parametro: {'alpha': 0.0}\n",
            "Fold 1 [0.869942196531792, 0.7073691476261069, 0.9808357987018684]\n",
            "Modelo: BNB\n",
            "Melhor parametro: {'alpha': 0.0}\n",
            "Fold 2 [0.8526011560693642, 0.705561355531329, 0.9756912066205847]\n",
            "Modelo: BNB\n",
            "Melhor parametro: {'alpha': 0.0}\n",
            "Fold 3 [0.8526011560693642, 0.6960816642240678, 0.9730360466474914]\n",
            "Modelo: BNB\n",
            "Melhor parametro: {'alpha': 0.0}\n",
            "Fold 4 [0.8753623188405797, 0.7965408096177328, 0.9783672640756844]\n",
            "Modelo: BNB\n",
            "Melhor parametro: {'alpha': 0.0}\n",
            "Fold 5 [0.8695652173913043, 0.7418546188639137, 0.9783795266556268]\n",
            "Modelo: DT\n",
            "Melhor parametro: {'criterion': 'entropy', 'max_depth': 10, 'random_state': 0}\n",
            "Fold 1 [0.9826589595375722, 0.9563850820316337, 0.9875761010986159]\n",
            "Modelo: DT\n",
            "Melhor parametro: {'criterion': 'entropy', 'max_depth': 15, 'random_state': 0}\n",
            "Fold 2 [0.9624277456647399, 0.8620865093884424, 0.9346992922018778]\n",
            "Modelo: DT\n",
            "Melhor parametro: {'criterion': 'entropy', 'max_depth': 15, 'random_state': 0}\n",
            "Fold 3 [0.9826589595375722, 0.9689713578602467, 0.9717563770717286]\n",
            "Modelo: DT\n",
            "Melhor parametro: {'criterion': 'gini', 'max_depth': 15, 'random_state': 0}\n",
            "Fold 4 [0.9623188405797102, 0.9458448797579232, 0.9598437815363494]\n",
            "Modelo: DT\n",
            "Melhor parametro: {'criterion': 'entropy', 'max_depth': 15, 'random_state': 0}\n",
            "Fold 5 [0.9855072463768116, 0.9734977940719567, 0.9830147010356876]\n",
            "Modelo: PMC\n",
            "Melhor parametro: {'activation': 'relu', 'hidden_layer_sizes': 30, 'learning_rate': 'constant', 'learning_rate_init': 0.05, 'max_iter': 200, 'random_state': 0}\n",
            "Fold 1 [1.0, 1.0, 1.0]\n",
            "Modelo: PMC\n",
            "Melhor parametro: {'activation': 'relu', 'hidden_layer_sizes': 15, 'learning_rate': 'constant', 'learning_rate_init': 0.05, 'max_iter': 200, 'random_state': 0}\n",
            "Fold 2 [0.9942196531791907, 0.9876149587543891, 0.9999100042811133]\n",
            "Modelo: PMC\n",
            "Melhor parametro: {'activation': 'relu', 'hidden_layer_sizes': 25, 'learning_rate': 'constant', 'learning_rate_init': 0.05, 'max_iter': 200, 'random_state': 0}\n",
            "Fold 3 [0.9942196531791907, 0.9957201889020071, 0.9994974556957068]\n",
            "Modelo: PMC\n",
            "Melhor parametro: {'activation': 'relu', 'hidden_layer_sizes': 10, 'learning_rate': 'constant', 'learning_rate_init': 0.01, 'max_iter': 200, 'random_state': 0}\n",
            "Fold 4 [0.9942028985507246, 0.9957201889020071, 0.9995872002876917]\n",
            "Modelo: PMC\n",
            "Melhor parametro: {'activation': 'relu', 'hidden_layer_sizes': 10, 'learning_rate': 'constant', 'learning_rate_init': 0.01, 'max_iter': 200, 'random_state': 0}\n",
            "Fold 5 [0.9942028985507246, 0.9957159023549065, 0.999686186157004]\n",
            "Modelo: SVM\n",
            "Melhor parametro: {'C': 10, 'kernel': 'rbf', 'probability': True, 'random_state': 0}\n",
            "Fold 1 [1.0, 1.0, 1.0]\n",
            "Modelo: SVM\n",
            "Melhor parametro: {'C': 10, 'kernel': 'rbf', 'probability': True, 'random_state': 0}\n",
            "Fold 2 [0.9971098265895953, 0.989745323416723, 0.9998682874209143]\n",
            "Modelo: SVM\n",
            "Melhor parametro: {'C': 10, 'kernel': 'poly', 'probability': True, 'random_state': 0}\n",
            "Fold 3 [1.0, 1.0, 1.0]\n",
            "Modelo: SVM\n",
            "Melhor parametro: {'C': 10, 'kernel': 'poly', 'probability': True, 'random_state': 0}\n",
            "Fold 4 [1.0, 1.0, 1.0]\n",
            "Modelo: SVM\n",
            "Melhor parametro: {'C': 10, 'kernel': 'rbf', 'probability': True, 'random_state': 0}\n",
            "Fold 5 [1.0, 1.0, 1.0]\n",
            "Modelo: RF\n",
            "Melhor parametro: {'criterion': 'gini', 'max_depth': 15, 'n_estimators': 10, 'random_state': 0}\n",
            "Fold 1 [0.953757225433526, 0.8258345910823464, 0.9956576055913207]\n",
            "Modelo: RF\n",
            "Melhor parametro: {'criterion': 'entropy', 'max_depth': 15, 'n_estimators': 10, 'random_state': 0}\n",
            "Fold 2 [0.9450867052023122, 0.8795995104226064, 0.989915478155359]\n",
            "Modelo: RF\n",
            "Melhor parametro: {'criterion': 'gini', 'max_depth': 15, 'n_estimators': 10, 'random_state': 0}\n",
            "Fold 3 [0.9393063583815029, 0.8310775209115457, 0.9882110399225328]\n",
            "Modelo: RF\n",
            "Melhor parametro: {'criterion': 'entropy', 'max_depth': 10, 'n_estimators': 10, 'random_state': 0}\n",
            "Fold 4 [0.9478260869565217, 0.8114259204029559, 0.9932321998781197]\n",
            "Modelo: RF\n",
            "Melhor parametro: {'criterion': 'gini', 'max_depth': 15, 'n_estimators': 10, 'random_state': 0}\n",
            "Fold 5 [0.9478260869565217, 0.8806438154196583, 0.9946668149617884]\n",
            "Modelo: GB\n",
            "Melhor parametro: {'max_depth': 3, 'n_estimators': 100, 'random_state': 0}\n",
            "Fold 1 [0.9884393063583815, 0.9758024824414866, 0.9996036553802554]\n",
            "Modelo: GB\n",
            "Melhor parametro: {'max_depth': 3, 'n_estimators': 100, 'random_state': 0}\n",
            "Fold 2 [0.9826589595375722, 0.9654621902150597, 0.9980910003896721]\n",
            "Modelo: GB\n",
            "Melhor parametro: {'max_depth': 3, 'n_estimators': 100, 'random_state': 0}\n",
            "Fold 3 [0.9942196531791907, 0.9793509799119897, 0.9998539286399581]\n",
            "Modelo: GB\n",
            "Melhor parametro: {'max_depth': 5, 'n_estimators': 10, 'random_state': 0}\n",
            "Fold 4 [0.9130434782608695, 0.7199199538291678, 0.9915743575555376]\n",
            "Modelo: GB\n",
            "Melhor parametro: {'max_depth': 10, 'n_estimators': 10, 'random_state': 0}\n",
            "Fold 5 [0.9681159420289855, 0.9390073277771067, 0.9963215442206594]\n"
          ]
        },
        {
          "output_type": "display_data",
          "data": {
            "text/plain": [
              "<Figure size 432x288 with 0 Axes>"
            ]
          },
          "metadata": {}
        },
        {
          "output_type": "display_data",
          "data": {
            "text/plain": [
              "<Figure size 432x288 with 0 Axes>"
            ]
          },
          "metadata": {}
        },
        {
          "output_type": "display_data",
          "data": {
            "text/plain": [
              "<Figure size 432x288 with 0 Axes>"
            ]
          },
          "metadata": {}
        },
        {
          "output_type": "display_data",
          "data": {
            "text/plain": [
              "<Figure size 432x288 with 0 Axes>"
            ]
          },
          "metadata": {}
        },
        {
          "output_type": "display_data",
          "data": {
            "text/plain": [
              "<Figure size 432x288 with 0 Axes>"
            ]
          },
          "metadata": {}
        },
        {
          "output_type": "display_data",
          "data": {
            "text/plain": [
              "<Figure size 432x288 with 0 Axes>"
            ]
          },
          "metadata": {}
        },
        {
          "output_type": "display_data",
          "data": {
            "text/plain": [
              "<Figure size 432x288 with 0 Axes>"
            ]
          },
          "metadata": {}
        },
        {
          "output_type": "display_data",
          "data": {
            "text/plain": [
              "<Figure size 432x288 with 0 Axes>"
            ]
          },
          "metadata": {}
        },
        {
          "output_type": "display_data",
          "data": {
            "text/plain": [
              "<Figure size 432x288 with 0 Axes>"
            ]
          },
          "metadata": {}
        },
        {
          "output_type": "display_data",
          "data": {
            "text/plain": [
              "<Figure size 432x288 with 0 Axes>"
            ]
          },
          "metadata": {}
        },
        {
          "output_type": "display_data",
          "data": {
            "text/plain": [
              "<Figure size 432x288 with 0 Axes>"
            ]
          },
          "metadata": {}
        },
        {
          "output_type": "display_data",
          "data": {
            "text/plain": [
              "<Figure size 432x288 with 0 Axes>"
            ]
          },
          "metadata": {}
        },
        {
          "output_type": "display_data",
          "data": {
            "text/plain": [
              "<Figure size 432x288 with 0 Axes>"
            ]
          },
          "metadata": {}
        },
        {
          "output_type": "display_data",
          "data": {
            "text/plain": [
              "<Figure size 432x288 with 0 Axes>"
            ]
          },
          "metadata": {}
        },
        {
          "output_type": "display_data",
          "data": {
            "text/plain": [
              "<Figure size 432x288 with 0 Axes>"
            ]
          },
          "metadata": {}
        },
        {
          "output_type": "display_data",
          "data": {
            "text/plain": [
              "<Figure size 432x288 with 0 Axes>"
            ]
          },
          "metadata": {}
        },
        {
          "output_type": "display_data",
          "data": {
            "text/plain": [
              "<Figure size 432x288 with 0 Axes>"
            ]
          },
          "metadata": {}
        },
        {
          "output_type": "display_data",
          "data": {
            "text/plain": [
              "<Figure size 432x288 with 0 Axes>"
            ]
          },
          "metadata": {}
        },
        {
          "output_type": "display_data",
          "data": {
            "text/plain": [
              "<Figure size 432x288 with 0 Axes>"
            ]
          },
          "metadata": {}
        },
        {
          "output_type": "display_data",
          "data": {
            "text/plain": [
              "<Figure size 432x288 with 0 Axes>"
            ]
          },
          "metadata": {}
        },
        {
          "output_type": "display_data",
          "data": {
            "text/plain": [
              "<Figure size 432x288 with 0 Axes>"
            ]
          },
          "metadata": {}
        },
        {
          "output_type": "display_data",
          "data": {
            "text/plain": [
              "<Figure size 432x288 with 0 Axes>"
            ]
          },
          "metadata": {}
        },
        {
          "output_type": "display_data",
          "data": {
            "text/plain": [
              "<Figure size 432x288 with 0 Axes>"
            ]
          },
          "metadata": {}
        },
        {
          "output_type": "display_data",
          "data": {
            "text/plain": [
              "<Figure size 432x288 with 0 Axes>"
            ]
          },
          "metadata": {}
        },
        {
          "output_type": "display_data",
          "data": {
            "text/plain": [
              "<Figure size 432x288 with 0 Axes>"
            ]
          },
          "metadata": {}
        },
        {
          "output_type": "display_data",
          "data": {
            "text/plain": [
              "<Figure size 432x288 with 0 Axes>"
            ]
          },
          "metadata": {}
        },
        {
          "output_type": "display_data",
          "data": {
            "text/plain": [
              "<Figure size 432x288 with 0 Axes>"
            ]
          },
          "metadata": {}
        },
        {
          "output_type": "display_data",
          "data": {
            "text/plain": [
              "<Figure size 432x288 with 0 Axes>"
            ]
          },
          "metadata": {}
        },
        {
          "output_type": "display_data",
          "data": {
            "text/plain": [
              "<Figure size 432x288 with 0 Axes>"
            ]
          },
          "metadata": {}
        },
        {
          "output_type": "display_data",
          "data": {
            "text/plain": [
              "<Figure size 432x288 with 0 Axes>"
            ]
          },
          "metadata": {}
        },
        {
          "output_type": "display_data",
          "data": {
            "text/plain": [
              "<Figure size 432x288 with 0 Axes>"
            ]
          },
          "metadata": {}
        },
        {
          "output_type": "display_data",
          "data": {
            "text/plain": [
              "<Figure size 432x288 with 0 Axes>"
            ]
          },
          "metadata": {}
        },
        {
          "output_type": "display_data",
          "data": {
            "text/plain": [
              "<Figure size 432x288 with 0 Axes>"
            ]
          },
          "metadata": {}
        },
        {
          "output_type": "display_data",
          "data": {
            "text/plain": [
              "<Figure size 432x288 with 0 Axes>"
            ]
          },
          "metadata": {}
        },
        {
          "output_type": "display_data",
          "data": {
            "text/plain": [
              "<Figure size 432x288 with 0 Axes>"
            ]
          },
          "metadata": {}
        },
        {
          "output_type": "display_data",
          "data": {
            "text/plain": [
              "<Figure size 432x288 with 0 Axes>"
            ]
          },
          "metadata": {}
        },
        {
          "output_type": "display_data",
          "data": {
            "text/plain": [
              "<Figure size 432x288 with 0 Axes>"
            ]
          },
          "metadata": {}
        },
        {
          "output_type": "display_data",
          "data": {
            "text/plain": [
              "<Figure size 432x288 with 0 Axes>"
            ]
          },
          "metadata": {}
        },
        {
          "output_type": "display_data",
          "data": {
            "text/plain": [
              "<Figure size 432x288 with 0 Axes>"
            ]
          },
          "metadata": {}
        },
        {
          "output_type": "display_data",
          "data": {
            "text/plain": [
              "<Figure size 432x288 with 0 Axes>"
            ]
          },
          "metadata": {}
        }
      ],
      "source": [
        "data_results = pd.DataFrame([],columns=['Acurácia', 'F1-Score', 'ROC-AUC', 'Fold','Modelo','Parâmetros',\"Balanceamento\",\"N_feat\",\"Features\"])\n",
        "models = [\"KNN\", \"RL\", \"BNB\", \"DT\", \"PMC\", \"SVM\", \"RF\", \"GB\"]\n",
        "balances = ['Sub', 'Over', 'Hybrid','No']\n",
        "n_features = [len(features),16,11,6]\n",
        "\n",
        "for name_model in models:\n",
        "  results = []\n",
        "  for k in range(1,6):\n",
        "    for balan in balances:\n",
        "      if balan!=\"not\":\n",
        "        treino = balan_func(data[data.fold!=k])\n",
        "      else:\n",
        "        treino = data[data.fold!=k]\n",
        "    \n",
        "      x_treino = treino[features]\n",
        "      y_treino = treino['class']\n",
        "      model, best_parameters = grid_best_model(model=name_model, grid=grid)\n",
        "\n",
        "      for n_feat in n_features:\n",
        "\n",
        "        if n_feat!= len(features)\n",
        "          best_feat = select_feat(x_treino,y_treino,model,n_feat)\n",
        "          x_treino = treino[best_feat]\n",
        "        else:\n",
        "          best_feat = features\n",
        "\n",
        "\n",
        "        teste  = data[data.fold==k]\n",
        "        x_teste = teste[best_feat]\n",
        "        y_teste = teste['class']\n",
        "\n",
        "\n",
        "        model.fit(x_treino, y_treino)\n",
        "        y_pred= model.predict(x_teste)\n",
        "        y_pred_prob = model.predict_proba(x_teste)\n",
        "\n",
        "        print(\"Modelo:\", name_model)\n",
        "        print(\"Melhor parametro:\", best_parameters)         \n",
        "        print(\"Fold\", k, metrics(y_teste.values, y_pred, y_pred_prob))\n",
        "\n",
        "        plt.figure();\n",
        "        plot_confusion_matrix(model, x_teste, y_teste, normalize='true');\n",
        "        plt.title(name_model+'_f'+ str(k));\n",
        "        plt.savefig('/content/drive/MyDrive/AnalisePred_I/confusion_matrix_plus/'+ name_model+'_f'+ str(k) +'.pdf', format=\"pdf\", dpi=1000, bbox_inches=\"tight\");\n",
        "        plt.close();\n",
        "\n",
        "        result = metrics(y_teste, y_pred, y_pred_prob)\n",
        "        result.append(k)\n",
        "        result.append(name_model)\n",
        "        result.append(best_parameters)\n",
        "\n",
        "        result.append(balan)\n",
        "        result.append(len(best_features))\n",
        "        result.append(best_features)\n",
        "        results.append(result)\n",
        "        \n",
        "  data_results = pd.concat([data_results, pd.DataFrame(results,columns=['Acurácia', 'F1-Score', 'ROC-AUC', 'Fold','Modelo','Parâmetros','Balanceamento',\"N_feat\",\"Features\"])])\n",
        "  data_results.to_csv('/content/drive/MyDrive/AnalisePred_I/Car_results_plus'+ name_model + '.csv')\n"
      ]
    }
  ],
  "metadata": {
    "colab": {
      "name": "classifier_car.ipynb",
      "provenance": [],
      "include_colab_link": true
    },
    "kernelspec": {
      "display_name": "Python 3.7.6 ('base')",
      "language": "python",
      "name": "python3"
    },
    "language_info": {
      "codemirror_mode": {
        "name": "ipython",
        "version": 3
      },
      "file_extension": ".py",
      "mimetype": "text/x-python",
      "name": "python",
      "nbconvert_exporter": "python",
      "pygments_lexer": "ipython3",
      "version": "3.7.6"
    },
    "orig_nbformat": 4,
    "vscode": {
      "interpreter": {
        "hash": "1d3a245165631ca1151694c656e253180713a00b2aa4e363f5b597e7a7cbc838"
      }
    }
  },
  "nbformat": 4,
  "nbformat_minor": 0
}