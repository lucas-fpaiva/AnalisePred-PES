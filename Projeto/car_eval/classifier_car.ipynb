{
  "cells": [
    {
      "cell_type": "markdown",
      "metadata": {
        "id": "view-in-github",
        "colab_type": "text"
      },
      "source": [
        "<a href=\"https://colab.research.google.com/github/lucas-fpaiva/AnalisePred_I/blob/main/Projeto/car_eval/classifier_car.ipynb\" target=\"_parent\"><img src=\"https://colab.research.google.com/assets/colab-badge.svg\" alt=\"Open In Colab\"/></a>"
      ]
    },
    {
      "cell_type": "code",
      "source": [
        "from google.colab import drive\n",
        "drive.mount('/content/drive')"
      ],
      "metadata": {
        "colab": {
          "base_uri": "https://localhost:8080/"
        },
        "id": "kuMmcN4bIxmL",
        "outputId": "3d230de6-d34f-4ce0-92aa-78109e97b693"
      },
      "execution_count": 1,
      "outputs": [
        {
          "output_type": "stream",
          "name": "stdout",
          "text": [
            "Mounted at /content/drive\n"
          ]
        }
      ]
    },
    {
      "cell_type": "markdown",
      "metadata": {
        "id": "Csxq-QIV1xUD"
      },
      "source": [
        "# Avaliar se o preço de compra do veículo é aceitável\n"
      ]
    },
    {
      "cell_type": "code",
      "execution_count": 2,
      "metadata": {
        "id": "GqjIv-ud1xUa"
      },
      "outputs": [],
      "source": [
        "import pandas as pd\n",
        "import matplotlib.gridspec as gridspec\n",
        "import matplotlib.pyplot as plt\n",
        "import numpy as np\n",
        "import sklearn\n",
        "import seaborn as sns\n",
        "\n",
        "from scipy.io.arff import loadarff \n",
        "from scipy.io import arff\n",
        "\n",
        "from sklearn.tree import DecisionTreeClassifier\n",
        "from sklearn.ensemble import RandomForestClassifier\n",
        "from sklearn.model_selection import GridSearchCV, KFold, StratifiedKFold, cross_val_score\n",
        "from sklearn.neural_network import MLPClassifier\n",
        "from sklearn.neighbors import KNeighborsClassifier\n",
        "from sklearn.linear_model import LogisticRegression\n",
        "from sklearn.naive_bayes import GaussianNB, BernoulliNB\n",
        "from sklearn.svm import SVC\n",
        "from sklearn.ensemble import GradientBoostingClassifier\n",
        "\n",
        "from sklearn.metrics import precision_score as ps\n",
        "from sklearn.metrics import recall_score as rs\n",
        "from sklearn.metrics import f1_score as f1\n",
        "from sklearn.metrics import accuracy_score as acs\n",
        "from sklearn.metrics import auc, roc_auc_score\n",
        "\n",
        "\n",
        "from sklearn.metrics import plot_confusion_matrix\n",
        "\n",
        "from sklearn.datasets import make_classification\n",
        "from ast import literal_eval\n",
        "\n",
        "import warnings\n",
        "warnings.filterwarnings('ignore')\n"
      ]
    },
    {
      "cell_type": "code",
      "source": [
        "def grid_best_model (model=\"DT\", names=False, grid=\"\"):\n",
        "  #A função retorna o modelo com os melhores parametros, os melhores parametros e o melhor score\n",
        "  scoring = 'accuracy'\n",
        "\n",
        "  if names == True:\n",
        "    print(\"LR: LinearRegression\\nKNN: KNeighborsClassifier\\nMLPClassifier\\nDT: DecisionTreeClassifier\\nRF: RandomForestClassifier\",\n",
        "          \"\\nSVM: SupportVectorMachineClassifier\\nBNB: BernoulliNaiveBayes\\nADA: AdaBoostClassifier\\nGB: GradientBoostingClassifier\\n\")\n",
        "    \n",
        "  if model == \"DT\":\n",
        "    gs_cv = GridSearchCV(estimator=DecisionTreeClassifier(), param_grid=grid['DT'], cv= 5, scoring=scoring, n_jobs=-1)\n",
        "    gs_cv.fit(x_treino, y_treino)\n",
        "    return DecisionTreeClassifier(**gs_cv.best_params_).fit(x_treino, y_treino), gs_cv.best_params_\n",
        "      \n",
        "  if model==\"MLP\":\n",
        "    gs_cv = GridSearchCV(estimator=MLPClassifier(), param_grid=grid['MLP'], cv= 5, scoring=scoring, n_jobs=-1)\n",
        "    gs_cv.fit(x_treino, y_treino)\n",
        "    return MLPClassifier(**gs_cv.best_params_), gs_cv.best_params_\n",
        "    \n",
        "  if model == \"RF\":\n",
        "    gs_cv = GridSearchCV(estimator=RandomForestClassifier(), param_grid=grid['RF'], cv= 5, scoring=scoring, n_jobs=-1)\n",
        "    gs_cv.fit(x_treino, y_treino)\n",
        "    return RandomForestClassifier(**gs_cv.best_params_), gs_cv.best_params_\n",
        "\n",
        "  if model == \"KNN\":\n",
        "    gs_cv = GridSearchCV(estimator=KNeighborsClassifier(), param_grid=grid['KNN'], cv= 5, scoring=scoring, n_jobs=-1)\n",
        "    gs_cv.fit(x_treino, y_treino)\n",
        "    return KNeighborsClassifier(**gs_cv.best_params_), gs_cv.best_params_\n",
        "\n",
        "  if model == \"LR\":\n",
        "    gs_cv = GridSearchCV(estimator=LogisticRegression(), param_grid=grid['LR'], cv= 5, scoring=scoring, n_jobs=-1)\n",
        "    gs_cv.fit(x_treino, y_treino)\n",
        "    return LogisticRegression(**gs_cv.best_params_), gs_cv.best_params_\n",
        "\n",
        "  if model == \"BNB\":\n",
        "    gs_cv = GridSearchCV(estimator=BernoulliNB(), param_grid=grid['BNB'], cv= 5, scoring=scoring, n_jobs=-1)\n",
        "    gs_cv.fit(x_treino, y_treino)\n",
        "    return BernoulliNB(**gs_cv.best_params_).fit(x_treino, y_treino), gs_cv.best_params_\n",
        "\n",
        "  if model == \"SVM\":\n",
        "    gs_cv = GridSearchCV(estimator=SVC(), param_grid=grid['SVM'], cv= 5, scoring=scoring, n_jobs=-1)\n",
        "    gs_cv.fit(x_treino, y_treino)\n",
        "    return SVC(**gs_cv.best_params_).fit(x_treino, y_treino), gs_cv.best_params_\n",
        "\n",
        "  if model == \"GBC\":\n",
        "    gs_cv = GridSearchCV(estimator=GradientBoostingClassifier(), param_grid=grid['GBC'], cv= 5, scoring=scoring, n_jobs=-1)\n",
        "    gs_cv.fit(x_treino, y_treino)\n",
        "    return GradientBoostingClassifier(**gs_cv.best_params_).fit(x_treino, y_treino), gs_cv.best_params_\n",
        "        \n",
        "  return print(\"LR: LinearRegression\\nKNN: KNeighborsClassifier\\nMLPClassifier\\nDT: DecisionTreeClassifier\\nRF: RandomForestClassifier\",\n",
        "              \"\\nSVM: SupportVectorMachineClassifier\\nBNB: BernoulliNaiveBayes\\nADA: AdaBoostClassifier\\nGB: GradientBoostingClassifier\\n\")\n",
        "  \n",
        "#Parâmetros do Grid\n",
        "grid = {\n",
        "    'RF':{ \n",
        "        'n_estimators': [100],\n",
        "        'max_depth' : range(5,30,2),\n",
        "        'criterion' :['gini', 'entropy'],\n",
        "        'random_state' : [0]},\n",
        "\n",
        "    'MLP':{\n",
        "        'hidden_layer_sizes': range(5,30,2),\n",
        "        'max_iter': [200],\n",
        "        'activation' : ['relu', 'tanh'],\n",
        "        'random_state' : [0]},\n",
        "\n",
        "    'DT':{\n",
        "        'max_depth': range(5,30,2),\n",
        "        'min_samples_leaf': [1,2,3,4,5],\n",
        "        'criterion' :['gini', 'entropy'],\n",
        "        'random_state' : [0]},\n",
        "\n",
        "    'KNN':{\n",
        "        'n_neighbors': range(5,30,2),\n",
        "        'weights': ['uniform', 'distance'],\n",
        "        'metric' : ['manhattan', 'euclidean']},\n",
        "\n",
        "    'LR':{\n",
        "        'fit_intercept' : [True, False],\n",
        "        'random_state' : [0]},\n",
        "\n",
        "    'BNB':{\n",
        "        'alpha' : np.arange(0.0, 1.0, 0.1)},\n",
        "    \n",
        "    'SVM':{\n",
        "        'kernel' : ['linear', 'rbf'],\n",
        "        'max_iter' : [-1, 1, 2],\n",
        "        'class_weight' : ['None', 'balanced'],\n",
        "        'probability' : [True],\n",
        "        'random_state' : [0]},\n",
        "    \n",
        "    'GBC':{\n",
        "        'n_estimators': [100],\n",
        "        'max_depth' : range(5,30,2),\n",
        "        'random_state' : [0]}\n",
        "}"
      ],
      "metadata": {
        "id": "7oTeWB0yLtxT"
      },
      "execution_count": 8,
      "outputs": []
    },
    {
      "cell_type": "code",
      "source": [
        "def metrics (y_true, y_pred, y_pred_prob):\n",
        "  return [acs(y_true, y_pred), ps(y_true, y_pred, average = 'weighted'), f1(y_true, y_pred, average = 'weighted'),\n",
        "          rs(y_true, y_pred, average = 'weighted'), roc_auc_score(y_true, y_pred_prob, average = 'weighted', multi_class = 'ovr')]"
      ],
      "metadata": {
        "id": "W_HPPnYUAu6f"
      },
      "execution_count": 4,
      "outputs": []
    },
    {
      "cell_type": "markdown",
      "source": [
        "## Lendo o Dataset"
      ],
      "metadata": {
        "id": "FI2B053-WNjz"
      }
    },
    {
      "cell_type": "code",
      "source": [
        "data = pd.read_csv('https://raw.githubusercontent.com/lucas-fpaiva/AnalisePred_I/main/Projeto/car_eval/data_processed.csv', index_col=0)\n",
        "features = data.columns[1:-1]"
      ],
      "metadata": {
        "id": "KfQW75l1XIiJ"
      },
      "execution_count": 5,
      "outputs": []
    },
    {
      "cell_type": "code",
      "source": [
        "data.head()"
      ],
      "metadata": {
        "id": "VIBEEusnx7XW",
        "outputId": "98b4a827-8e76-4e50-ef34-6af2cdb0f682",
        "colab": {
          "base_uri": "https://localhost:8080/",
          "height": 299
        }
      },
      "execution_count": 6,
      "outputs": [
        {
          "output_type": "execute_result",
          "data": {
            "text/plain": [
              "   class  buying_price_vhigh  buying_price_high  buying_price_med  \\\n",
              "0      0                   1                  0                 0   \n",
              "1      0                   1                  0                 0   \n",
              "2      0                   1                  0                 0   \n",
              "3      0                   1                  0                 0   \n",
              "4      0                   1                  0                 0   \n",
              "\n",
              "   buying_price_low  maintenance_price_vhigh  maintenance_price_high  \\\n",
              "0                 0                        1                       0   \n",
              "1                 0                        1                       0   \n",
              "2                 0                        1                       0   \n",
              "3                 0                        1                       0   \n",
              "4                 0                        1                       0   \n",
              "\n",
              "   maintenance_price_med  maintenance_price_low  doors_2  ...  persons_4  \\\n",
              "0                      0                      0        1  ...          0   \n",
              "1                      0                      0        1  ...          0   \n",
              "2                      0                      0        1  ...          0   \n",
              "3                      0                      0        1  ...          0   \n",
              "4                      0                      0        1  ...          0   \n",
              "\n",
              "   persons_more  luggage_boot_size_small  luggage_boot_size_med  \\\n",
              "0             0                        1                      0   \n",
              "1             0                        1                      0   \n",
              "2             0                        1                      0   \n",
              "3             0                        0                      1   \n",
              "4             0                        0                      1   \n",
              "\n",
              "   luggage_boot_size_big  safety_low  safety_med  safety_high  id  fold  \n",
              "0                      0           1           0            0   0     5  \n",
              "1                      0           0           1            0   1     5  \n",
              "2                      0           0           0            1   2     5  \n",
              "3                      0           1           0            0   3     4  \n",
              "4                      0           0           1            0   4     2  \n",
              "\n",
              "[5 rows x 24 columns]"
            ],
            "text/html": [
              "\n",
              "  <div id=\"df-b64727cf-df1b-45ce-b097-f3067addbbbc\">\n",
              "    <div class=\"colab-df-container\">\n",
              "      <div>\n",
              "<style scoped>\n",
              "    .dataframe tbody tr th:only-of-type {\n",
              "        vertical-align: middle;\n",
              "    }\n",
              "\n",
              "    .dataframe tbody tr th {\n",
              "        vertical-align: top;\n",
              "    }\n",
              "\n",
              "    .dataframe thead th {\n",
              "        text-align: right;\n",
              "    }\n",
              "</style>\n",
              "<table border=\"1\" class=\"dataframe\">\n",
              "  <thead>\n",
              "    <tr style=\"text-align: right;\">\n",
              "      <th></th>\n",
              "      <th>class</th>\n",
              "      <th>buying_price_vhigh</th>\n",
              "      <th>buying_price_high</th>\n",
              "      <th>buying_price_med</th>\n",
              "      <th>buying_price_low</th>\n",
              "      <th>maintenance_price_vhigh</th>\n",
              "      <th>maintenance_price_high</th>\n",
              "      <th>maintenance_price_med</th>\n",
              "      <th>maintenance_price_low</th>\n",
              "      <th>doors_2</th>\n",
              "      <th>...</th>\n",
              "      <th>persons_4</th>\n",
              "      <th>persons_more</th>\n",
              "      <th>luggage_boot_size_small</th>\n",
              "      <th>luggage_boot_size_med</th>\n",
              "      <th>luggage_boot_size_big</th>\n",
              "      <th>safety_low</th>\n",
              "      <th>safety_med</th>\n",
              "      <th>safety_high</th>\n",
              "      <th>id</th>\n",
              "      <th>fold</th>\n",
              "    </tr>\n",
              "  </thead>\n",
              "  <tbody>\n",
              "    <tr>\n",
              "      <th>0</th>\n",
              "      <td>0</td>\n",
              "      <td>1</td>\n",
              "      <td>0</td>\n",
              "      <td>0</td>\n",
              "      <td>0</td>\n",
              "      <td>1</td>\n",
              "      <td>0</td>\n",
              "      <td>0</td>\n",
              "      <td>0</td>\n",
              "      <td>1</td>\n",
              "      <td>...</td>\n",
              "      <td>0</td>\n",
              "      <td>0</td>\n",
              "      <td>1</td>\n",
              "      <td>0</td>\n",
              "      <td>0</td>\n",
              "      <td>1</td>\n",
              "      <td>0</td>\n",
              "      <td>0</td>\n",
              "      <td>0</td>\n",
              "      <td>5</td>\n",
              "    </tr>\n",
              "    <tr>\n",
              "      <th>1</th>\n",
              "      <td>0</td>\n",
              "      <td>1</td>\n",
              "      <td>0</td>\n",
              "      <td>0</td>\n",
              "      <td>0</td>\n",
              "      <td>1</td>\n",
              "      <td>0</td>\n",
              "      <td>0</td>\n",
              "      <td>0</td>\n",
              "      <td>1</td>\n",
              "      <td>...</td>\n",
              "      <td>0</td>\n",
              "      <td>0</td>\n",
              "      <td>1</td>\n",
              "      <td>0</td>\n",
              "      <td>0</td>\n",
              "      <td>0</td>\n",
              "      <td>1</td>\n",
              "      <td>0</td>\n",
              "      <td>1</td>\n",
              "      <td>5</td>\n",
              "    </tr>\n",
              "    <tr>\n",
              "      <th>2</th>\n",
              "      <td>0</td>\n",
              "      <td>1</td>\n",
              "      <td>0</td>\n",
              "      <td>0</td>\n",
              "      <td>0</td>\n",
              "      <td>1</td>\n",
              "      <td>0</td>\n",
              "      <td>0</td>\n",
              "      <td>0</td>\n",
              "      <td>1</td>\n",
              "      <td>...</td>\n",
              "      <td>0</td>\n",
              "      <td>0</td>\n",
              "      <td>1</td>\n",
              "      <td>0</td>\n",
              "      <td>0</td>\n",
              "      <td>0</td>\n",
              "      <td>0</td>\n",
              "      <td>1</td>\n",
              "      <td>2</td>\n",
              "      <td>5</td>\n",
              "    </tr>\n",
              "    <tr>\n",
              "      <th>3</th>\n",
              "      <td>0</td>\n",
              "      <td>1</td>\n",
              "      <td>0</td>\n",
              "      <td>0</td>\n",
              "      <td>0</td>\n",
              "      <td>1</td>\n",
              "      <td>0</td>\n",
              "      <td>0</td>\n",
              "      <td>0</td>\n",
              "      <td>1</td>\n",
              "      <td>...</td>\n",
              "      <td>0</td>\n",
              "      <td>0</td>\n",
              "      <td>0</td>\n",
              "      <td>1</td>\n",
              "      <td>0</td>\n",
              "      <td>1</td>\n",
              "      <td>0</td>\n",
              "      <td>0</td>\n",
              "      <td>3</td>\n",
              "      <td>4</td>\n",
              "    </tr>\n",
              "    <tr>\n",
              "      <th>4</th>\n",
              "      <td>0</td>\n",
              "      <td>1</td>\n",
              "      <td>0</td>\n",
              "      <td>0</td>\n",
              "      <td>0</td>\n",
              "      <td>1</td>\n",
              "      <td>0</td>\n",
              "      <td>0</td>\n",
              "      <td>0</td>\n",
              "      <td>1</td>\n",
              "      <td>...</td>\n",
              "      <td>0</td>\n",
              "      <td>0</td>\n",
              "      <td>0</td>\n",
              "      <td>1</td>\n",
              "      <td>0</td>\n",
              "      <td>0</td>\n",
              "      <td>1</td>\n",
              "      <td>0</td>\n",
              "      <td>4</td>\n",
              "      <td>2</td>\n",
              "    </tr>\n",
              "  </tbody>\n",
              "</table>\n",
              "<p>5 rows × 24 columns</p>\n",
              "</div>\n",
              "      <button class=\"colab-df-convert\" onclick=\"convertToInteractive('df-b64727cf-df1b-45ce-b097-f3067addbbbc')\"\n",
              "              title=\"Convert this dataframe to an interactive table.\"\n",
              "              style=\"display:none;\">\n",
              "        \n",
              "  <svg xmlns=\"http://www.w3.org/2000/svg\" height=\"24px\"viewBox=\"0 0 24 24\"\n",
              "       width=\"24px\">\n",
              "    <path d=\"M0 0h24v24H0V0z\" fill=\"none\"/>\n",
              "    <path d=\"M18.56 5.44l.94 2.06.94-2.06 2.06-.94-2.06-.94-.94-2.06-.94 2.06-2.06.94zm-11 1L8.5 8.5l.94-2.06 2.06-.94-2.06-.94L8.5 2.5l-.94 2.06-2.06.94zm10 10l.94 2.06.94-2.06 2.06-.94-2.06-.94-.94-2.06-.94 2.06-2.06.94z\"/><path d=\"M17.41 7.96l-1.37-1.37c-.4-.4-.92-.59-1.43-.59-.52 0-1.04.2-1.43.59L10.3 9.45l-7.72 7.72c-.78.78-.78 2.05 0 2.83L4 21.41c.39.39.9.59 1.41.59.51 0 1.02-.2 1.41-.59l7.78-7.78 2.81-2.81c.8-.78.8-2.07 0-2.86zM5.41 20L4 18.59l7.72-7.72 1.47 1.35L5.41 20z\"/>\n",
              "  </svg>\n",
              "      </button>\n",
              "      \n",
              "  <style>\n",
              "    .colab-df-container {\n",
              "      display:flex;\n",
              "      flex-wrap:wrap;\n",
              "      gap: 12px;\n",
              "    }\n",
              "\n",
              "    .colab-df-convert {\n",
              "      background-color: #E8F0FE;\n",
              "      border: none;\n",
              "      border-radius: 50%;\n",
              "      cursor: pointer;\n",
              "      display: none;\n",
              "      fill: #1967D2;\n",
              "      height: 32px;\n",
              "      padding: 0 0 0 0;\n",
              "      width: 32px;\n",
              "    }\n",
              "\n",
              "    .colab-df-convert:hover {\n",
              "      background-color: #E2EBFA;\n",
              "      box-shadow: 0px 1px 2px rgba(60, 64, 67, 0.3), 0px 1px 3px 1px rgba(60, 64, 67, 0.15);\n",
              "      fill: #174EA6;\n",
              "    }\n",
              "\n",
              "    [theme=dark] .colab-df-convert {\n",
              "      background-color: #3B4455;\n",
              "      fill: #D2E3FC;\n",
              "    }\n",
              "\n",
              "    [theme=dark] .colab-df-convert:hover {\n",
              "      background-color: #434B5C;\n",
              "      box-shadow: 0px 1px 3px 1px rgba(0, 0, 0, 0.15);\n",
              "      filter: drop-shadow(0px 1px 2px rgba(0, 0, 0, 0.3));\n",
              "      fill: #FFFFFF;\n",
              "    }\n",
              "  </style>\n",
              "\n",
              "      <script>\n",
              "        const buttonEl =\n",
              "          document.querySelector('#df-b64727cf-df1b-45ce-b097-f3067addbbbc button.colab-df-convert');\n",
              "        buttonEl.style.display =\n",
              "          google.colab.kernel.accessAllowed ? 'block' : 'none';\n",
              "\n",
              "        async function convertToInteractive(key) {\n",
              "          const element = document.querySelector('#df-b64727cf-df1b-45ce-b097-f3067addbbbc');\n",
              "          const dataTable =\n",
              "            await google.colab.kernel.invokeFunction('convertToInteractive',\n",
              "                                                     [key], {});\n",
              "          if (!dataTable) return;\n",
              "\n",
              "          const docLinkHtml = 'Like what you see? Visit the ' +\n",
              "            '<a target=\"_blank\" href=https://colab.research.google.com/notebooks/data_table.ipynb>data table notebook</a>'\n",
              "            + ' to learn more about interactive tables.';\n",
              "          element.innerHTML = '';\n",
              "          dataTable['output_type'] = 'display_data';\n",
              "          await google.colab.output.renderOutput(dataTable, element);\n",
              "          const docLink = document.createElement('div');\n",
              "          docLink.innerHTML = docLinkHtml;\n",
              "          element.appendChild(docLink);\n",
              "        }\n",
              "      </script>\n",
              "    </div>\n",
              "  </div>\n",
              "  "
            ]
          },
          "metadata": {},
          "execution_count": 6
        }
      ]
    },
    {
      "cell_type": "markdown",
      "source": [
        "## GridSearch dos Modelos"
      ],
      "metadata": {
        "id": "son5ymSm4A_a"
      }
    },
    {
      "cell_type": "code",
      "execution_count": 12,
      "metadata": {
        "id": "2nCdUEwp1xUb",
        "outputId": "e2995a96-a5ce-467c-b910-9003e0606a6e",
        "colab": {
          "base_uri": "https://localhost:8080/",
          "height": 1000
        }
      },
      "outputs": [
        {
          "output_type": "stream",
          "name": "stdout",
          "text": [
            "Modelo: LR\n",
            "Melhor parametro: {'fit_intercept': False, 'random_state': 0}\n",
            "Fold 1 [0.8815028901734104, 0.8749685850716261, 0.872208430917565, 0.8815028901734104, 0.9842292419400387]\n",
            "Modelo: LR\n",
            "Melhor parametro: {'fit_intercept': False, 'random_state': 0}\n",
            "Fold 2 [0.9161849710982659, 0.9188381726141418, 0.9129899548974694, 0.9161849710982659, 0.9889393159313634]\n",
            "Modelo: LR\n",
            "Melhor parametro: {'fit_intercept': False, 'random_state': 0}\n",
            "Fold 3 [0.8786127167630058, 0.8830473182671598, 0.8774770215080528, 0.8786127167630058, 0.9771141921815172]\n",
            "Modelo: LR\n",
            "Melhor parametro: {'fit_intercept': False, 'random_state': 0}\n",
            "Fold 4 [0.9014492753623189, 0.9017523917779671, 0.8995234144992598, 0.9014492753623189, 0.9832696422680953]\n",
            "Modelo: LR\n",
            "Melhor parametro: {'fit_intercept': False, 'random_state': 0}\n",
            "Fold 5 [0.8956521739130435, 0.9033692555431685, 0.8932749506948043, 0.8956521739130435, 0.9868406619709863]\n",
            "Modelo: KNN\n",
            "Melhor parametro: {'metric': 'euclidean', 'n_neighbors': 29, 'weights': 'uniform'}\n",
            "Fold 1 [0.6965317919075145, 0.48858172070034345, 0.5743124144518518, 0.6965317919075145, 0.5518532539353079]\n",
            "Modelo: KNN\n",
            "Melhor parametro: {'metric': 'manhattan', 'n_neighbors': 27, 'weights': 'uniform'}\n",
            "Fold 2 [0.6907514450867052, 0.4873523315188999, 0.5714935032854108, 0.6907514450867052, 0.6336422359633567]\n",
            "Modelo: KNN\n",
            "Melhor parametro: {'metric': 'euclidean', 'n_neighbors': 29, 'weights': 'uniform'}\n",
            "Fold 3 [0.6820809248554913, 0.48548112886773204, 0.567228810360924, 0.6820809248554913, 0.5692347857418576]\n",
            "Modelo: KNN\n",
            "Melhor parametro: {'metric': 'euclidean', 'n_neighbors': 29, 'weights': 'uniform'}\n",
            "Fold 4 [0.6985507246376812, 0.4914223120997641, 0.5769599841717367, 0.6985507246376812, 0.5402823044728955]\n",
            "Modelo: KNN\n",
            "Melhor parametro: {'metric': 'euclidean', 'n_neighbors': 29, 'weights': 'uniform'}\n",
            "Fold 5 [0.6869565217391305, 0.4889514066496164, 0.5712834304497236, 0.6869565217391305, 0.5727942351429596]\n",
            "Modelo: MLP\n",
            "Melhor parametro: {'activation': 'tanh', 'hidden_layer_sizes': 23, 'max_iter': 200, 'random_state': 0}\n",
            "Fold 1 [0.9335260115606936, 0.9487647729890758, 0.9238880257000883, 0.9335260115606936, 0.9928711729045948]\n",
            "Modelo: MLP\n",
            "Melhor parametro: {'activation': 'tanh', 'hidden_layer_sizes': 29, 'max_iter': 200, 'random_state': 0}\n",
            "Fold 2 [0.9046242774566474, 0.8726522533557873, 0.8883070862235819, 0.9046242774566474, 0.9948134523437313]\n",
            "Modelo: MLP\n",
            "Melhor parametro: {'activation': 'tanh', 'hidden_layer_sizes': 17, 'max_iter': 200, 'random_state': 0}\n",
            "Fold 3 [0.8901734104046243, 0.8852609108908253, 0.8817896137260298, 0.8901734104046243, 0.9864025862890512]\n",
            "Modelo: MLP\n",
            "Melhor parametro: {'activation': 'tanh', 'hidden_layer_sizes': 5, 'max_iter': 200, 'random_state': 0}\n",
            "Fold 4 [0.855072463768116, 0.7964448423880126, 0.824271466417329, 0.855072463768116, 0.9600802560050878]\n",
            "Modelo: MLP\n",
            "Melhor parametro: {'activation': 'tanh', 'hidden_layer_sizes': 17, 'max_iter': 200, 'random_state': 0}\n",
            "Fold 5 [0.9159420289855073, 0.8848478499826028, 0.8982976114574195, 0.9159420289855073, 0.9932174864560667]\n",
            "Modelo: DT\n",
            "Melhor parametro: {'criterion': 'entropy', 'max_depth': 11, 'min_samples_leaf': 3, 'random_state': 0}\n",
            "Fold 1 [0.9710982658959537, 0.9696943773094232, 0.9672054704725583, 0.9710982658959537, 0.9913558422416253]\n",
            "Modelo: DT\n",
            "Melhor parametro: {'criterion': 'gini', 'max_depth': 15, 'min_samples_leaf': 1, 'random_state': 0}\n",
            "Fold 2 [0.9855491329479769, 0.9870792247534851, 0.9858988783604891, 0.9855491329479769, 0.9917644555918841]\n",
            "Modelo: DT\n",
            "Melhor parametro: {'criterion': 'entropy', 'max_depth': 11, 'min_samples_leaf': 3, 'random_state': 0}\n",
            "Fold 3 [0.9566473988439307, 0.9557157607855558, 0.9557197165903439, 0.9566473988439307, 0.9767137613781081]\n",
            "Modelo: DT\n",
            "Melhor parametro: {'criterion': 'gini', 'max_depth': 13, 'min_samples_leaf': 1, 'random_state': 0}\n",
            "Fold 4 [0.9768115942028985, 0.977178499357916, 0.9768442958008177, 0.9768115942028985, 0.9761085349949283]\n",
            "Modelo: DT\n",
            "Melhor parametro: {'criterion': 'entropy', 'max_depth': 11, 'min_samples_leaf': 1, 'random_state': 0}\n",
            "Fold 5 [0.9797101449275363, 0.9797101449275363, 0.9797101449275363, 0.9797101449275363, 0.98169390592123]\n",
            "Modelo: RF\n",
            "Melhor parametro: {'criterion': 'gini', 'max_depth': 11, 'n_estimators': 100, 'random_state': 0}\n",
            "Fold 1 [0.9653179190751445, 0.9666121718144839, 0.9655503354351321, 0.9653179190751445, 0.9985026339657911]\n",
            "Modelo: RF\n",
            "Melhor parametro: {'criterion': 'gini', 'max_depth': 17, 'n_estimators': 100, 'random_state': 0}\n",
            "Fold 2 [0.9624277456647399, 0.9651464921228607, 0.9632907540611645, 0.9624277456647399, 0.9982141291906375]\n",
            "Modelo: RF\n",
            "Melhor parametro: {'criterion': 'entropy', 'max_depth': 17, 'n_estimators': 100, 'random_state': 0}\n",
            "Fold 3 [0.9682080924855492, 0.9698390747425724, 0.9684678826975045, 0.9682080924855492, 0.9962107990526756]\n",
            "Modelo: RF\n",
            "Melhor parametro: {'criterion': 'entropy', 'max_depth': 15, 'n_estimators': 100, 'random_state': 0}\n",
            "Fold 4 [0.9681159420289855, 0.9708459723626559, 0.967706474958346, 0.9681159420289855, 0.9997574384279428]\n",
            "Modelo: RF\n",
            "Melhor parametro: {'criterion': 'entropy', 'max_depth': 15, 'n_estimators': 100, 'random_state': 0}\n",
            "Fold 5 [0.9681159420289855, 0.9711238448782559, 0.9684367030699379, 0.9681159420289855, 0.9984888975370113]\n",
            "Modelo: BNB\n",
            "Melhor parametro: {'alpha': 0.0}\n",
            "Fold 1 [0.869942196531792, 0.888670520231214, 0.8682758520005244, 0.869942196531792, 0.975561339248424]\n",
            "Modelo: BNB\n",
            "Melhor parametro: {'alpha': 0.0}\n",
            "Fold 2 [0.8526011560693642, 0.8761802344921347, 0.8587319615828404, 0.8526011560693642, 0.9743380246976815]\n",
            "Modelo: BNB\n",
            "Melhor parametro: {'alpha': 0.0}\n",
            "Fold 3 [0.8526011560693642, 0.8696749983761857, 0.8554359356659919, 0.8526011560693642, 0.9695728010653484]\n",
            "Modelo: BNB\n",
            "Melhor parametro: {'alpha': 0.0}\n",
            "Fold 4 [0.8753623188405797, 0.887146412685667, 0.8789431165886016, 0.8753623188405797, 0.9713125303517453]\n",
            "Modelo: BNB\n",
            "Melhor parametro: {'alpha': 0.0}\n",
            "Fold 5 [0.8695652173913043, 0.8907900265557848, 0.8745630588300615, 0.8695652173913043, 0.9748618630671582]\n",
            "Modelo: SVC\n",
            "Melhor parametro: {'class_weight': 'balanced', 'kernel': 'linear', 'max_iter': -1, 'probability': True, 'random_state': 0}\n",
            "Fold 1 [0.9450867052023122, 0.9523910720357506, 0.9467839554937164, 0.9450867052023122, 0.9876035350647178]\n",
            "Modelo: SVC\n",
            "Melhor parametro: {'class_weight': 'balanced', 'kernel': 'linear', 'max_iter': -1, 'probability': True, 'random_state': 0}\n",
            "Fold 2 [0.9132947976878613, 0.929850300587802, 0.917646133920607, 0.9132947976878613, 0.9914437507651167]\n",
            "Modelo: SVC\n",
            "Melhor parametro: {'class_weight': 'balanced', 'kernel': 'linear', 'max_iter': -1, 'probability': True, 'random_state': 0}\n",
            "Fold 3 [0.9075144508670521, 0.920257618046007, 0.9106273193386623, 0.9075144508670521, 0.9845398572509187]\n",
            "Modelo: SVC\n",
            "Melhor parametro: {'class_weight': 'balanced', 'kernel': 'linear', 'max_iter': -1, 'probability': True, 'random_state': 0}\n",
            "Fold 4 [0.9159420289855073, 0.9344710247422259, 0.9194890529192369, 0.9159420289855073, 0.9897546575736107]\n",
            "Modelo: SVC\n",
            "Melhor parametro: {'class_weight': 'balanced', 'kernel': 'linear', 'max_iter': -1, 'probability': True, 'random_state': 0}\n",
            "Fold 5 [0.9217391304347826, 0.937209550289937, 0.9252549754221995, 0.9217391304347826, 0.9883149033209889]\n",
            "Modelo: GBC\n",
            "Melhor parametro: {'max_depth': 5, 'n_estimators': 100, 'random_state': 0}\n",
            "Fold 1 [0.9739884393063584, 0.9729889210019267, 0.972458397944989, 0.9739884393063584, 0.9991314399139848]\n",
            "Modelo: GBC\n",
            "Melhor parametro: {'max_depth': 5, 'n_estimators': 100, 'random_state': 0}\n",
            "Fold 2 [0.9855491329479769, 0.9858371751967735, 0.985459630223316, 0.9855491329479769, 0.9989780446754248]\n",
            "Modelo: GBC\n",
            "Melhor parametro: {'max_depth': 5, 'n_estimators': 100, 'random_state': 0}\n",
            "Fold 3 [0.9653179190751445, 0.966463666391412, 0.9657959311477597, 0.9653179190751445, 0.9983250619286824]\n",
            "Modelo: GBC\n",
            "Melhor parametro: {'max_depth': 7, 'n_estimators': 100, 'random_state': 0}\n",
            "Fold 4 [0.9855072463768116, 0.9863909508660305, 0.9855920604140458, 0.9855072463768116, 0.9987682071569862]\n",
            "Modelo: GBC\n",
            "Melhor parametro: {'max_depth': 5, 'n_estimators': 100, 'random_state': 0}\n",
            "Fold 5 [0.9797101449275363, 0.9798486918097237, 0.9797674499331342, 0.9797101449275363, 0.9992294529460628]\n"
          ]
        },
        {
          "output_type": "display_data",
          "data": {
            "text/plain": [
              "<Figure size 432x288 with 0 Axes>"
            ]
          },
          "metadata": {}
        },
        {
          "output_type": "display_data",
          "data": {
            "text/plain": [
              "<Figure size 432x288 with 0 Axes>"
            ]
          },
          "metadata": {}
        },
        {
          "output_type": "display_data",
          "data": {
            "text/plain": [
              "<Figure size 432x288 with 0 Axes>"
            ]
          },
          "metadata": {}
        },
        {
          "output_type": "display_data",
          "data": {
            "text/plain": [
              "<Figure size 432x288 with 0 Axes>"
            ]
          },
          "metadata": {}
        },
        {
          "output_type": "display_data",
          "data": {
            "text/plain": [
              "<Figure size 432x288 with 0 Axes>"
            ]
          },
          "metadata": {}
        },
        {
          "output_type": "display_data",
          "data": {
            "text/plain": [
              "<Figure size 432x288 with 0 Axes>"
            ]
          },
          "metadata": {}
        },
        {
          "output_type": "display_data",
          "data": {
            "text/plain": [
              "<Figure size 432x288 with 0 Axes>"
            ]
          },
          "metadata": {}
        },
        {
          "output_type": "display_data",
          "data": {
            "text/plain": [
              "<Figure size 432x288 with 0 Axes>"
            ]
          },
          "metadata": {}
        },
        {
          "output_type": "display_data",
          "data": {
            "text/plain": [
              "<Figure size 432x288 with 0 Axes>"
            ]
          },
          "metadata": {}
        },
        {
          "output_type": "display_data",
          "data": {
            "text/plain": [
              "<Figure size 432x288 with 0 Axes>"
            ]
          },
          "metadata": {}
        },
        {
          "output_type": "display_data",
          "data": {
            "text/plain": [
              "<Figure size 432x288 with 0 Axes>"
            ]
          },
          "metadata": {}
        },
        {
          "output_type": "display_data",
          "data": {
            "text/plain": [
              "<Figure size 432x288 with 0 Axes>"
            ]
          },
          "metadata": {}
        },
        {
          "output_type": "display_data",
          "data": {
            "text/plain": [
              "<Figure size 432x288 with 0 Axes>"
            ]
          },
          "metadata": {}
        },
        {
          "output_type": "display_data",
          "data": {
            "text/plain": [
              "<Figure size 432x288 with 0 Axes>"
            ]
          },
          "metadata": {}
        },
        {
          "output_type": "display_data",
          "data": {
            "text/plain": [
              "<Figure size 432x288 with 0 Axes>"
            ]
          },
          "metadata": {}
        },
        {
          "output_type": "display_data",
          "data": {
            "text/plain": [
              "<Figure size 432x288 with 0 Axes>"
            ]
          },
          "metadata": {}
        },
        {
          "output_type": "display_data",
          "data": {
            "text/plain": [
              "<Figure size 432x288 with 0 Axes>"
            ]
          },
          "metadata": {}
        },
        {
          "output_type": "display_data",
          "data": {
            "text/plain": [
              "<Figure size 432x288 with 0 Axes>"
            ]
          },
          "metadata": {}
        },
        {
          "output_type": "display_data",
          "data": {
            "text/plain": [
              "<Figure size 432x288 with 0 Axes>"
            ]
          },
          "metadata": {}
        },
        {
          "output_type": "display_data",
          "data": {
            "text/plain": [
              "<Figure size 432x288 with 0 Axes>"
            ]
          },
          "metadata": {}
        },
        {
          "output_type": "display_data",
          "data": {
            "text/plain": [
              "<Figure size 432x288 with 0 Axes>"
            ]
          },
          "metadata": {}
        },
        {
          "output_type": "display_data",
          "data": {
            "text/plain": [
              "<Figure size 432x288 with 0 Axes>"
            ]
          },
          "metadata": {}
        },
        {
          "output_type": "display_data",
          "data": {
            "text/plain": [
              "<Figure size 432x288 with 0 Axes>"
            ]
          },
          "metadata": {}
        },
        {
          "output_type": "display_data",
          "data": {
            "text/plain": [
              "<Figure size 432x288 with 0 Axes>"
            ]
          },
          "metadata": {}
        },
        {
          "output_type": "display_data",
          "data": {
            "text/plain": [
              "<Figure size 432x288 with 0 Axes>"
            ]
          },
          "metadata": {}
        },
        {
          "output_type": "display_data",
          "data": {
            "text/plain": [
              "<Figure size 432x288 with 0 Axes>"
            ]
          },
          "metadata": {}
        },
        {
          "output_type": "display_data",
          "data": {
            "text/plain": [
              "<Figure size 432x288 with 0 Axes>"
            ]
          },
          "metadata": {}
        },
        {
          "output_type": "display_data",
          "data": {
            "text/plain": [
              "<Figure size 432x288 with 0 Axes>"
            ]
          },
          "metadata": {}
        },
        {
          "output_type": "display_data",
          "data": {
            "text/plain": [
              "<Figure size 432x288 with 0 Axes>"
            ]
          },
          "metadata": {}
        },
        {
          "output_type": "display_data",
          "data": {
            "text/plain": [
              "<Figure size 432x288 with 0 Axes>"
            ]
          },
          "metadata": {}
        },
        {
          "output_type": "display_data",
          "data": {
            "text/plain": [
              "<Figure size 432x288 with 0 Axes>"
            ]
          },
          "metadata": {}
        },
        {
          "output_type": "display_data",
          "data": {
            "text/plain": [
              "<Figure size 432x288 with 0 Axes>"
            ]
          },
          "metadata": {}
        },
        {
          "output_type": "display_data",
          "data": {
            "text/plain": [
              "<Figure size 432x288 with 0 Axes>"
            ]
          },
          "metadata": {}
        },
        {
          "output_type": "display_data",
          "data": {
            "text/plain": [
              "<Figure size 432x288 with 0 Axes>"
            ]
          },
          "metadata": {}
        },
        {
          "output_type": "display_data",
          "data": {
            "text/plain": [
              "<Figure size 432x288 with 0 Axes>"
            ]
          },
          "metadata": {}
        },
        {
          "output_type": "display_data",
          "data": {
            "text/plain": [
              "<Figure size 432x288 with 0 Axes>"
            ]
          },
          "metadata": {}
        },
        {
          "output_type": "display_data",
          "data": {
            "text/plain": [
              "<Figure size 432x288 with 0 Axes>"
            ]
          },
          "metadata": {}
        },
        {
          "output_type": "display_data",
          "data": {
            "text/plain": [
              "<Figure size 432x288 with 0 Axes>"
            ]
          },
          "metadata": {}
        },
        {
          "output_type": "display_data",
          "data": {
            "text/plain": [
              "<Figure size 432x288 with 0 Axes>"
            ]
          },
          "metadata": {}
        },
        {
          "output_type": "display_data",
          "data": {
            "text/plain": [
              "<Figure size 432x288 with 0 Axes>"
            ]
          },
          "metadata": {}
        }
      ],
      "source": [
        "data_results = pd.DataFrame([],columns=['accuracy', 'precision', 'f1_score','recall', 'auc', 'fold','model','parameters'])\n",
        "models = [\"LR\", \"KNN\", \"MLP\", \"DT\", \"RF\", \"BNB\", \"SVM\", \"GBC\"]\n",
        "\n",
        "for name_model in models:\n",
        "  results = []\n",
        "  for k in range(1,6):\n",
        "    treino = data[data.fold!=k]\n",
        "    teste  = data[data.fold==k]\n",
        "    \n",
        "    x_treino = treino[features]\n",
        "    y_treino = treino['class']\n",
        "\n",
        "    x_teste = teste[features]\n",
        "    y_teste = teste['class']\n",
        "\n",
        "    model, best_parameters = grid_best_model(model=name_model, grid=grid)\n",
        "    model.fit(x_treino, y_treino)\n",
        "    y_pred= model.predict(x_teste)\n",
        "    y_pred_prob = model.predict_proba(x_teste)\n",
        "\n",
        "    print(\"Modelo:\", name_model)\n",
        "    print(\"Melhor parametro:\", best_parameters)         \n",
        "    print(\"Fold\", k, metrics(y_teste.values, y_pred, y_pred_prob))\n",
        "\n",
        "    plt.figure();\n",
        "    plot_confusion_matrix(model, x_teste, y_teste);\n",
        "    plt.title(name_model+'_f'+ str(k));\n",
        "    plt.savefig('/content/drive/MyDrive/AnalisePred_I/confusion_matrix/'+ name_model+'_f'+ str(k) +'.pdf', format=\"pdf\", dpi=1000, bbox_inches=\"tight\");\n",
        "    plt.close();\n",
        "\n",
        "    result = metrics(y_teste, y_pred, y_pred_prob)\n",
        "    result.append(k)\n",
        "    result.append(name_model)\n",
        "    result.append(best_parameters)\n",
        "    \n",
        "    results.append(result)\n",
        "        \n",
        "  data_results = pd.concat([data_results, pd.DataFrame(results,columns=['accuracy', 'precision', 'f1_score','recall', 'auc', 'fold','model','parameters'])])\n",
        "  data_results.to_csv('/content/drive/MyDrive/AnalisePred_I/Car_results_'+ name_model + '.csv')\n"
      ]
    }
  ],
  "metadata": {
    "colab": {
      "name": "classifier_car.ipynb",
      "provenance": [],
      "include_colab_link": true
    },
    "kernelspec": {
      "display_name": "Python 3.7.6 ('base')",
      "language": "python",
      "name": "python3"
    },
    "language_info": {
      "codemirror_mode": {
        "name": "ipython",
        "version": 3
      },
      "file_extension": ".py",
      "mimetype": "text/x-python",
      "name": "python",
      "nbconvert_exporter": "python",
      "pygments_lexer": "ipython3",
      "version": "3.7.6"
    },
    "orig_nbformat": 4,
    "vscode": {
      "interpreter": {
        "hash": "1d3a245165631ca1151694c656e253180713a00b2aa4e363f5b597e7a7cbc838"
      }
    }
  },
  "nbformat": 4,
  "nbformat_minor": 0
}