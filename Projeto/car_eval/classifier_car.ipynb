{
  "cells": [
    {
      "cell_type": "markdown",
      "metadata": {
        "id": "view-in-github",
        "colab_type": "text"
      },
      "source": [
        "<a href=\"https://colab.research.google.com/github/lucas-fpaiva/AnalisePred_I/blob/main/Projeto/car_eval/classifier_car.ipynb\" target=\"_parent\"><img src=\"https://colab.research.google.com/assets/colab-badge.svg\" alt=\"Open In Colab\"/></a>"
      ]
    },
    {
      "cell_type": "code",
      "source": [
        "from google.colab import drive\n",
        "drive.mount('/content/drive')"
      ],
      "metadata": {
        "colab": {
          "base_uri": "https://localhost:8080/"
        },
        "id": "kuMmcN4bIxmL",
        "outputId": "aeafe7d2-363c-405a-f93c-3272eccc0a0d"
      },
      "execution_count": 1,
      "outputs": [
        {
          "output_type": "stream",
          "name": "stdout",
          "text": [
            "Mounted at /content/drive\n"
          ]
        }
      ]
    },
    {
      "cell_type": "markdown",
      "metadata": {
        "id": "Csxq-QIV1xUD"
      },
      "source": [
        "# Avaliar se o preço de compra do veículo é aceitável\n"
      ]
    },
    {
      "cell_type": "code",
      "execution_count": 2,
      "metadata": {
        "id": "GqjIv-ud1xUa"
      },
      "outputs": [],
      "source": [
        "import pandas as pd\n",
        "import matplotlib.gridspec as gridspec\n",
        "import matplotlib.pyplot as plt\n",
        "import numpy as np\n",
        "import sklearn\n",
        "import seaborn as sns\n",
        "\n",
        "from scipy.io.arff import loadarff \n",
        "from scipy.io import arff\n",
        "\n",
        "from sklearn.tree import DecisionTreeClassifier\n",
        "from sklearn.ensemble import RandomForestClassifier\n",
        "from sklearn.model_selection import GridSearchCV, KFold, StratifiedKFold, cross_val_score\n",
        "from sklearn.neural_network import MLPClassifier\n",
        "from sklearn.neighbors import KNeighborsClassifier\n",
        "from sklearn.linear_model import LogisticRegression\n",
        "from sklearn.naive_bayes import GaussianNB, BernoulliNB\n",
        "from sklearn.svm import SVC\n",
        "from sklearn.ensemble import GradientBoostingClassifier\n",
        "\n",
        "from sklearn.metrics import precision_score as ps\n",
        "from sklearn.metrics import recall_score as rs\n",
        "from sklearn.metrics import f1_score as f1\n",
        "from sklearn.metrics import accuracy_score as acs\n",
        "from sklearn.metrics import auc, roc_auc_score\n",
        "from sklearn.metrics import plot_confusion_matrix\n",
        "\n",
        "from sklearn.feature_selection import RFE, SequentialFeatureSelector\n",
        "\n",
        "from collections import Counter\n",
        "from imblearn.over_sampling import SMOTE\n",
        "from imblearn.under_sampling import RandomUnderSampler\n",
        "\n",
        "from sklearn.datasets import make_classification\n",
        "from ast import literal_eval\n",
        "\n",
        "import warnings\n",
        "warnings.filterwarnings('ignore')\n"
      ]
    },
    {
      "cell_type": "code",
      "source": [
        "def grid_best_model (model=\"DT\", grid=\"\"):\n",
        "  #A função retorna o modelo com os melhores parametros, os melhores parametros e o melhor score\n",
        "  scoring = 'accuracy'\n",
        "    \n",
        "  if model == \"DT\":\n",
        "    gs_cv = GridSearchCV(estimator=DecisionTreeClassifier(), param_grid=grid['DT'], cv= 5, scoring=scoring, n_jobs=-1)\n",
        "    gs_cv.fit(x_treino, y_treino)\n",
        "    return DecisionTreeClassifier(**gs_cv.best_params_), gs_cv.best_params_\n",
        "      \n",
        "  if model==\"PMC\":\n",
        "    gs_cv = GridSearchCV(estimator=MLPClassifier(), param_grid=grid['PMC'], cv= 5, scoring=scoring, n_jobs=-1)\n",
        "    gs_cv.fit(x_treino, y_treino)\n",
        "    return MLPClassifier(**gs_cv.best_params_), gs_cv.best_params_\n",
        "    \n",
        "  if model == \"RF\":\n",
        "    gs_cv = GridSearchCV(estimator=RandomForestClassifier(), param_grid=grid['RF'], cv= 5, scoring=scoring, n_jobs=-1)\n",
        "    gs_cv.fit(x_treino, y_treino)\n",
        "    return RandomForestClassifier(**gs_cv.best_params_), gs_cv.best_params_\n",
        "\n",
        "  if model == \"KNN\":\n",
        "    gs_cv = GridSearchCV(estimator=KNeighborsClassifier(), param_grid=grid['KNN'], cv= 5, scoring=scoring, n_jobs=-1)\n",
        "    gs_cv.fit(x_treino, y_treino)\n",
        "    return KNeighborsClassifier(**gs_cv.best_params_), gs_cv.best_params_\n",
        "\n",
        "  if model == \"RL\":\n",
        "    gs_cv = GridSearchCV(estimator=LogisticRegression(), param_grid=grid['RL'], cv= 5, scoring=scoring, n_jobs=-1)\n",
        "    gs_cv.fit(x_treino, y_treino)\n",
        "    return LogisticRegression(**gs_cv.best_params_), gs_cv.best_params_\n",
        "    #return LogisticRegression(), gs_cv.best_params_\n",
        "\n",
        "  if model == \"BNB\":\n",
        "    gs_cv = GridSearchCV(estimator=BernoulliNB(), param_grid=grid['BNB'], cv= 5, scoring=scoring, n_jobs=-1)\n",
        "    gs_cv.fit(x_treino, y_treino)\n",
        "    return BernoulliNB(**gs_cv.best_params_), gs_cv.best_params_\n",
        "\n",
        "  if model == \"SVM\":\n",
        "    gs_cv = GridSearchCV(estimator=SVC(), param_grid=grid['SVM'], cv= 5, scoring=scoring, n_jobs=-1)\n",
        "    gs_cv.fit(x_treino, y_treino)\n",
        "    return SVC(**gs_cv.best_params_), gs_cv.best_params_\n",
        "\n",
        "  if model == \"GB\":\n",
        "    gs_cv = GridSearchCV(estimator=GradientBoostingClassifier(), param_grid=grid['GB'], cv= 5, scoring=scoring, n_jobs=-1)\n",
        "    gs_cv.fit(x_treino, y_treino)\n",
        "    return GradientBoostingClassifier(**gs_cv.best_params_), gs_cv.best_params_\n",
        "        \n",
        "  \n",
        "#Parâmetros do Grid\n",
        "grid = {\n",
        "    'RF':{ #based on: Discrete Simulation Optimization for Tuning Machine Learning Method Hyperparameters\n",
        "        'n_estimators': [10, 100],\n",
        "        'max_depth' : range(5, 50, 5),\n",
        "        #'min_samples_split' : [2, 11],\n",
        "        #'min_samples_leaf' : [1, 11],\n",
        "        #'max_features' : [1,54],\n",
        "        'criterion' :['gini', 'entropy'],\n",
        "        'random_state' : [0]},\n",
        "\n",
        "    'PMC':{ #based on: Discrete Simulation Optimization for Tuning Machine Learning Method Hyperparameters\n",
        "        'hidden_layer_sizes': range(5, 50, 5),\n",
        "        'learning_rate' : ['constant','adaptive'],\n",
        "        'learning_rate_init' : [0.001, 0.01, 0.05],\n",
        "        'max_iter': [200],\n",
        "        'activation' : ['relu', 'tanh'],\n",
        "        #'solver' : ['adam', 'sgd'],\n",
        "        'random_state' : [0]},\n",
        "\n",
        "    'DT':{ #based on: Random Forest\n",
        "        'max_depth' : range(5, 50, 5),\n",
        "        #'min_samples_split' : [2, 11],\n",
        "        #'min_samples_leaf' : [1, 11],\n",
        "        #'max_features' : [1,54],\n",
        "        'criterion' :['gini', 'entropy'],\n",
        "        'random_state' : [0]},\n",
        "\n",
        "    'KNN':{ #based on:\n",
        "        'n_neighbors': range(5, 50, 5),\n",
        "        'weights': ['uniform', 'distance'],\n",
        "        'metric' : ['manhattan', 'euclidean'],\n",
        "        # 'algorithm':['kd_tree'] #algorithm{‘auto’, ‘ball_tree’, ‘kd_tree’, ‘brute’}\n",
        "        },\n",
        "\n",
        "    'RL':{ #based on: Logistic Regression Hyperparameter Optimization for Cancer Classification\n",
        "        'penalty' : ['l1', 'l2', 'elasticnet'],\n",
        "        'l1_ratio' : [0, 1],\n",
        "        #'learning_rate' : ['constant', 'optimal', 'invscaling', 'adaptive'],\n",
        "        #'eta0' : [0, 2],\n",
        "        'tol' : [0.00001, 0.01], #Alpha\n",
        "        'warm_start' : [True, False],\n",
        "        'random_state' : [0]},\n",
        "\n",
        "    'BNB':{ #based on:\n",
        "        'alpha' : np.arange(0.0, 1.0, 0.05)},\n",
        "    \n",
        "    'SVM':{ #based on:\n",
        "        'C' : [0.1,1,10],\n",
        "        'kernel' : ['linear', 'poly', 'rbf'],\n",
        "        #'gamma' : ['auto', 'scale'], #[0.001, 0.01, 0.1, 0.5, 1, 10, 100],\n",
        "        'probability' : [True],\n",
        "        'random_state' : [0]},\n",
        "    \n",
        "    'GB':{ #based on:\n",
        "        'n_estimators': [10, 100],\n",
        "        'max_depth' : [2, 3, 5, 7, 10],\n",
        "        #'learning_rate' : [0.025, 0.05, 0.1, 0.2, 0.3],\n",
        "        #'min_samples_split' : [2, 5, 10, 20],\n",
        "        #'max_features' : ['log2', 'sqrt', 0.25, 1.0],\n",
        "        #'subsample' : [0.15, 0.5, 0.75, 1.0],\n",
        "        'random_state' : [0]}\n",
        "}"
      ],
      "metadata": {
        "id": "7oTeWB0yLtxT"
      },
      "execution_count": 5,
      "outputs": []
    },
    {
      "cell_type": "code",
      "source": [
        "def f_models (name,parameters):\n",
        "    if name == 'DT':\n",
        "        model = DecisionTreeClassifier(**parameters);\n",
        "    elif name == 'RF':\n",
        "        model = RandomForestClassifier(**parameters);\n",
        "    elif name == 'KNN':\n",
        "        model = KNeighborsClassifier(**parameters);\n",
        "    elif name == 'RL':\n",
        "        model = LogisticRegression(**parameters);\n",
        "    elif name == 'SVM':\n",
        "        model = SVC(**parameters);\n",
        "    elif name == 'PMC':\n",
        "        model = MLPClassifier(**parameters);\n",
        "    elif name == 'BNB':\n",
        "        model = BernoulliNB(**parameters);\n",
        "    elif name == 'GB':\n",
        "        model = GradientBoostingClassifier(**parameters);\n",
        "    else :\n",
        "        print('Model not found')\n",
        "        model=None\n",
        "    return model"
      ],
      "metadata": {
        "id": "KL-se8Wccuyi"
      },
      "execution_count": 6,
      "outputs": []
    },
    {
      "cell_type": "code",
      "source": [
        "def metrics (y_true, y_pred, y_pred_prob):\n",
        "  return [acs(y_true, y_pred), f1(y_true, y_pred, average = 'macro'),\n",
        "          roc_auc_score(y_true, y_pred_prob, average='macro', multi_class = 'ovr')]"
      ],
      "metadata": {
        "id": "W_HPPnYUAu6f"
      },
      "execution_count": 7,
      "outputs": []
    },
    {
      "cell_type": "code",
      "source": [
        "def select_feat(x_treino,y_treino,model,n,features):\n",
        "\n",
        "  if n =='All':\n",
        "    best_feats = features\n",
        "\n",
        "  else:\n",
        "    sfs = SequentialFeatureSelector(model, n_features_to_select=n, direction='backward')\n",
        "    sfs.fit(x_treino,y_treino)\n",
        "\n",
        "    sfs.get_support()\n",
        "\n",
        "    best_feats = sfs.feature_names_in_[sfs.support_]\n",
        "\n",
        "    #print('n=',n, len(best_feats),best_feats)\n",
        "    #print('best_feats = features[rfe.support_]')\n",
        "    \n",
        "  return best_feats\n",
        "\n",
        "\n",
        "def balan_func(X, y,balan_name):\n",
        "   \n",
        "  print(\"Original Sample \", Counter(y).values())\n",
        "  \n",
        "  if balan_name == 'No':\n",
        "    x_treino, y_treino = treino[features],treino['class']\n",
        "\n",
        "  elif balan_name == 'Under': \n",
        "    rus = RandomUnderSampler(sampling_strategy='not minority', replacement=True, random_state=0) #replacement considera independentemente cada classe\n",
        "    x_treino, y_treino = rus.fit_resample(X, y)\n",
        "    print(\"UnderSampling \", x_treino.shape,y_treino.shape, Counter(y_treino).values())\n",
        "\n",
        "  elif balan_name == 'Over': ## Falta atualizar\n",
        "    x_treino, y_treino = SMOTE(sampling_strategy='not majority').fit_resample(X, y)   \n",
        "    print(\"OverSampling \", Counter(y_treino).values())\n",
        "\n",
        "  elif balan_name == 'Hybrid': ## Falta atualizar\n",
        "    classes = {0:450, 1:307, 2:52, 3:55} \n",
        "    rus = RandomUnderSampler(sampling_strategy=classes, replacement=True, random_state=0) #replacement considera independentemente cada classe\n",
        "    X, y = rus.fit_resample(X, y)\n",
        "    x_treino, y_treino = SMOTE(sampling_strategy='not majority').fit_resample(X, y)  \n",
        "    print(\"HybridSampling \",  Counter(y_treino).values())\n",
        "\n",
        "  return x_treino, y_treino"
      ],
      "metadata": {
        "id": "m4TIq9dFiAJ3"
      },
      "execution_count": 8,
      "outputs": []
    },
    {
      "cell_type": "markdown",
      "source": [
        "## Lendo o Dataset"
      ],
      "metadata": {
        "id": "FI2B053-WNjz"
      }
    },
    {
      "cell_type": "code",
      "source": [
        "data = pd.read_csv('https://raw.githubusercontent.com/lucas-fpaiva/AnalisePred_I/main/Projeto/car_eval/data_processed.csv', index_col=0)\n",
        "features = data.columns[1:-2]"
      ],
      "metadata": {
        "id": "KfQW75l1XIiJ"
      },
      "execution_count": 9,
      "outputs": []
    },
    {
      "cell_type": "code",
      "source": [
        "features"
      ],
      "metadata": {
        "id": "NaR5cBBSvcY-",
        "outputId": "c9c6eabd-8815-4989-f564-f8fffc213860",
        "colab": {
          "base_uri": "https://localhost:8080/"
        }
      },
      "execution_count": 10,
      "outputs": [
        {
          "output_type": "execute_result",
          "data": {
            "text/plain": [
              "Index(['buying_price_vhigh', 'buying_price_high', 'buying_price_med',\n",
              "       'buying_price_low', 'maintenance_price_vhigh', 'maintenance_price_high',\n",
              "       'maintenance_price_med', 'maintenance_price_low', 'doors_2', 'doors_3',\n",
              "       'doors_4', 'doors_5more', 'persons_2', 'persons_4', 'persons_more',\n",
              "       'luggage_boot_size_small', 'luggage_boot_size_med',\n",
              "       'luggage_boot_size_big', 'safety_low', 'safety_med', 'safety_high'],\n",
              "      dtype='object')"
            ]
          },
          "metadata": {},
          "execution_count": 10
        }
      ]
    },
    {
      "cell_type": "code",
      "source": [
        "data.head()"
      ],
      "metadata": {
        "id": "VIBEEusnx7XW",
        "outputId": "dfa4b6bf-bfd9-4926-ac77-0997e3ad0c27",
        "colab": {
          "base_uri": "https://localhost:8080/",
          "height": 299
        }
      },
      "execution_count": 11,
      "outputs": [
        {
          "output_type": "execute_result",
          "data": {
            "text/plain": [
              "   class  buying_price_vhigh  buying_price_high  buying_price_med  \\\n",
              "0      0                   1                  0                 0   \n",
              "1      0                   1                  0                 0   \n",
              "2      0                   1                  0                 0   \n",
              "3      0                   1                  0                 0   \n",
              "4      0                   1                  0                 0   \n",
              "\n",
              "   buying_price_low  maintenance_price_vhigh  maintenance_price_high  \\\n",
              "0                 0                        1                       0   \n",
              "1                 0                        1                       0   \n",
              "2                 0                        1                       0   \n",
              "3                 0                        1                       0   \n",
              "4                 0                        1                       0   \n",
              "\n",
              "   maintenance_price_med  maintenance_price_low  doors_2  ...  persons_4  \\\n",
              "0                      0                      0        1  ...          0   \n",
              "1                      0                      0        1  ...          0   \n",
              "2                      0                      0        1  ...          0   \n",
              "3                      0                      0        1  ...          0   \n",
              "4                      0                      0        1  ...          0   \n",
              "\n",
              "   persons_more  luggage_boot_size_small  luggage_boot_size_med  \\\n",
              "0             0                        1                      0   \n",
              "1             0                        1                      0   \n",
              "2             0                        1                      0   \n",
              "3             0                        0                      1   \n",
              "4             0                        0                      1   \n",
              "\n",
              "   luggage_boot_size_big  safety_low  safety_med  safety_high  id  fold  \n",
              "0                      0           1           0            0   0     5  \n",
              "1                      0           0           1            0   1     5  \n",
              "2                      0           0           0            1   2     5  \n",
              "3                      0           1           0            0   3     4  \n",
              "4                      0           0           1            0   4     2  \n",
              "\n",
              "[5 rows x 24 columns]"
            ],
            "text/html": [
              "\n",
              "  <div id=\"df-c5d61e54-a717-48ee-bb2d-b5b3f9f2891d\">\n",
              "    <div class=\"colab-df-container\">\n",
              "      <div>\n",
              "<style scoped>\n",
              "    .dataframe tbody tr th:only-of-type {\n",
              "        vertical-align: middle;\n",
              "    }\n",
              "\n",
              "    .dataframe tbody tr th {\n",
              "        vertical-align: top;\n",
              "    }\n",
              "\n",
              "    .dataframe thead th {\n",
              "        text-align: right;\n",
              "    }\n",
              "</style>\n",
              "<table border=\"1\" class=\"dataframe\">\n",
              "  <thead>\n",
              "    <tr style=\"text-align: right;\">\n",
              "      <th></th>\n",
              "      <th>class</th>\n",
              "      <th>buying_price_vhigh</th>\n",
              "      <th>buying_price_high</th>\n",
              "      <th>buying_price_med</th>\n",
              "      <th>buying_price_low</th>\n",
              "      <th>maintenance_price_vhigh</th>\n",
              "      <th>maintenance_price_high</th>\n",
              "      <th>maintenance_price_med</th>\n",
              "      <th>maintenance_price_low</th>\n",
              "      <th>doors_2</th>\n",
              "      <th>...</th>\n",
              "      <th>persons_4</th>\n",
              "      <th>persons_more</th>\n",
              "      <th>luggage_boot_size_small</th>\n",
              "      <th>luggage_boot_size_med</th>\n",
              "      <th>luggage_boot_size_big</th>\n",
              "      <th>safety_low</th>\n",
              "      <th>safety_med</th>\n",
              "      <th>safety_high</th>\n",
              "      <th>id</th>\n",
              "      <th>fold</th>\n",
              "    </tr>\n",
              "  </thead>\n",
              "  <tbody>\n",
              "    <tr>\n",
              "      <th>0</th>\n",
              "      <td>0</td>\n",
              "      <td>1</td>\n",
              "      <td>0</td>\n",
              "      <td>0</td>\n",
              "      <td>0</td>\n",
              "      <td>1</td>\n",
              "      <td>0</td>\n",
              "      <td>0</td>\n",
              "      <td>0</td>\n",
              "      <td>1</td>\n",
              "      <td>...</td>\n",
              "      <td>0</td>\n",
              "      <td>0</td>\n",
              "      <td>1</td>\n",
              "      <td>0</td>\n",
              "      <td>0</td>\n",
              "      <td>1</td>\n",
              "      <td>0</td>\n",
              "      <td>0</td>\n",
              "      <td>0</td>\n",
              "      <td>5</td>\n",
              "    </tr>\n",
              "    <tr>\n",
              "      <th>1</th>\n",
              "      <td>0</td>\n",
              "      <td>1</td>\n",
              "      <td>0</td>\n",
              "      <td>0</td>\n",
              "      <td>0</td>\n",
              "      <td>1</td>\n",
              "      <td>0</td>\n",
              "      <td>0</td>\n",
              "      <td>0</td>\n",
              "      <td>1</td>\n",
              "      <td>...</td>\n",
              "      <td>0</td>\n",
              "      <td>0</td>\n",
              "      <td>1</td>\n",
              "      <td>0</td>\n",
              "      <td>0</td>\n",
              "      <td>0</td>\n",
              "      <td>1</td>\n",
              "      <td>0</td>\n",
              "      <td>1</td>\n",
              "      <td>5</td>\n",
              "    </tr>\n",
              "    <tr>\n",
              "      <th>2</th>\n",
              "      <td>0</td>\n",
              "      <td>1</td>\n",
              "      <td>0</td>\n",
              "      <td>0</td>\n",
              "      <td>0</td>\n",
              "      <td>1</td>\n",
              "      <td>0</td>\n",
              "      <td>0</td>\n",
              "      <td>0</td>\n",
              "      <td>1</td>\n",
              "      <td>...</td>\n",
              "      <td>0</td>\n",
              "      <td>0</td>\n",
              "      <td>1</td>\n",
              "      <td>0</td>\n",
              "      <td>0</td>\n",
              "      <td>0</td>\n",
              "      <td>0</td>\n",
              "      <td>1</td>\n",
              "      <td>2</td>\n",
              "      <td>5</td>\n",
              "    </tr>\n",
              "    <tr>\n",
              "      <th>3</th>\n",
              "      <td>0</td>\n",
              "      <td>1</td>\n",
              "      <td>0</td>\n",
              "      <td>0</td>\n",
              "      <td>0</td>\n",
              "      <td>1</td>\n",
              "      <td>0</td>\n",
              "      <td>0</td>\n",
              "      <td>0</td>\n",
              "      <td>1</td>\n",
              "      <td>...</td>\n",
              "      <td>0</td>\n",
              "      <td>0</td>\n",
              "      <td>0</td>\n",
              "      <td>1</td>\n",
              "      <td>0</td>\n",
              "      <td>1</td>\n",
              "      <td>0</td>\n",
              "      <td>0</td>\n",
              "      <td>3</td>\n",
              "      <td>4</td>\n",
              "    </tr>\n",
              "    <tr>\n",
              "      <th>4</th>\n",
              "      <td>0</td>\n",
              "      <td>1</td>\n",
              "      <td>0</td>\n",
              "      <td>0</td>\n",
              "      <td>0</td>\n",
              "      <td>1</td>\n",
              "      <td>0</td>\n",
              "      <td>0</td>\n",
              "      <td>0</td>\n",
              "      <td>1</td>\n",
              "      <td>...</td>\n",
              "      <td>0</td>\n",
              "      <td>0</td>\n",
              "      <td>0</td>\n",
              "      <td>1</td>\n",
              "      <td>0</td>\n",
              "      <td>0</td>\n",
              "      <td>1</td>\n",
              "      <td>0</td>\n",
              "      <td>4</td>\n",
              "      <td>2</td>\n",
              "    </tr>\n",
              "  </tbody>\n",
              "</table>\n",
              "<p>5 rows × 24 columns</p>\n",
              "</div>\n",
              "      <button class=\"colab-df-convert\" onclick=\"convertToInteractive('df-c5d61e54-a717-48ee-bb2d-b5b3f9f2891d')\"\n",
              "              title=\"Convert this dataframe to an interactive table.\"\n",
              "              style=\"display:none;\">\n",
              "        \n",
              "  <svg xmlns=\"http://www.w3.org/2000/svg\" height=\"24px\"viewBox=\"0 0 24 24\"\n",
              "       width=\"24px\">\n",
              "    <path d=\"M0 0h24v24H0V0z\" fill=\"none\"/>\n",
              "    <path d=\"M18.56 5.44l.94 2.06.94-2.06 2.06-.94-2.06-.94-.94-2.06-.94 2.06-2.06.94zm-11 1L8.5 8.5l.94-2.06 2.06-.94-2.06-.94L8.5 2.5l-.94 2.06-2.06.94zm10 10l.94 2.06.94-2.06 2.06-.94-2.06-.94-.94-2.06-.94 2.06-2.06.94z\"/><path d=\"M17.41 7.96l-1.37-1.37c-.4-.4-.92-.59-1.43-.59-.52 0-1.04.2-1.43.59L10.3 9.45l-7.72 7.72c-.78.78-.78 2.05 0 2.83L4 21.41c.39.39.9.59 1.41.59.51 0 1.02-.2 1.41-.59l7.78-7.78 2.81-2.81c.8-.78.8-2.07 0-2.86zM5.41 20L4 18.59l7.72-7.72 1.47 1.35L5.41 20z\"/>\n",
              "  </svg>\n",
              "      </button>\n",
              "      \n",
              "  <style>\n",
              "    .colab-df-container {\n",
              "      display:flex;\n",
              "      flex-wrap:wrap;\n",
              "      gap: 12px;\n",
              "    }\n",
              "\n",
              "    .colab-df-convert {\n",
              "      background-color: #E8F0FE;\n",
              "      border: none;\n",
              "      border-radius: 50%;\n",
              "      cursor: pointer;\n",
              "      display: none;\n",
              "      fill: #1967D2;\n",
              "      height: 32px;\n",
              "      padding: 0 0 0 0;\n",
              "      width: 32px;\n",
              "    }\n",
              "\n",
              "    .colab-df-convert:hover {\n",
              "      background-color: #E2EBFA;\n",
              "      box-shadow: 0px 1px 2px rgba(60, 64, 67, 0.3), 0px 1px 3px 1px rgba(60, 64, 67, 0.15);\n",
              "      fill: #174EA6;\n",
              "    }\n",
              "\n",
              "    [theme=dark] .colab-df-convert {\n",
              "      background-color: #3B4455;\n",
              "      fill: #D2E3FC;\n",
              "    }\n",
              "\n",
              "    [theme=dark] .colab-df-convert:hover {\n",
              "      background-color: #434B5C;\n",
              "      box-shadow: 0px 1px 3px 1px rgba(0, 0, 0, 0.15);\n",
              "      filter: drop-shadow(0px 1px 2px rgba(0, 0, 0, 0.3));\n",
              "      fill: #FFFFFF;\n",
              "    }\n",
              "  </style>\n",
              "\n",
              "      <script>\n",
              "        const buttonEl =\n",
              "          document.querySelector('#df-c5d61e54-a717-48ee-bb2d-b5b3f9f2891d button.colab-df-convert');\n",
              "        buttonEl.style.display =\n",
              "          google.colab.kernel.accessAllowed ? 'block' : 'none';\n",
              "\n",
              "        async function convertToInteractive(key) {\n",
              "          const element = document.querySelector('#df-c5d61e54-a717-48ee-bb2d-b5b3f9f2891d');\n",
              "          const dataTable =\n",
              "            await google.colab.kernel.invokeFunction('convertToInteractive',\n",
              "                                                     [key], {});\n",
              "          if (!dataTable) return;\n",
              "\n",
              "          const docLinkHtml = 'Like what you see? Visit the ' +\n",
              "            '<a target=\"_blank\" href=https://colab.research.google.com/notebooks/data_table.ipynb>data table notebook</a>'\n",
              "            + ' to learn more about interactive tables.';\n",
              "          element.innerHTML = '';\n",
              "          dataTable['output_type'] = 'display_data';\n",
              "          await google.colab.output.renderOutput(dataTable, element);\n",
              "          const docLink = document.createElement('div');\n",
              "          docLink.innerHTML = docLinkHtml;\n",
              "          element.appendChild(docLink);\n",
              "        }\n",
              "      </script>\n",
              "    </div>\n",
              "  </div>\n",
              "  "
            ]
          },
          "metadata": {},
          "execution_count": 11
        }
      ]
    },
    {
      "cell_type": "markdown",
      "source": [
        "## GridSearch dos Modelos"
      ],
      "metadata": {
        "id": "son5ymSm4A_a"
      }
    },
    {
      "cell_type": "code",
      "execution_count": 12,
      "metadata": {
        "id": "2nCdUEwp1xUb",
        "outputId": "d6ee4495-e202-448f-f5d9-dc3a2042161e",
        "colab": {
          "base_uri": "https://localhost:8080/",
          "height": 1000
        }
      },
      "outputs": [
        {
          "output_type": "stream",
          "name": "stdout",
          "text": [
            "Original Sample  dict_values([968, 307, 52, 55])\n",
            "Modelo: KNN\n",
            "Melhor parametro: {'metric': 'euclidean', 'n_neighbors': 15, 'weights': 'distance'}\n",
            "Fold 1 [0.9132947976878613, 0.7210814590697645, 0.9898526835779161]\n",
            "\n",
            "Modelo: KNN\n",
            "Melhor parametro: {'metric': 'euclidean', 'n_neighbors': 15, 'weights': 'distance'}\n",
            "Fold 1 [0.8526011560693642, 0.47142413380345827, 0.9305665734617751]\n",
            "\n",
            "Modelo: KNN\n",
            "Melhor parametro: {'metric': 'euclidean', 'n_neighbors': 15, 'weights': 'distance'}\n",
            "Fold 1 [0.9335260115606936, 0.8788441955193482, 0.9578022646831446]\n",
            "\n",
            "Modelo: KNN\n",
            "Melhor parametro: {'metric': 'euclidean', 'n_neighbors': 15, 'weights': 'distance'}\n",
            "Fold 1 [0.8063583815028902, 0.3700970873786408, 0.6593929497854678]\n",
            "\n",
            "Original Sample  dict_values([968, 307, 52, 55])\n",
            "UnderSampling  (208, 21) (208,) dict_values([52, 52, 52, 52])\n",
            "Modelo: KNN\n",
            "Melhor parametro: {'metric': 'manhattan', 'n_neighbors': 5, 'weights': 'distance'}\n",
            "Fold 1 [0.630057803468208, 0.5031659798195581, 0.8648883384409216]\n",
            "\n",
            "Modelo: KNN\n",
            "Melhor parametro: {'metric': 'manhattan', 'n_neighbors': 5, 'weights': 'distance'}\n",
            "Fold 1 [0.7167630057803468, 0.5981609936026692, 0.9047606114495355]\n",
            "\n",
            "Modelo: KNN\n",
            "Melhor parametro: {'metric': 'manhattan', 'n_neighbors': 5, 'weights': 'distance'}\n",
            "Fold 1 [0.7572254335260116, 0.6642498584100364, 0.9210863659839968]\n",
            "\n"
          ]
        },
        {
          "output_type": "error",
          "ename": "KeyboardInterrupt",
          "evalue": "ignored",
          "traceback": [
            "\u001b[0;31m---------------------------------------------------------------------------\u001b[0m",
            "\u001b[0;31mKeyboardInterrupt\u001b[0m                         Traceback (most recent call last)",
            "\u001b[0;32m<ipython-input-12-ace6ce3cc5ca>\u001b[0m in \u001b[0;36m<module>\u001b[0;34m\u001b[0m\n\u001b[1;32m     56\u001b[0m         \u001b[0mplot_confusion_matrix\u001b[0m\u001b[0;34m(\u001b[0m\u001b[0mmodel\u001b[0m\u001b[0;34m,\u001b[0m \u001b[0mx_teste\u001b[0m\u001b[0;34m,\u001b[0m \u001b[0my_teste\u001b[0m\u001b[0;34m,\u001b[0m \u001b[0mnormalize\u001b[0m\u001b[0;34m=\u001b[0m\u001b[0;34m'true'\u001b[0m\u001b[0;34m)\u001b[0m\u001b[0;34m;\u001b[0m\u001b[0;34m\u001b[0m\u001b[0;34m\u001b[0m\u001b[0m\n\u001b[1;32m     57\u001b[0m         \u001b[0mplt\u001b[0m\u001b[0;34m.\u001b[0m\u001b[0mtitle\u001b[0m\u001b[0;34m(\u001b[0m\u001b[0mname_model\u001b[0m\u001b[0;34m+\u001b[0m\u001b[0;34m'_f'\u001b[0m\u001b[0;34m+\u001b[0m \u001b[0mstr\u001b[0m\u001b[0;34m(\u001b[0m\u001b[0mk\u001b[0m\u001b[0;34m)\u001b[0m\u001b[0;34m+\u001b[0m\u001b[0;34m'_feat:'\u001b[0m\u001b[0;34m+\u001b[0m\u001b[0mstr\u001b[0m\u001b[0;34m(\u001b[0m\u001b[0mn_feat\u001b[0m\u001b[0;34m)\u001b[0m\u001b[0;34m+\u001b[0m\u001b[0;34m'_balan:'\u001b[0m\u001b[0;34m+\u001b[0m\u001b[0mbalan\u001b[0m\u001b[0;34m)\u001b[0m\u001b[0;34m;\u001b[0m\u001b[0;34m\u001b[0m\u001b[0;34m\u001b[0m\u001b[0m\n\u001b[0;32m---> 58\u001b[0;31m         \u001b[0mplt\u001b[0m\u001b[0;34m.\u001b[0m\u001b[0msavefig\u001b[0m\u001b[0;34m(\u001b[0m\u001b[0;34m'/content/drive/MyDrive/AnalisePred_I/confusion_matrix_plus/'\u001b[0m\u001b[0;34m+\u001b[0m \u001b[0mname_model\u001b[0m\u001b[0;34m+\u001b[0m\u001b[0;34m'_f'\u001b[0m\u001b[0;34m+\u001b[0m \u001b[0mstr\u001b[0m\u001b[0;34m(\u001b[0m\u001b[0mk\u001b[0m\u001b[0;34m)\u001b[0m \u001b[0;34m+\u001b[0m\u001b[0;34m'.pdf'\u001b[0m\u001b[0;34m,\u001b[0m \u001b[0mformat\u001b[0m\u001b[0;34m=\u001b[0m\u001b[0;34m\"pdf\"\u001b[0m\u001b[0;34m,\u001b[0m \u001b[0mdpi\u001b[0m\u001b[0;34m=\u001b[0m\u001b[0;36m1000\u001b[0m\u001b[0;34m,\u001b[0m \u001b[0mbbox_inches\u001b[0m\u001b[0;34m=\u001b[0m\u001b[0;34m\"tight\"\u001b[0m\u001b[0;34m)\u001b[0m\u001b[0;34m;\u001b[0m\u001b[0;34m\u001b[0m\u001b[0;34m\u001b[0m\u001b[0m\n\u001b[0m\u001b[1;32m     59\u001b[0m         \u001b[0mplt\u001b[0m\u001b[0;34m.\u001b[0m\u001b[0mclose\u001b[0m\u001b[0;34m(\u001b[0m\u001b[0;34m)\u001b[0m\u001b[0;34m;\u001b[0m\u001b[0;34m\u001b[0m\u001b[0;34m\u001b[0m\u001b[0m\n\u001b[1;32m     60\u001b[0m \u001b[0;34m\u001b[0m\u001b[0m\n",
            "\u001b[0;32m/usr/local/lib/python3.7/dist-packages/matplotlib/pyplot.py\u001b[0m in \u001b[0;36msavefig\u001b[0;34m(*args, **kwargs)\u001b[0m\n\u001b[1;32m    721\u001b[0m \u001b[0;32mdef\u001b[0m \u001b[0msavefig\u001b[0m\u001b[0;34m(\u001b[0m\u001b[0;34m*\u001b[0m\u001b[0margs\u001b[0m\u001b[0;34m,\u001b[0m \u001b[0;34m**\u001b[0m\u001b[0mkwargs\u001b[0m\u001b[0;34m)\u001b[0m\u001b[0;34m:\u001b[0m\u001b[0;34m\u001b[0m\u001b[0;34m\u001b[0m\u001b[0m\n\u001b[1;32m    722\u001b[0m     \u001b[0mfig\u001b[0m \u001b[0;34m=\u001b[0m \u001b[0mgcf\u001b[0m\u001b[0;34m(\u001b[0m\u001b[0;34m)\u001b[0m\u001b[0;34m\u001b[0m\u001b[0;34m\u001b[0m\u001b[0m\n\u001b[0;32m--> 723\u001b[0;31m     \u001b[0mres\u001b[0m \u001b[0;34m=\u001b[0m \u001b[0mfig\u001b[0m\u001b[0;34m.\u001b[0m\u001b[0msavefig\u001b[0m\u001b[0;34m(\u001b[0m\u001b[0;34m*\u001b[0m\u001b[0margs\u001b[0m\u001b[0;34m,\u001b[0m \u001b[0;34m**\u001b[0m\u001b[0mkwargs\u001b[0m\u001b[0;34m)\u001b[0m\u001b[0;34m\u001b[0m\u001b[0;34m\u001b[0m\u001b[0m\n\u001b[0m\u001b[1;32m    724\u001b[0m     \u001b[0mfig\u001b[0m\u001b[0;34m.\u001b[0m\u001b[0mcanvas\u001b[0m\u001b[0;34m.\u001b[0m\u001b[0mdraw_idle\u001b[0m\u001b[0;34m(\u001b[0m\u001b[0;34m)\u001b[0m   \u001b[0;31m# need this if 'transparent=True' to reset colors\u001b[0m\u001b[0;34m\u001b[0m\u001b[0;34m\u001b[0m\u001b[0m\n\u001b[1;32m    725\u001b[0m     \u001b[0;32mreturn\u001b[0m \u001b[0mres\u001b[0m\u001b[0;34m\u001b[0m\u001b[0;34m\u001b[0m\u001b[0m\n",
            "\u001b[0;32m/usr/local/lib/python3.7/dist-packages/matplotlib/figure.py\u001b[0m in \u001b[0;36msavefig\u001b[0;34m(self, fname, transparent, **kwargs)\u001b[0m\n\u001b[1;32m   2201\u001b[0m             \u001b[0mself\u001b[0m\u001b[0;34m.\u001b[0m\u001b[0mpatch\u001b[0m\u001b[0;34m.\u001b[0m\u001b[0mset_visible\u001b[0m\u001b[0;34m(\u001b[0m\u001b[0mframeon\u001b[0m\u001b[0;34m)\u001b[0m\u001b[0;34m\u001b[0m\u001b[0;34m\u001b[0m\u001b[0m\n\u001b[1;32m   2202\u001b[0m \u001b[0;34m\u001b[0m\u001b[0m\n\u001b[0;32m-> 2203\u001b[0;31m         \u001b[0mself\u001b[0m\u001b[0;34m.\u001b[0m\u001b[0mcanvas\u001b[0m\u001b[0;34m.\u001b[0m\u001b[0mprint_figure\u001b[0m\u001b[0;34m(\u001b[0m\u001b[0mfname\u001b[0m\u001b[0;34m,\u001b[0m \u001b[0;34m**\u001b[0m\u001b[0mkwargs\u001b[0m\u001b[0;34m)\u001b[0m\u001b[0;34m\u001b[0m\u001b[0;34m\u001b[0m\u001b[0m\n\u001b[0m\u001b[1;32m   2204\u001b[0m \u001b[0;34m\u001b[0m\u001b[0m\n\u001b[1;32m   2205\u001b[0m         \u001b[0;32mif\u001b[0m \u001b[0mframeon\u001b[0m\u001b[0;34m:\u001b[0m\u001b[0;34m\u001b[0m\u001b[0;34m\u001b[0m\u001b[0m\n",
            "\u001b[0;32m/usr/local/lib/python3.7/dist-packages/matplotlib/backend_bases.py\u001b[0m in \u001b[0;36mprint_figure\u001b[0;34m(self, filename, dpi, facecolor, edgecolor, orientation, format, bbox_inches, **kwargs)\u001b[0m\n\u001b[1;32m   2124\u001b[0m                     \u001b[0morientation\u001b[0m\u001b[0;34m=\u001b[0m\u001b[0morientation\u001b[0m\u001b[0;34m,\u001b[0m\u001b[0;34m\u001b[0m\u001b[0;34m\u001b[0m\u001b[0m\n\u001b[1;32m   2125\u001b[0m                     \u001b[0mbbox_inches_restore\u001b[0m\u001b[0;34m=\u001b[0m\u001b[0m_bbox_inches_restore\u001b[0m\u001b[0;34m,\u001b[0m\u001b[0;34m\u001b[0m\u001b[0;34m\u001b[0m\u001b[0m\n\u001b[0;32m-> 2126\u001b[0;31m                     **kwargs)\n\u001b[0m\u001b[1;32m   2127\u001b[0m             \u001b[0;32mfinally\u001b[0m\u001b[0;34m:\u001b[0m\u001b[0;34m\u001b[0m\u001b[0;34m\u001b[0m\u001b[0m\n\u001b[1;32m   2128\u001b[0m                 \u001b[0;32mif\u001b[0m \u001b[0mbbox_inches\u001b[0m \u001b[0;32mand\u001b[0m \u001b[0mrestore_bbox\u001b[0m\u001b[0;34m:\u001b[0m\u001b[0;34m\u001b[0m\u001b[0;34m\u001b[0m\u001b[0m\n",
            "\u001b[0;32m/usr/local/lib/python3.7/dist-packages/matplotlib/backends/backend_pdf.py\u001b[0m in \u001b[0;36mprint_pdf\u001b[0;34m(self, filename, dpi, bbox_inches_restore, metadata, **kwargs)\u001b[0m\n\u001b[1;32m   2549\u001b[0m             \u001b[0mrenderer\u001b[0m\u001b[0;34m.\u001b[0m\u001b[0mfinalize\u001b[0m\u001b[0;34m(\u001b[0m\u001b[0;34m)\u001b[0m\u001b[0;34m\u001b[0m\u001b[0;34m\u001b[0m\u001b[0m\n\u001b[1;32m   2550\u001b[0m             \u001b[0;32mif\u001b[0m \u001b[0;32mnot\u001b[0m \u001b[0misinstance\u001b[0m\u001b[0;34m(\u001b[0m\u001b[0mfilename\u001b[0m\u001b[0;34m,\u001b[0m \u001b[0mPdfPages\u001b[0m\u001b[0;34m)\u001b[0m\u001b[0;34m:\u001b[0m\u001b[0;34m\u001b[0m\u001b[0;34m\u001b[0m\u001b[0m\n\u001b[0;32m-> 2551\u001b[0;31m                 \u001b[0mfile\u001b[0m\u001b[0;34m.\u001b[0m\u001b[0mfinalize\u001b[0m\u001b[0;34m(\u001b[0m\u001b[0;34m)\u001b[0m\u001b[0;34m\u001b[0m\u001b[0;34m\u001b[0m\u001b[0m\n\u001b[0m\u001b[1;32m   2552\u001b[0m         \u001b[0;32mfinally\u001b[0m\u001b[0;34m:\u001b[0m\u001b[0;34m\u001b[0m\u001b[0;34m\u001b[0m\u001b[0m\n\u001b[1;32m   2553\u001b[0m             \u001b[0;32mif\u001b[0m \u001b[0misinstance\u001b[0m\u001b[0;34m(\u001b[0m\u001b[0mfilename\u001b[0m\u001b[0;34m,\u001b[0m \u001b[0mPdfPages\u001b[0m\u001b[0;34m)\u001b[0m\u001b[0;34m:\u001b[0m  \u001b[0;31m# finish off this page\u001b[0m\u001b[0;34m\u001b[0m\u001b[0;34m\u001b[0m\u001b[0m\n",
            "\u001b[0;32m/usr/local/lib/python3.7/dist-packages/matplotlib/backends/backend_pdf.py\u001b[0m in \u001b[0;36mfinalize\u001b[0;34m(self)\u001b[0m\n\u001b[1;32m    609\u001b[0m             \u001b[0mxobjects\u001b[0m\u001b[0;34m[\u001b[0m\u001b[0mname\u001b[0m\u001b[0;34m]\u001b[0m \u001b[0;34m=\u001b[0m \u001b[0mob\u001b[0m\u001b[0;34m\u001b[0m\u001b[0;34m\u001b[0m\u001b[0m\n\u001b[1;32m    610\u001b[0m         \u001b[0mself\u001b[0m\u001b[0;34m.\u001b[0m\u001b[0mwriteObject\u001b[0m\u001b[0;34m(\u001b[0m\u001b[0mself\u001b[0m\u001b[0;34m.\u001b[0m\u001b[0mXObjectObject\u001b[0m\u001b[0;34m,\u001b[0m \u001b[0mxobjects\u001b[0m\u001b[0;34m)\u001b[0m\u001b[0;34m\u001b[0m\u001b[0;34m\u001b[0m\u001b[0m\n\u001b[0;32m--> 611\u001b[0;31m         \u001b[0mself\u001b[0m\u001b[0;34m.\u001b[0m\u001b[0mwriteImages\u001b[0m\u001b[0;34m(\u001b[0m\u001b[0;34m)\u001b[0m\u001b[0;34m\u001b[0m\u001b[0;34m\u001b[0m\u001b[0m\n\u001b[0m\u001b[1;32m    612\u001b[0m         \u001b[0mself\u001b[0m\u001b[0;34m.\u001b[0m\u001b[0mwriteMarkers\u001b[0m\u001b[0;34m(\u001b[0m\u001b[0;34m)\u001b[0m\u001b[0;34m\u001b[0m\u001b[0;34m\u001b[0m\u001b[0m\n\u001b[1;32m    613\u001b[0m         \u001b[0mself\u001b[0m\u001b[0;34m.\u001b[0m\u001b[0mwritePathCollectionTemplates\u001b[0m\u001b[0;34m(\u001b[0m\u001b[0;34m)\u001b[0m\u001b[0;34m\u001b[0m\u001b[0;34m\u001b[0m\u001b[0m\n",
            "\u001b[0;32m/usr/local/lib/python3.7/dist-packages/matplotlib/backends/backend_pdf.py\u001b[0m in \u001b[0;36mwriteImages\u001b[0;34m(self)\u001b[0m\n\u001b[1;32m   1500\u001b[0m                 \u001b[0msmaskObject\u001b[0m \u001b[0;34m=\u001b[0m \u001b[0;32mNone\u001b[0m\u001b[0;34m\u001b[0m\u001b[0;34m\u001b[0m\u001b[0m\n\u001b[1;32m   1501\u001b[0m             self._writeImg(data, height, width, False,\n\u001b[0;32m-> 1502\u001b[0;31m                            ob.id, smaskObject)\n\u001b[0m\u001b[1;32m   1503\u001b[0m \u001b[0;34m\u001b[0m\u001b[0m\n\u001b[1;32m   1504\u001b[0m     def markerObject(self, path, trans, fill, stroke, lw, joinstyle,\n",
            "\u001b[0;32m/usr/local/lib/python3.7/dist-packages/matplotlib/backends/backend_pdf.py\u001b[0m in \u001b[0;36m_writeImg\u001b[0;34m(self, data, height, width, grayscale, id, smask)\u001b[0m\n\u001b[1;32m   1486\u001b[0m             )\n\u001b[1;32m   1487\u001b[0m         \u001b[0;32mif\u001b[0m \u001b[0mpng\u001b[0m\u001b[0;34m:\u001b[0m\u001b[0;34m\u001b[0m\u001b[0;34m\u001b[0m\u001b[0m\n\u001b[0;32m-> 1488\u001b[0;31m             \u001b[0mself\u001b[0m\u001b[0;34m.\u001b[0m\u001b[0m_writePng\u001b[0m\u001b[0;34m(\u001b[0m\u001b[0mdata\u001b[0m\u001b[0;34m)\u001b[0m\u001b[0;34m\u001b[0m\u001b[0;34m\u001b[0m\u001b[0m\n\u001b[0m\u001b[1;32m   1489\u001b[0m         \u001b[0;32melse\u001b[0m\u001b[0;34m:\u001b[0m\u001b[0;34m\u001b[0m\u001b[0;34m\u001b[0m\u001b[0m\n\u001b[1;32m   1490\u001b[0m             \u001b[0mself\u001b[0m\u001b[0;34m.\u001b[0m\u001b[0mcurrentstream\u001b[0m\u001b[0;34m.\u001b[0m\u001b[0mwrite\u001b[0m\u001b[0;34m(\u001b[0m\u001b[0mdata\u001b[0m\u001b[0;34m.\u001b[0m\u001b[0mtobytes\u001b[0m\u001b[0;34m(\u001b[0m\u001b[0;34m)\u001b[0m\u001b[0;34m)\u001b[0m\u001b[0;34m\u001b[0m\u001b[0;34m\u001b[0m\u001b[0m\n",
            "\u001b[0;32m/usr/local/lib/python3.7/dist-packages/matplotlib/backends/backend_pdf.py\u001b[0m in \u001b[0;36m_writePng\u001b[0;34m(self, data)\u001b[0m\n\u001b[1;32m   1441\u001b[0m         \"\"\"\n\u001b[1;32m   1442\u001b[0m         \u001b[0mbuffer\u001b[0m \u001b[0;34m=\u001b[0m \u001b[0mBytesIO\u001b[0m\u001b[0;34m(\u001b[0m\u001b[0;34m)\u001b[0m\u001b[0;34m\u001b[0m\u001b[0;34m\u001b[0m\u001b[0m\n\u001b[0;32m-> 1443\u001b[0;31m         \u001b[0m_png\u001b[0m\u001b[0;34m.\u001b[0m\u001b[0mwrite_png\u001b[0m\u001b[0;34m(\u001b[0m\u001b[0mdata\u001b[0m\u001b[0;34m,\u001b[0m \u001b[0mbuffer\u001b[0m\u001b[0;34m)\u001b[0m\u001b[0;34m\u001b[0m\u001b[0;34m\u001b[0m\u001b[0m\n\u001b[0m\u001b[1;32m   1444\u001b[0m         \u001b[0mbuffer\u001b[0m\u001b[0;34m.\u001b[0m\u001b[0mseek\u001b[0m\u001b[0;34m(\u001b[0m\u001b[0;36m8\u001b[0m\u001b[0;34m)\u001b[0m\u001b[0;34m\u001b[0m\u001b[0;34m\u001b[0m\u001b[0m\n\u001b[1;32m   1445\u001b[0m         \u001b[0;32mwhile\u001b[0m \u001b[0;32mTrue\u001b[0m\u001b[0;34m:\u001b[0m\u001b[0;34m\u001b[0m\u001b[0;34m\u001b[0m\u001b[0m\n",
            "\u001b[0;31mKeyboardInterrupt\u001b[0m: "
          ]
        },
        {
          "output_type": "display_data",
          "data": {
            "text/plain": [
              "<Figure size 432x288 with 0 Axes>"
            ]
          },
          "metadata": {}
        },
        {
          "output_type": "display_data",
          "data": {
            "text/plain": [
              "<Figure size 432x288 with 0 Axes>"
            ]
          },
          "metadata": {}
        },
        {
          "output_type": "display_data",
          "data": {
            "text/plain": [
              "<Figure size 432x288 with 0 Axes>"
            ]
          },
          "metadata": {}
        },
        {
          "output_type": "display_data",
          "data": {
            "text/plain": [
              "<Figure size 432x288 with 0 Axes>"
            ]
          },
          "metadata": {}
        },
        {
          "output_type": "display_data",
          "data": {
            "text/plain": [
              "<Figure size 432x288 with 0 Axes>"
            ]
          },
          "metadata": {}
        },
        {
          "output_type": "display_data",
          "data": {
            "text/plain": [
              "<Figure size 432x288 with 0 Axes>"
            ]
          },
          "metadata": {}
        },
        {
          "output_type": "display_data",
          "data": {
            "text/plain": [
              "<Figure size 432x288 with 0 Axes>"
            ]
          },
          "metadata": {}
        },
        {
          "output_type": "display_data",
          "data": {
            "text/plain": [
              "<Figure size 432x288 with 2 Axes>"
            ],
            "image/png": "[encoded data removed]"
          },
          "metadata": {
            "needs_background": "light"
          }
        }
      ],
      "source": [
        "data_results = pd.DataFrame([],columns=['Acurácia', 'F1-Score', 'ROC-AUC', 'Fold','Modelo','Parâmetros',\"Balanceamento\",\"N_feat\",\"Features\"])\n",
        "models = [\"KNN\", \"RL\", \"BNB\", \"DT\", \"PMC\",  \"RF\", \"GB\"] #\"KNN\",\n",
        "balances = ['No','Under', 'Over', 'Hybrid']\n",
        "n_features = [\"All\",16,11,6]#\"All\",\n",
        "\n",
        "for name_model in models:\n",
        "  results = []\n",
        "  for k in range(1,6):\n",
        "\n",
        "    #retira o banco de dados de teste\n",
        "    teste  = data[data.fold==k]\n",
        "\n",
        "    # ja separa o y de teste\n",
        "    y_teste = teste['class']\n",
        "\n",
        "    # o x de teste precisa ser definido posteriormente\n",
        "    # uma vez que vai depender da seleção de features\n",
        "\n",
        "    for balan in balances:\n",
        "      \n",
        "      treino = data[data.fold!=k] #retorna o banco de dados de treino balanceado\n",
        "\n",
        "      #separação features e classes\n",
        "      x_treino, y_treino = balan_func(treino[features],treino['class'],balan)\n",
        "\n",
        "\n",
        "\n",
        "      # Econtrando os melhores hiper parâmetros\n",
        "      b_model, best_parameters = grid_best_model(model=name_model, grid=grid)\n",
        "\n",
        "      for n_feat in n_features:\n",
        "        model= f_models(name_model,best_parameters)\n",
        "        # print(model)\n",
        "        #seleção de features para cada conjunto de hiper parâmetros \n",
        "        best_feat = select_feat(x_treino,y_treino,model,n_feat,features)\n",
        "\n",
        "        #atualizando o treino com as features escolhidas\n",
        "        x_treino =x_treino[best_feat]\n",
        "        \n",
        "        #definindo o x de teste a partir das features selecionadas\n",
        "        x_teste = teste[best_feat]\n",
        "        \n",
        "        #treino do modelo com melhores parametros, features e balanceamento\n",
        "        \n",
        "        model.fit(x_treino, y_treino)\n",
        "\n",
        "        # teste é feito sem balanceamento\n",
        "        y_pred = model.predict(x_teste)\n",
        "        y_pred_prob = model.predict_proba(x_teste)\n",
        "        result = metrics(y_teste, y_pred, y_pred_prob)\n",
        "\n",
        "        print(\"Modelo:\", name_model, \"Fold:\", k, \"Balanceamento:\", balan, \"Features:\", n_feat)\n",
        "        print(\"Melhor parametro:\", best_parameters)         \n",
        "        print(\"Acc:\", result[0], \"F1:\", result[1], \"AUC:\", result[2])\n",
        "        print('')\n",
        "        plt.figure();\n",
        "        plot_confusion_matrix(model, x_teste, y_teste, normalize='true');\n",
        "        plt.title(name_model+'_f'+ str(k)+'_feat:'+str(n_feat)+'_balan:'+balan);\n",
        "        plt.savefig('/content/drive/MyDrive/AnalisePred_I/confusion_matrix_plus/'+ name_model+'_f'+ str(k) +'.pdf', format=\"pdf\", dpi=1000, bbox_inches=\"tight\");\n",
        "        plt.close();\n",
        "\n",
        "        result.append(k)\n",
        "        result.append(name_model)\n",
        "        result.append(best_parameters)\n",
        "\n",
        "        result.append(balan)\n",
        "        result.append(len(best_feat))\n",
        "        result.append(best_feat)\n",
        "        results.append(result)\n",
        "\n",
        "        \n",
        "  data_results = pd.concat([data_results, pd.DataFrame(results,columns=['Acurácia', 'F1-Score', 'ROC-AUC', 'Fold','Modelo','Parâmetros','Balanceamento',\"N_feat\",\"Features\"])])\n",
        "  data_results.to_csv('/content/drive/MyDrive/AnalisePred_I/Car_results_plus'+ name_model + '.csv')\n"
      ]
    },
    {
      "cell_type": "code",
      "source": [
        "model.tolist()"
      ],
      "metadata": {
        "colab": {
          "base_uri": "https://localhost:8080/"
        },
        "id": "1lgHdthq9mzu",
        "outputId": "decb23c4-a067-46c8-f01a-50968be4d831"
      },
      "execution_count": null,
      "outputs": [
        {
          "output_type": "execute_result",
          "data": {
            "text/plain": [
              "LogisticRegression(l1_ratio=0, random_state=0, tol=1e-05, warm_start=True)"
            ]
          },
          "metadata": {},
          "execution_count": 100
        }
      ]
    },
    {
      "cell_type": "code",
      "source": [
        "print(best_feat)"
      ],
      "metadata": {
        "colab": {
          "base_uri": "https://localhost:8080/"
        },
        "id": "g5ev2bG7o6m7",
        "outputId": "6a56ffcb-48d2-4315-ad29-2fcd95d491c2"
      },
      "execution_count": null,
      "outputs": [
        {
          "output_type": "stream",
          "name": "stdout",
          "text": [
            "Index(['buying_price_vhigh', 'buying_price_high', 'buying_price_med',\n",
            "       'buying_price_low', 'maintenance_price_vhigh', 'maintenance_price_high',\n",
            "       'maintenance_price_med', 'maintenance_price_low', 'doors_2',\n",
            "       'persons_2', 'persons_4', 'persons_more', 'luggage_boot_size_small',\n",
            "       'safety_low', 'safety_med', 'safety_high'],\n",
            "      dtype='object')\n"
          ]
        }
      ]
    }
  ],
  "metadata": {
    "colab": {
      "name": "classifier_car.ipynb",
      "provenance": [],
      "include_colab_link": true
    },
    "kernelspec": {
      "display_name": "Python 3.7.6 ('base')",
      "language": "python",
      "name": "python3"
    },
    "language_info": {
      "codemirror_mode": {
        "name": "ipython",
        "version": 3
      },
      "file_extension": ".py",
      "mimetype": "text/x-python",
      "name": "python",
      "nbconvert_exporter": "python",
      "pygments_lexer": "ipython3",
      "version": "3.7.6"
    },
    "orig_nbformat": 4,
    "vscode": {
      "interpreter": {
        "hash": "1d3a245165631ca1151694c656e253180713a00b2aa4e363f5b597e7a7cbc838"
      }
    }
  },
  "nbformat": 4,
  "nbformat_minor": 0
}