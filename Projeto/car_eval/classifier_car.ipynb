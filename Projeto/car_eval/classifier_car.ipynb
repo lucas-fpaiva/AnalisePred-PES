{
  "cells": [
    {
      "cell_type": "markdown",
      "metadata": {
        "id": "view-in-github",
        "colab_type": "text"
      },
      "source": [
        "<a href=\"https://colab.research.google.com/github/lucas-fpaiva/AnalisePred_I/blob/main/Projeto/car_eval/classifier_car.ipynb\" target=\"_parent\"><img src=\"https://colab.research.google.com/assets/colab-badge.svg\" alt=\"Open In Colab\"/></a>"
      ]
    },
    {
      "cell_type": "code",
      "source": [
        "from google.colab import drive\n",
        "drive.mount('/content/drive')"
      ],
      "metadata": {
        "colab": {
          "base_uri": "https://localhost:8080/"
        },
        "id": "kuMmcN4bIxmL",
        "outputId": "cb2cad6f-9550-4995-ac44-4499c4efdfd5"
      },
      "execution_count": 172,
      "outputs": [
        {
          "output_type": "stream",
          "name": "stdout",
          "text": [
            "Mounted at /content/drive\n"
          ]
        }
      ]
    },
    {
      "cell_type": "markdown",
      "metadata": {
        "id": "Csxq-QIV1xUD"
      },
      "source": [
        "# Avaliar a popularidade de músicas de forro"
      ]
    },
    {
      "cell_type": "code",
      "execution_count": 125,
      "metadata": {
        "id": "GqjIv-ud1xUa"
      },
      "outputs": [],
      "source": [
        "import pandas as pd\n",
        "import matplotlib.gridspec as gridspec\n",
        "import matplotlib.pyplot as plt\n",
        "import numpy as np\n",
        "import sklearn\n",
        "import seaborn as sns\n",
        "\n",
        "from scipy.io.arff import loadarff \n",
        "from scipy.io import arff\n",
        "\n",
        "from sklearn.tree import DecisionTreeRegressor, DecisionTreeClassifier\n",
        "from sklearn.ensemble import RandomForestRegressor, RandomForestClassifier\n",
        "from sklearn.model_selection import GridSearchCV, KFold, StratifiedKFold, cross_val_score\n",
        "from sklearn.neural_network import MLPClassifier, MLPRegressor\n",
        "from sklearn.neighbors import KNeighborsClassifier, KNeighborsRegressor\n",
        "from sklearn.linear_model import LogisticRegression, LinearRegression\n",
        "\n",
        "from sklearn.metrics import precision_score as ps\n",
        "from sklearn.metrics import recall_score as rs\n",
        "from sklearn.metrics import f1_score as f1\n",
        "from sklearn.metrics import accuracy_score as acs\n",
        "\n",
        "from sklearn.metrics import classification_report\n",
        "from sklearn.metrics import multilabel_confusion_matrix\n",
        "from sklearn.metrics import plot_confusion_matrix\n",
        "\n",
        "from sklearn.datasets import make_classification\n",
        "from ast import literal_eval\n",
        "\n",
        "import warnings\n",
        "warnings.filterwarnings('ignore')\n"
      ]
    },
    {
      "cell_type": "code",
      "source": [
        "def grid_best_model (model=\"DT\", names=False, grid=\"\", task=\"R\"):\n",
        "  #A função retorna o modelo com os melhores parametros, os melhores parametros e o melhor score\n",
        "  scoring = 'accuracy'\n",
        "  #models = [\"KNN\",\"LM\",\"DT\",\"SVM\", \"RF\", \"MLP\", \"GB\", \"ADA\"]\n",
        "  #types = [\"C\",\"R\"]\n",
        "  if names == True:\n",
        "    print(\"KNN: KNeighborsRegressor\\nLM: LinearRegression\\nDT: DecisionTreeRegressor\\nRF: RandomForestRegressor\",\n",
        "          \"\\nGB: GradientBoostingRegressor\\nSVM: Support Vector Machine\\nADA: AdaBoostRegressor\\nMLP: MLPRegressor\")\n",
        "    \n",
        "  if model == \"DT\":\n",
        "    if task == \"C\":\n",
        "      gs_cv = GridSearchCV(estimator=DecisionTreeClassifier(), param_grid=grid['DT'], cv= 5, scoring=scoring)\n",
        "      gs_cv.fit(x_treino, y_treino)\n",
        "      return DecisionTreeClassifier(criterion=gs_cv.best_params_['criterion'], max_depth=gs_cv.best_params_['max_depth'], min_samples_leaf=gs_cv.best_params_['min_samples_leaf'], \n",
        "                                    random_state=gs_cv.best_params_['random_state']).fit(x_treino, y_treino), gs_cv.best_params_\n",
        "\n",
        "    elif task == \"R\":\n",
        "      gs_cv = GridSearchCV(estimator=DecisionTreeRegressor(), param_grid=grid['DT'], cv= 5, scoring=scoring, n_jobs=-1)\n",
        "      gs_cv.fit(x_treino, y_treino)\n",
        "      return DecisionTreeRegressor(criterion=gs_cv.best_params_['criterion'], max_depth=gs_cv.best_params_['max_depth'], min_samples_leaf=gs_cv.best_params_['min_samples_leaf'],\n",
        "                                   random_state=gs_cv.best_params_['random_state']).fit(x_treino, y_treino), gs_cv.best_params_\n",
        "        \n",
        "  if model==\"MLP\":\n",
        "    if task == \"C\":\n",
        "      gs_cv = GridSearchCV(estimator=MLPClassifier(), param_grid=grid['MLP'], cv= 5, scoring=scoring, n_jobs=-1)\n",
        "      gs_cv.fit(x_treino, y_treino)\n",
        "      return MLPClassifier(hidden_layer_sizes=gs_cv.best_params_['hidden_layer_sizes'], max_iter=gs_cv.best_params_['max_iter'], activation=gs_cv.best_params_['activation'], \n",
        "                           random_state=gs_cv.best_params_['random_state']), gs_cv.best_params_\n",
        "    elif task == \"R\":\n",
        "\n",
        "      gs_cv = GridSearchCV(estimator=MLPRegressor(), param_grid=grid['MLP'], cv= 5, scoring=scoring, n_jobs=-1)\n",
        "      gs_cv.fit(x_treino, y_treino)\n",
        "      return MLPRegressor(early_stopping=True, hidden_layer_sizes=gs_cv.best_params_['hidden_layer_sizes'], max_iter=gs_cv.best_params_['max_iter'], activation=gs_cv.best_params_['activation'], \n",
        "                           random_state=gs_cv.best_params_['random_state']), gs_cv.best_params_\n",
        "    \n",
        "  if model == \"RF\":\n",
        "    if task == \"C\":\n",
        "      gs_cv = GridSearchCV(estimator=RandomForestClassifier(), param_grid=grid['RF'], cv= 5, scoring=scoring, n_jobs=-1)\n",
        "      gs_cv.fit(x_treino, y_treino)\n",
        "      return RandomForestClassifier(n_estimators=gs_cv.best_params_['n_estimators'], max_depth=gs_cv.best_params_['max_depth'], max_features=gs_cv.best_params_['max_features'], \n",
        "                             random_state=gs_cv.best_params_['random_state'], criterion=gs_cv.best_params_['criterion']), gs_cv.best_params_\n",
        "\n",
        "    elif task == \"R\":\n",
        "      gs_cv = GridSearchCV(estimator=RandomForestRegressor(), param_grid=grid['RF'], cv= 5, scoring=scoring, n_jobs=-1)\n",
        "      gs_cv.fit(x_treino, y_treino)\n",
        "      return RandomForestRegressor(n_estimators=gs_cv.best_params_['n_estimators'], max_features=gs_cv.best_params_['max_features'], \n",
        "                             random_state=gs_cv.best_params_['random_state'], criterion=gs_cv.best_params_['criterion']), gs_cv.best_params_\n",
        "\n",
        "  if model == \"KNN\":\n",
        "    if task == \"C\":\n",
        "      gs_cv = GridSearchCV(estimator=KNeighborsClassifier(), param_grid=grid['KNN'], cv= 5, scoring=scoring, n_jobs=-1)\n",
        "      gs_cv.fit(x_treino, y_treino)\n",
        "      return KNeighborsClassifier(n_neighbors=gs_cv.best_params_['n_neighbors'], weights=gs_cv.best_params_['weights'], metric=gs_cv.best_params_['metric']), gs_cv.best_params_\n",
        "\n",
        "    elif task == \"R\":\n",
        "      gs_cv = GridSearchCV(estimator=KNeighborsRegressor(), param_grid=grid['KNN'], cv= 5, scoring=scoring, n_jobs=-1)\n",
        "      gs_cv.fit(x_treino, y_treino)\n",
        "      return KNeighborsRegressor(n_neighbors=gs_cv.best_params_['n_neighbors'], weights=gs_cv.best_params_['weights'], metric=gs_cv.best_params_['metric']), gs_cv.best_params_\n",
        "\n",
        "  if model == \"LM\":\n",
        "    if task == \"C\":\n",
        "      gs_cv = GridSearchCV(estimator=LogisticRegression(), param_grid=grid['LM'], cv= 5, scoring=scoring, n_jobs=-1)\n",
        "      gs_cv.fit(x_treino, y_treino)\n",
        "      return LogisticRegression(fit_intercept=gs_cv.best_params_['fit_intercept']), gs_cv.best_params_\n",
        "\n",
        "    elif task == \"R\":\n",
        "      gs_cv = GridSearchCV(estimator=LinearRegression(), param_grid=grid['LM'], cv= 5, scoring=scoring, n_jobs=-1)\n",
        "      gs_cv.fit(x_treino, y_treino)\n",
        "      return LinearRegression(fit_intercept=gs_cv.best_params_['fit_intercept']), gs_cv.best_params_\n",
        "        \n",
        "  return print(\"KNN: KNeighborsRegressor\\nLM: LinearRegression\\nDT: DecisionTreeRegressor\\nRF: RandomForestRegressor\",\n",
        "          \"\\nGB: GradientBoostingRegressor\\nSVM: Support Vector Machine\\nADA: AdaBoostRegressor\\nMLP: MLPRegressor\")\n",
        "  \n",
        "#Parâmetros do Grid\n",
        "grid = {\n",
        "    'RF':{ \n",
        "        'n_estimators': range(5,30,2),\n",
        "        'max_depth' : range(5,30,2),\n",
        "        'criterion' :['gini', 'entropy'],\n",
        "        'random_state' : [0]},\n",
        "\n",
        "    'MLP':{\n",
        "        'hidden_layer_sizes': range(5,30,2),#[(10,), (15,), (20,), (30,)],\n",
        "        'max_iter': [200],\n",
        "        'activation' : ['relu', 'tanh'],\n",
        "        'random_state' : [0]},\n",
        "\n",
        "    'DT':{\n",
        "        'max_depth': range(5,30,2),\n",
        "        'min_samples_leaf': [1,2,3,4,5],\n",
        "        'criterion' :['gini', 'entropy'],\n",
        "        'random_state' : [0]},\n",
        "\n",
        "    'KNN':{\n",
        "      'n_neighbors': range(5,30,2),\n",
        "      'weights': ['uniform', 'distance'],\n",
        "      'metric' : ['manhattan', 'euclidean']},\n",
        "\n",
        "    'LM':{\n",
        "      'fit_intercept' : [True, False]}\n",
        "}"
      ],
      "metadata": {
        "id": "7oTeWB0yLtxT"
      },
      "execution_count": 2,
      "outputs": []
    },
    {
      "cell_type": "code",
      "source": [
        "\n",
        "data['class'].values"
      ],
      "metadata": {
        "id": "0NVC2LuS1yBh",
        "outputId": "3929d687-d108-4a1c-ddd4-81b442acfcde",
        "colab": {
          "base_uri": "https://localhost:8080/"
        }
      },
      "execution_count": 143,
      "outputs": [
        {
          "output_type": "execute_result",
          "data": {
            "text/plain": [
              "array([0, 0, 0, ..., 0, 3, 2])"
            ]
          },
          "metadata": {},
          "execution_count": 143
        }
      ]
    },
    {
      "cell_type": "code",
      "source": [
        "def data_k_fold(data, k, tag, id_tag, features):\n",
        "    kf=StratifiedKFold(n_splits=k, shuffle=True, random_state=123)\n",
        "    kf.get_n_splits(data[tag].values)\n",
        "    ids = np.array(data[id_tag])\n",
        "    folds = pd.DataFrame([], columns=[id_tag, 'fold'])\n",
        "    k=1\n",
        "    \n",
        "    for train_index, test_index in kf.split(data[features], data[tag]):\n",
        "      fold = np.array([k]*len(test_index))\n",
        "      folds = pd.concat([folds, pd.DataFrame(np.transpose([ids[test_index],fold]),columns=[id_tag, 'fold'])])\n",
        "      k+=1\n",
        "\n",
        "    data = data.merge(folds, how='left',on=id_tag)   \n",
        "    return data"
      ],
      "metadata": {
        "id": "3uCyBzB4zWd1"
      },
      "execution_count": 165,
      "outputs": []
    },
    {
      "cell_type": "markdown",
      "source": [
        "## Lendo o Dataset"
      ],
      "metadata": {
        "id": "FI2B053-WNjz"
      }
    },
    {
      "cell_type": "code",
      "source": [
        "!git clone 'https://github.com/lucas-fpaiva/AnalisePred_I.git'"
      ],
      "metadata": {
        "id": "CdpDzi_Ea_jd",
        "outputId": "57bae765-44ee-43e0-916a-6a3e9cfe17d3",
        "colab": {
          "base_uri": "https://localhost:8080/"
        }
      },
      "execution_count": 4,
      "outputs": [
        {
          "output_type": "stream",
          "name": "stdout",
          "text": [
            "Cloning into 'AnalisePred_I'...\n",
            "remote: Enumerating objects: 139, done.\u001b[K\n",
            "remote: Counting objects: 100% (139/139), done.\u001b[K\n",
            "remote: Compressing objects: 100% (130/130), done.\u001b[K\n",
            "remote: Total 139 (delta 40), reused 11 (delta 1), pack-reused 0\u001b[K\n",
            "Receiving objects: 100% (139/139), 5.28 MiB | 5.62 MiB/s, done.\n",
            "Resolving deltas: 100% (40/40), done.\n"
          ]
        }
      ]
    },
    {
      "cell_type": "code",
      "execution_count": 160,
      "metadata": {
        "id": "WIUYApCx1xUa",
        "colab": {
          "base_uri": "https://localhost:8080/"
        },
        "outputId": "f64b2de3-573d-45cf-8aad-40f64c478860"
      },
      "outputs": [
        {
          "output_type": "stream",
          "name": "stdout",
          "text": [
            "<class 'pandas.core.frame.DataFrame'>\n",
            "RangeIndex: 1728 entries, 0 to 1727\n",
            "Data columns (total 22 columns):\n",
            " #   Column                   Non-Null Count  Dtype \n",
            "---  ------                   --------------  ----- \n",
            " 0   class                    1728 non-null   object\n",
            " 1   buying_price_vhigh       1728 non-null   object\n",
            " 2   buying_price_high        1728 non-null   object\n",
            " 3   buying_price_med         1728 non-null   object\n",
            " 4   buying_price_low         1728 non-null   object\n",
            " 5   maintenance_price_vhigh  1728 non-null   object\n",
            " 6   maintenance_price_high   1728 non-null   object\n",
            " 7   maintenance_price_med    1728 non-null   object\n",
            " 8   maintenance_price_low    1728 non-null   object\n",
            " 9   doors_2                  1728 non-null   object\n",
            " 10  doors_3                  1728 non-null   object\n",
            " 11  doors_4                  1728 non-null   object\n",
            " 12  doors_5more              1728 non-null   object\n",
            " 13  persons_2                1728 non-null   object\n",
            " 14  persons_4                1728 non-null   object\n",
            " 15  persons_more             1728 non-null   object\n",
            " 16  luggage_boot_size_small  1728 non-null   object\n",
            " 17  luggage_boot_size_med    1728 non-null   object\n",
            " 18  luggage_boot_size_big    1728 non-null   object\n",
            " 19  safety_low               1728 non-null   object\n",
            " 20  safety_med               1728 non-null   object\n",
            " 21  safety_high              1728 non-null   object\n",
            "dtypes: object(22)\n",
            "memory usage: 297.1+ KB\n"
          ]
        }
      ],
      "source": [
        "data = loadarff('/content/AnalisePred_I/Projeto/car_eval/car-evaluation.arff')\n",
        "data = pd.DataFrame(data[0])\n",
        "\n",
        "data.info()"
      ]
    },
    {
      "cell_type": "markdown",
      "source": [
        "## Tratando o DataSet"
      ],
      "metadata": {
        "id": "AW-p8xdRcpEM"
      }
    },
    {
      "cell_type": "code",
      "source": [
        "# Convertendo os valores em bytes para int\n",
        "for col in data.columns:\n",
        "    data[col] = data[col].astype(int)"
      ],
      "metadata": {
        "id": "tJDmQWkKvtp5"
      },
      "execution_count": 161,
      "outputs": []
    },
    {
      "cell_type": "code",
      "source": [
        "data['id'] = data.index"
      ],
      "metadata": {
        "id": "BUQwFX3NxnEA"
      },
      "execution_count": 162,
      "outputs": []
    },
    {
      "cell_type": "code",
      "source": [
        "data.buying_price_vhigh.value_counts()"
      ],
      "metadata": {
        "id": "hDDN0rL5pJCt",
        "outputId": "656170bb-811d-4e76-ca3b-1f0163c5789c",
        "colab": {
          "base_uri": "https://localhost:8080/"
        }
      },
      "execution_count": 114,
      "outputs": [
        {
          "output_type": "execute_result",
          "data": {
            "text/plain": [
              "0    1296\n",
              "1     432\n",
              "Name: buying_price_vhigh, dtype: int64"
            ]
          },
          "metadata": {},
          "execution_count": 114
        }
      ]
    },
    {
      "cell_type": "code",
      "source": [
        "data.head()"
      ],
      "metadata": {
        "id": "VIBEEusnx7XW",
        "outputId": "520bae0f-c170-4f09-cad2-ea096f4c6df8",
        "colab": {
          "base_uri": "https://localhost:8080/",
          "height": 299
        }
      },
      "execution_count": 163,
      "outputs": [
        {
          "output_type": "execute_result",
          "data": {
            "text/plain": [
              "   class  buying_price_vhigh  buying_price_high  buying_price_med  \\\n",
              "0      0                   1                  0                 0   \n",
              "1      0                   1                  0                 0   \n",
              "2      0                   1                  0                 0   \n",
              "3      0                   1                  0                 0   \n",
              "4      0                   1                  0                 0   \n",
              "\n",
              "   buying_price_low  maintenance_price_vhigh  maintenance_price_high  \\\n",
              "0                 0                        1                       0   \n",
              "1                 0                        1                       0   \n",
              "2                 0                        1                       0   \n",
              "3                 0                        1                       0   \n",
              "4                 0                        1                       0   \n",
              "\n",
              "   maintenance_price_med  maintenance_price_low  doors_2  ...  persons_2  \\\n",
              "0                      0                      0        1  ...          1   \n",
              "1                      0                      0        1  ...          1   \n",
              "2                      0                      0        1  ...          1   \n",
              "3                      0                      0        1  ...          1   \n",
              "4                      0                      0        1  ...          1   \n",
              "\n",
              "   persons_4  persons_more  luggage_boot_size_small  luggage_boot_size_med  \\\n",
              "0          0             0                        1                      0   \n",
              "1          0             0                        1                      0   \n",
              "2          0             0                        1                      0   \n",
              "3          0             0                        0                      1   \n",
              "4          0             0                        0                      1   \n",
              "\n",
              "   luggage_boot_size_big  safety_low  safety_med  safety_high  id  \n",
              "0                      0           1           0            0   0  \n",
              "1                      0           0           1            0   1  \n",
              "2                      0           0           0            1   2  \n",
              "3                      0           1           0            0   3  \n",
              "4                      0           0           1            0   4  \n",
              "\n",
              "[5 rows x 23 columns]"
            ],
            "text/html": [
              "\n",
              "  <div id=\"df-84158126-ec34-4098-a5b8-90bfe8f56088\">\n",
              "    <div class=\"colab-df-container\">\n",
              "      <div>\n",
              "<style scoped>\n",
              "    .dataframe tbody tr th:only-of-type {\n",
              "        vertical-align: middle;\n",
              "    }\n",
              "\n",
              "    .dataframe tbody tr th {\n",
              "        vertical-align: top;\n",
              "    }\n",
              "\n",
              "    .dataframe thead th {\n",
              "        text-align: right;\n",
              "    }\n",
              "</style>\n",
              "<table border=\"1\" class=\"dataframe\">\n",
              "  <thead>\n",
              "    <tr style=\"text-align: right;\">\n",
              "      <th></th>\n",
              "      <th>class</th>\n",
              "      <th>buying_price_vhigh</th>\n",
              "      <th>buying_price_high</th>\n",
              "      <th>buying_price_med</th>\n",
              "      <th>buying_price_low</th>\n",
              "      <th>maintenance_price_vhigh</th>\n",
              "      <th>maintenance_price_high</th>\n",
              "      <th>maintenance_price_med</th>\n",
              "      <th>maintenance_price_low</th>\n",
              "      <th>doors_2</th>\n",
              "      <th>...</th>\n",
              "      <th>persons_2</th>\n",
              "      <th>persons_4</th>\n",
              "      <th>persons_more</th>\n",
              "      <th>luggage_boot_size_small</th>\n",
              "      <th>luggage_boot_size_med</th>\n",
              "      <th>luggage_boot_size_big</th>\n",
              "      <th>safety_low</th>\n",
              "      <th>safety_med</th>\n",
              "      <th>safety_high</th>\n",
              "      <th>id</th>\n",
              "    </tr>\n",
              "  </thead>\n",
              "  <tbody>\n",
              "    <tr>\n",
              "      <th>0</th>\n",
              "      <td>0</td>\n",
              "      <td>1</td>\n",
              "      <td>0</td>\n",
              "      <td>0</td>\n",
              "      <td>0</td>\n",
              "      <td>1</td>\n",
              "      <td>0</td>\n",
              "      <td>0</td>\n",
              "      <td>0</td>\n",
              "      <td>1</td>\n",
              "      <td>...</td>\n",
              "      <td>1</td>\n",
              "      <td>0</td>\n",
              "      <td>0</td>\n",
              "      <td>1</td>\n",
              "      <td>0</td>\n",
              "      <td>0</td>\n",
              "      <td>1</td>\n",
              "      <td>0</td>\n",
              "      <td>0</td>\n",
              "      <td>0</td>\n",
              "    </tr>\n",
              "    <tr>\n",
              "      <th>1</th>\n",
              "      <td>0</td>\n",
              "      <td>1</td>\n",
              "      <td>0</td>\n",
              "      <td>0</td>\n",
              "      <td>0</td>\n",
              "      <td>1</td>\n",
              "      <td>0</td>\n",
              "      <td>0</td>\n",
              "      <td>0</td>\n",
              "      <td>1</td>\n",
              "      <td>...</td>\n",
              "      <td>1</td>\n",
              "      <td>0</td>\n",
              "      <td>0</td>\n",
              "      <td>1</td>\n",
              "      <td>0</td>\n",
              "      <td>0</td>\n",
              "      <td>0</td>\n",
              "      <td>1</td>\n",
              "      <td>0</td>\n",
              "      <td>1</td>\n",
              "    </tr>\n",
              "    <tr>\n",
              "      <th>2</th>\n",
              "      <td>0</td>\n",
              "      <td>1</td>\n",
              "      <td>0</td>\n",
              "      <td>0</td>\n",
              "      <td>0</td>\n",
              "      <td>1</td>\n",
              "      <td>0</td>\n",
              "      <td>0</td>\n",
              "      <td>0</td>\n",
              "      <td>1</td>\n",
              "      <td>...</td>\n",
              "      <td>1</td>\n",
              "      <td>0</td>\n",
              "      <td>0</td>\n",
              "      <td>1</td>\n",
              "      <td>0</td>\n",
              "      <td>0</td>\n",
              "      <td>0</td>\n",
              "      <td>0</td>\n",
              "      <td>1</td>\n",
              "      <td>2</td>\n",
              "    </tr>\n",
              "    <tr>\n",
              "      <th>3</th>\n",
              "      <td>0</td>\n",
              "      <td>1</td>\n",
              "      <td>0</td>\n",
              "      <td>0</td>\n",
              "      <td>0</td>\n",
              "      <td>1</td>\n",
              "      <td>0</td>\n",
              "      <td>0</td>\n",
              "      <td>0</td>\n",
              "      <td>1</td>\n",
              "      <td>...</td>\n",
              "      <td>1</td>\n",
              "      <td>0</td>\n",
              "      <td>0</td>\n",
              "      <td>0</td>\n",
              "      <td>1</td>\n",
              "      <td>0</td>\n",
              "      <td>1</td>\n",
              "      <td>0</td>\n",
              "      <td>0</td>\n",
              "      <td>3</td>\n",
              "    </tr>\n",
              "    <tr>\n",
              "      <th>4</th>\n",
              "      <td>0</td>\n",
              "      <td>1</td>\n",
              "      <td>0</td>\n",
              "      <td>0</td>\n",
              "      <td>0</td>\n",
              "      <td>1</td>\n",
              "      <td>0</td>\n",
              "      <td>0</td>\n",
              "      <td>0</td>\n",
              "      <td>1</td>\n",
              "      <td>...</td>\n",
              "      <td>1</td>\n",
              "      <td>0</td>\n",
              "      <td>0</td>\n",
              "      <td>0</td>\n",
              "      <td>1</td>\n",
              "      <td>0</td>\n",
              "      <td>0</td>\n",
              "      <td>1</td>\n",
              "      <td>0</td>\n",
              "      <td>4</td>\n",
              "    </tr>\n",
              "  </tbody>\n",
              "</table>\n",
              "<p>5 rows × 23 columns</p>\n",
              "</div>\n",
              "      <button class=\"colab-df-convert\" onclick=\"convertToInteractive('df-84158126-ec34-4098-a5b8-90bfe8f56088')\"\n",
              "              title=\"Convert this dataframe to an interactive table.\"\n",
              "              style=\"display:none;\">\n",
              "        \n",
              "  <svg xmlns=\"http://www.w3.org/2000/svg\" height=\"24px\"viewBox=\"0 0 24 24\"\n",
              "       width=\"24px\">\n",
              "    <path d=\"M0 0h24v24H0V0z\" fill=\"none\"/>\n",
              "    <path d=\"M18.56 5.44l.94 2.06.94-2.06 2.06-.94-2.06-.94-.94-2.06-.94 2.06-2.06.94zm-11 1L8.5 8.5l.94-2.06 2.06-.94-2.06-.94L8.5 2.5l-.94 2.06-2.06.94zm10 10l.94 2.06.94-2.06 2.06-.94-2.06-.94-.94-2.06-.94 2.06-2.06.94z\"/><path d=\"M17.41 7.96l-1.37-1.37c-.4-.4-.92-.59-1.43-.59-.52 0-1.04.2-1.43.59L10.3 9.45l-7.72 7.72c-.78.78-.78 2.05 0 2.83L4 21.41c.39.39.9.59 1.41.59.51 0 1.02-.2 1.41-.59l7.78-7.78 2.81-2.81c.8-.78.8-2.07 0-2.86zM5.41 20L4 18.59l7.72-7.72 1.47 1.35L5.41 20z\"/>\n",
              "  </svg>\n",
              "      </button>\n",
              "      \n",
              "  <style>\n",
              "    .colab-df-container {\n",
              "      display:flex;\n",
              "      flex-wrap:wrap;\n",
              "      gap: 12px;\n",
              "    }\n",
              "\n",
              "    .colab-df-convert {\n",
              "      background-color: #E8F0FE;\n",
              "      border: none;\n",
              "      border-radius: 50%;\n",
              "      cursor: pointer;\n",
              "      display: none;\n",
              "      fill: #1967D2;\n",
              "      height: 32px;\n",
              "      padding: 0 0 0 0;\n",
              "      width: 32px;\n",
              "    }\n",
              "\n",
              "    .colab-df-convert:hover {\n",
              "      background-color: #E2EBFA;\n",
              "      box-shadow: 0px 1px 2px rgba(60, 64, 67, 0.3), 0px 1px 3px 1px rgba(60, 64, 67, 0.15);\n",
              "      fill: #174EA6;\n",
              "    }\n",
              "\n",
              "    [theme=dark] .colab-df-convert {\n",
              "      background-color: #3B4455;\n",
              "      fill: #D2E3FC;\n",
              "    }\n",
              "\n",
              "    [theme=dark] .colab-df-convert:hover {\n",
              "      background-color: #434B5C;\n",
              "      box-shadow: 0px 1px 3px 1px rgba(0, 0, 0, 0.15);\n",
              "      filter: drop-shadow(0px 1px 2px rgba(0, 0, 0, 0.3));\n",
              "      fill: #FFFFFF;\n",
              "    }\n",
              "  </style>\n",
              "\n",
              "      <script>\n",
              "        const buttonEl =\n",
              "          document.querySelector('#df-84158126-ec34-4098-a5b8-90bfe8f56088 button.colab-df-convert');\n",
              "        buttonEl.style.display =\n",
              "          google.colab.kernel.accessAllowed ? 'block' : 'none';\n",
              "\n",
              "        async function convertToInteractive(key) {\n",
              "          const element = document.querySelector('#df-84158126-ec34-4098-a5b8-90bfe8f56088');\n",
              "          const dataTable =\n",
              "            await google.colab.kernel.invokeFunction('convertToInteractive',\n",
              "                                                     [key], {});\n",
              "          if (!dataTable) return;\n",
              "\n",
              "          const docLinkHtml = 'Like what you see? Visit the ' +\n",
              "            '<a target=\"_blank\" href=https://colab.research.google.com/notebooks/data_table.ipynb>data table notebook</a>'\n",
              "            + ' to learn more about interactive tables.';\n",
              "          element.innerHTML = '';\n",
              "          dataTable['output_type'] = 'display_data';\n",
              "          await google.colab.output.renderOutput(dataTable, element);\n",
              "          const docLink = document.createElement('div');\n",
              "          docLink.innerHTML = docLinkHtml;\n",
              "          element.appendChild(docLink);\n",
              "        }\n",
              "      </script>\n",
              "    </div>\n",
              "  </div>\n",
              "  "
            ]
          },
          "metadata": {},
          "execution_count": 163
        }
      ]
    },
    {
      "cell_type": "code",
      "source": [
        "data = data_k_fold(data, 5, 'class', 'id', data.columns[1:-1])"
      ],
      "metadata": {
        "id": "2uK09iBFzv_N"
      },
      "execution_count": 166,
      "outputs": []
    },
    {
      "cell_type": "code",
      "source": [
        "sns.boxplot(data = data, y='class',x='fold',palette='Set1')"
      ],
      "metadata": {
        "id": "oA3RBBti0jnu",
        "outputId": "7498e5ef-70f9-4e31-b7d6-ce49ed5a7c1e",
        "colab": {
          "base_uri": "https://localhost:8080/",
          "height": 296
        }
      },
      "execution_count": 167,
      "outputs": [
        {
          "output_type": "execute_result",
          "data": {
            "text/plain": [
              "<matplotlib.axes._subplots.AxesSubplot at 0x7faa78b3abd0>"
            ]
          },
          "metadata": {},
          "execution_count": 167
        },
        {
          "output_type": "display_data",
          "data": {
            "text/plain": [
              "<Figure size 432x288 with 1 Axes>"
            ],
            "image/png": "[encoded data removed]"
          },
          "metadata": {
            "needs_background": "light"
          }
        }
      ]
    },
    {
      "cell_type": "markdown",
      "source": [
        "## Avaliando a Árvore de Decisão"
      ],
      "metadata": {
        "id": "son5ymSm4A_a"
      }
    },
    {
      "cell_type": "code",
      "source": [
        "plot_confusion_matrix(model, x_teste, y_teste)"
      ],
      "metadata": {
        "id": "r74XvoO6DD2V",
        "outputId": "94b085c1-e2fe-497c-880d-86cfe47d1008",
        "colab": {
          "base_uri": "https://localhost:8080/",
          "height": 298
        }
      },
      "execution_count": null,
      "outputs": [
        {
          "output_type": "execute_result",
          "data": {
            "text/plain": [
              "<sklearn.metrics._plot.confusion_matrix.ConfusionMatrixDisplay at 0x7fd1118ab5d0>"
            ]
          },
          "metadata": {},
          "execution_count": 12
        },
        {
          "output_type": "display_data",
          "data": {
            "text/plain": [
              "<Figure size 432x288 with 2 Axes>"
            ],
            "image/png": "[encoded data removed]"
          },
          "metadata": {
            "needs_background": "light"
          }
        }
      ]
    },
    {
      "cell_type": "code",
      "source": [
        "def get_accuracies(true_labels, predictions):\n",
        "    #https://scikit-learn.org/stable/modules/generated/sklearn.metrics.multilabel_confusion_matrix.html\n",
        "    cm = multilabel_confusion_matrix(true_labels, predictions)\n",
        "    total_count = true_labels.shape[0]\n",
        "    accuracies = []\n",
        "    for i in range(3):\n",
        "        true_positive_count = np.sum(cm[i,1,1]).item()\n",
        "        true_negative_count = np.sum(cm[i,0,0]).item()\n",
        "        accuracy = (true_positive_count + true_negative_count) / total_count\n",
        "        accuracies.append(accuracy)\n",
        "    return accuracies\n",
        "\n",
        "def metrics (y_true, y_pred):\n",
        "  return [acs(y_true, y_pred), get_accuracies(y_true, y_pred), ps(y_true, y_pred, average = 'weighted'), \n",
        "          f1(y_true, y_pred, average = 'weighted'), rs(y_true, y_pred, average = 'weighted')]"
      ],
      "metadata": {
        "id": "O5Bd27LbuFP1"
      },
      "execution_count": 168,
      "outputs": []
    },
    {
      "cell_type": "code",
      "execution_count": 173,
      "metadata": {
        "id": "2nCdUEwp1xUb",
        "colab": {
          "base_uri": "https://localhost:8080/",
          "height": 1000
        },
        "outputId": "2db6c6d2-2c8c-4666-fc9b-31fdb3f33aea"
      },
      "outputs": [
        {
          "output_type": "stream",
          "name": "stdout",
          "text": [
            "Melhor parametro: {'fit_intercept': True}\n",
            "Fold 1 [0.9161849710982659, [0.953757225433526, 0.9190751445086706, 0.9942196531791907], 0.9152714105375058, 0.9090182809342545, 0.9161849710982659]\n"
          ]
        },
        {
          "output_type": "display_data",
          "data": {
            "text/plain": [
              "<Figure size 432x288 with 0 Axes>"
            ]
          },
          "metadata": {}
        },
        {
          "output_type": "display_data",
          "data": {
            "text/plain": [
              "<Figure size 432x288 with 2 Axes>"
            ],
            "image/png": "[encoded data removed]"
          },
          "metadata": {
            "needs_background": "light"
          }
        },
        {
          "output_type": "stream",
          "name": "stdout",
          "text": [
            "Melhor parametro: {'fit_intercept': True}\n",
            "Fold 2 [0.9421965317919075, [0.9739884393063584, 0.9450867052023122, 0.9942196531791907], 0.9444108070534866, 0.9383173093775625, 0.9421965317919075]\n"
          ]
        },
        {
          "output_type": "display_data",
          "data": {
            "text/plain": [
              "<Figure size 432x288 with 0 Axes>"
            ]
          },
          "metadata": {}
        },
        {
          "output_type": "display_data",
          "data": {
            "text/plain": [
              "<Figure size 432x288 with 2 Axes>"
            ],
            "image/png": "[encoded data removed]"
          },
          "metadata": {
            "needs_background": "light"
          }
        },
        {
          "output_type": "stream",
          "name": "stdout",
          "text": [
            "Melhor parametro: {'fit_intercept': True}\n",
            "Fold 3 [0.884393063583815, [0.9248554913294798, 0.8959537572254336, 0.9913294797687862], 0.8803516224109736, 0.880187234675815, 0.884393063583815]\n"
          ]
        },
        {
          "output_type": "display_data",
          "data": {
            "text/plain": [
              "<Figure size 432x288 with 0 Axes>"
            ]
          },
          "metadata": {}
        },
        {
          "output_type": "display_data",
          "data": {
            "text/plain": [
              "<Figure size 432x288 with 2 Axes>"
            ],
            "image/png": "[encoded data removed]"
          },
          "metadata": {
            "needs_background": "light"
          }
        },
        {
          "output_type": "stream",
          "name": "stdout",
          "text": [
            "Melhor parametro: {'fit_intercept': True}\n",
            "Fold 4 [0.9246376811594202, [0.9478260869565217, 0.9304347826086956, 0.991304347826087], 0.9261146302418295, 0.9245624168592032, 0.9246376811594202]\n"
          ]
        },
        {
          "output_type": "display_data",
          "data": {
            "text/plain": [
              "<Figure size 432x288 with 0 Axes>"
            ]
          },
          "metadata": {}
        },
        {
          "output_type": "display_data",
          "data": {
            "text/plain": [
              "<Figure size 432x288 with 2 Axes>"
            ],
            "image/png": "[encoded data removed]"
          },
          "metadata": {
            "needs_background": "light"
          }
        },
        {
          "output_type": "stream",
          "name": "stdout",
          "text": [
            "Melhor parametro: {'fit_intercept': True}\n",
            "Fold 5 [0.9014492753623189, [0.9536231884057971, 0.9014492753623189, 0.9855072463768116], 0.905063726813977, 0.8979434092477571, 0.9014492753623189]\n"
          ]
        },
        {
          "output_type": "display_data",
          "data": {
            "text/plain": [
              "<Figure size 432x288 with 0 Axes>"
            ]
          },
          "metadata": {}
        },
        {
          "output_type": "display_data",
          "data": {
            "text/plain": [
              "<Figure size 432x288 with 2 Axes>"
            ],
            "image/png": "[encoded data removed]"
          },
          "metadata": {
            "needs_background": "light"
          }
        },
        {
          "output_type": "error",
          "ename": "FileNotFoundError",
          "evalue": "ignored",
          "traceback": [
            "\u001b[0;31m---------------------------------------------------------------------------\u001b[0m",
            "\u001b[0;31mFileNotFoundError\u001b[0m                         Traceback (most recent call last)",
            "\u001b[0;32m<ipython-input-173-2410b8fb4f8f>\u001b[0m in \u001b[0;36m<module>\u001b[0;34m\u001b[0m\n\u001b[1;32m     34\u001b[0m \u001b[0;34m\u001b[0m\u001b[0m\n\u001b[1;32m     35\u001b[0m   \u001b[0mdata_results\u001b[0m \u001b[0;34m=\u001b[0m \u001b[0mpd\u001b[0m\u001b[0;34m.\u001b[0m\u001b[0mconcat\u001b[0m\u001b[0;34m(\u001b[0m\u001b[0;34m[\u001b[0m\u001b[0mdata_results\u001b[0m\u001b[0;34m,\u001b[0m \u001b[0mpd\u001b[0m\u001b[0;34m.\u001b[0m\u001b[0mDataFrame\u001b[0m\u001b[0;34m(\u001b[0m\u001b[0mresults\u001b[0m\u001b[0;34m,\u001b[0m\u001b[0mcolumns\u001b[0m\u001b[0;34m=\u001b[0m\u001b[0;34m[\u001b[0m\u001b[0;34m'accuracy'\u001b[0m\u001b[0;34m,\u001b[0m \u001b[0;34m'confusion_matrix'\u001b[0m\u001b[0;34m,\u001b[0m \u001b[0;34m'precision'\u001b[0m\u001b[0;34m,\u001b[0m \u001b[0;34m'f1_score'\u001b[0m\u001b[0;34m,\u001b[0m\u001b[0;34m'recall'\u001b[0m\u001b[0;34m,\u001b[0m \u001b[0;34m'fold'\u001b[0m\u001b[0;34m,\u001b[0m\u001b[0;34m'model'\u001b[0m\u001b[0;34m,\u001b[0m\u001b[0;34m'parameters'\u001b[0m\u001b[0;34m]\u001b[0m\u001b[0;34m)\u001b[0m\u001b[0;34m]\u001b[0m\u001b[0;34m)\u001b[0m\u001b[0;34m\u001b[0m\u001b[0;34m\u001b[0m\u001b[0m\n\u001b[0;32m---> 36\u001b[0;31m   \u001b[0mdata_results\u001b[0m\u001b[0;34m.\u001b[0m\u001b[0mto_csv\u001b[0m\u001b[0;34m(\u001b[0m\u001b[0;34m'/content/drive/MyDrive/AnalisePred_I/Car_results_'\u001b[0m\u001b[0;34m+\u001b[0m \u001b[0mname_model\u001b[0m \u001b[0;34m+\u001b[0m \u001b[0;34m'.csv'\u001b[0m\u001b[0;34m)\u001b[0m\u001b[0;34m\u001b[0m\u001b[0;34m\u001b[0m\u001b[0m\n\u001b[0m",
            "\u001b[0;32m/usr/local/lib/python3.7/dist-packages/pandas/core/generic.py\u001b[0m in \u001b[0;36mto_csv\u001b[0;34m(self, path_or_buf, sep, na_rep, float_format, columns, header, index, index_label, mode, encoding, compression, quoting, quotechar, line_terminator, chunksize, date_format, doublequote, escapechar, decimal, errors, storage_options)\u001b[0m\n\u001b[1;32m   3480\u001b[0m             \u001b[0mdoublequote\u001b[0m\u001b[0;34m=\u001b[0m\u001b[0mdoublequote\u001b[0m\u001b[0;34m,\u001b[0m\u001b[0;34m\u001b[0m\u001b[0;34m\u001b[0m\u001b[0m\n\u001b[1;32m   3481\u001b[0m             \u001b[0mescapechar\u001b[0m\u001b[0;34m=\u001b[0m\u001b[0mescapechar\u001b[0m\u001b[0;34m,\u001b[0m\u001b[0;34m\u001b[0m\u001b[0;34m\u001b[0m\u001b[0m\n\u001b[0;32m-> 3482\u001b[0;31m             \u001b[0mstorage_options\u001b[0m\u001b[0;34m=\u001b[0m\u001b[0mstorage_options\u001b[0m\u001b[0;34m,\u001b[0m\u001b[0;34m\u001b[0m\u001b[0;34m\u001b[0m\u001b[0m\n\u001b[0m\u001b[1;32m   3483\u001b[0m         )\n\u001b[1;32m   3484\u001b[0m \u001b[0;34m\u001b[0m\u001b[0m\n",
            "\u001b[0;32m/usr/local/lib/python3.7/dist-packages/pandas/io/formats/format.py\u001b[0m in \u001b[0;36mto_csv\u001b[0;34m(self, path_or_buf, encoding, sep, columns, index_label, mode, compression, quoting, quotechar, line_terminator, chunksize, date_format, doublequote, escapechar, errors, storage_options)\u001b[0m\n\u001b[1;32m   1103\u001b[0m             \u001b[0mformatter\u001b[0m\u001b[0;34m=\u001b[0m\u001b[0mself\u001b[0m\u001b[0;34m.\u001b[0m\u001b[0mfmt\u001b[0m\u001b[0;34m,\u001b[0m\u001b[0;34m\u001b[0m\u001b[0;34m\u001b[0m\u001b[0m\n\u001b[1;32m   1104\u001b[0m         )\n\u001b[0;32m-> 1105\u001b[0;31m         \u001b[0mcsv_formatter\u001b[0m\u001b[0;34m.\u001b[0m\u001b[0msave\u001b[0m\u001b[0;34m(\u001b[0m\u001b[0;34m)\u001b[0m\u001b[0;34m\u001b[0m\u001b[0;34m\u001b[0m\u001b[0m\n\u001b[0m\u001b[1;32m   1106\u001b[0m \u001b[0;34m\u001b[0m\u001b[0m\n\u001b[1;32m   1107\u001b[0m         \u001b[0;32mif\u001b[0m \u001b[0mcreated_buffer\u001b[0m\u001b[0;34m:\u001b[0m\u001b[0;34m\u001b[0m\u001b[0;34m\u001b[0m\u001b[0m\n",
            "\u001b[0;32m/usr/local/lib/python3.7/dist-packages/pandas/io/formats/csvs.py\u001b[0m in \u001b[0;36msave\u001b[0;34m(self)\u001b[0m\n\u001b[1;32m    241\u001b[0m             \u001b[0merrors\u001b[0m\u001b[0;34m=\u001b[0m\u001b[0mself\u001b[0m\u001b[0;34m.\u001b[0m\u001b[0merrors\u001b[0m\u001b[0;34m,\u001b[0m\u001b[0;34m\u001b[0m\u001b[0;34m\u001b[0m\u001b[0m\n\u001b[1;32m    242\u001b[0m             \u001b[0mcompression\u001b[0m\u001b[0;34m=\u001b[0m\u001b[0mself\u001b[0m\u001b[0;34m.\u001b[0m\u001b[0mcompression\u001b[0m\u001b[0;34m,\u001b[0m\u001b[0;34m\u001b[0m\u001b[0;34m\u001b[0m\u001b[0m\n\u001b[0;32m--> 243\u001b[0;31m             \u001b[0mstorage_options\u001b[0m\u001b[0;34m=\u001b[0m\u001b[0mself\u001b[0m\u001b[0;34m.\u001b[0m\u001b[0mstorage_options\u001b[0m\u001b[0;34m,\u001b[0m\u001b[0;34m\u001b[0m\u001b[0;34m\u001b[0m\u001b[0m\n\u001b[0m\u001b[1;32m    244\u001b[0m         ) as handles:\n\u001b[1;32m    245\u001b[0m \u001b[0;34m\u001b[0m\u001b[0m\n",
            "\u001b[0;32m/usr/local/lib/python3.7/dist-packages/pandas/io/common.py\u001b[0m in \u001b[0;36mget_handle\u001b[0;34m(path_or_buf, mode, encoding, compression, memory_map, is_text, errors, storage_options)\u001b[0m\n\u001b[1;32m    705\u001b[0m                 \u001b[0mencoding\u001b[0m\u001b[0;34m=\u001b[0m\u001b[0mioargs\u001b[0m\u001b[0;34m.\u001b[0m\u001b[0mencoding\u001b[0m\u001b[0;34m,\u001b[0m\u001b[0;34m\u001b[0m\u001b[0;34m\u001b[0m\u001b[0m\n\u001b[1;32m    706\u001b[0m                 \u001b[0merrors\u001b[0m\u001b[0;34m=\u001b[0m\u001b[0merrors\u001b[0m\u001b[0;34m,\u001b[0m\u001b[0;34m\u001b[0m\u001b[0;34m\u001b[0m\u001b[0m\n\u001b[0;32m--> 707\u001b[0;31m                 \u001b[0mnewline\u001b[0m\u001b[0;34m=\u001b[0m\u001b[0;34m\"\"\u001b[0m\u001b[0;34m,\u001b[0m\u001b[0;34m\u001b[0m\u001b[0;34m\u001b[0m\u001b[0m\n\u001b[0m\u001b[1;32m    708\u001b[0m             )\n\u001b[1;32m    709\u001b[0m         \u001b[0;32melse\u001b[0m\u001b[0;34m:\u001b[0m\u001b[0;34m\u001b[0m\u001b[0;34m\u001b[0m\u001b[0m\n",
            "\u001b[0;31mFileNotFoundError\u001b[0m: [Errno 2] No such file or directory: '/content/drive/MyDrive/AnalisePred_I/Car_results_LM.csv'"
          ]
        }
      ],
      "source": [
        "data_results = pd.DataFrame([],columns=['accuracy', 'confusion_matrix', 'precision', 'f1_score','recall', 'fold','model','parameters'])\n",
        "models = [\"LM\", \"KNN\", \"MLP\", \"DT\", \"RF\"]\n",
        "\n",
        "for name_model in models:\n",
        "  results = []\n",
        "  for k in range(1,6):\n",
        "    treino = data[data.fold!=k]\n",
        "    teste  = data[data.fold==k]\n",
        "    \n",
        "    x_treino = treino.drop(['fold','id','class'], axis=1)\n",
        "    y_treino = treino['class']\n",
        "\n",
        "    x_teste = teste.drop(['fold','id','class'], axis=1)\n",
        "    y_teste = teste['class']\n",
        "\n",
        "    model, best_parameters = grid_best_model(model=name_model, grid=grid, task = \"C\")\n",
        "    model.fit(x_treino, y_treino)\n",
        "    y_pred= model.predict(x_teste)\n",
        "\n",
        "    print(\"Melhor parametro:\", best_parameters)         \n",
        "    print(\"Fold\", k, metrics(y_teste.values, y_pred))\n",
        "\n",
        "    plt.figure()\n",
        "    plot_confusion_matrix(model, x_teste, y_teste)\n",
        "    plt.show()\n",
        "\n",
        "\n",
        "    result = metrics(y_teste, y_pred)\n",
        "    result.append(k)\n",
        "    result.append(name_model)\n",
        "    result.append(best_parameters)\n",
        "    \n",
        "    results.append(result)\n",
        "        \n",
        "  data_results = pd.concat([data_results, pd.DataFrame(results,columns=['accuracy', 'confusion_matrix', 'precision', 'f1_score','recall', 'fold','model','parameters'])])\n",
        "  data_results.to_csv('/content/drive/MyDrive/AnalisePred_I/Car_results_'+ name_model + '.csv')\n"
      ]
    },
    {
      "cell_type": "code",
      "source": [
        "print(data_results['parameters'][4])"
      ],
      "metadata": {
        "id": "Ofqknf-zADA3"
      },
      "execution_count": null,
      "outputs": []
    },
    {
      "cell_type": "code",
      "source": [
        "data_results.mean()"
      ],
      "metadata": {
        "id": "RiiYJKQ2_ue2"
      },
      "execution_count": null,
      "outputs": []
    },
    {
      "cell_type": "markdown",
      "metadata": {
        "id": "oiiiARm51xUh"
      },
      "source": [
        "### Predição do Modelo"
      ]
    },
    {
      "cell_type": "code",
      "execution_count": null,
      "metadata": {
        "id": "N1d83sr_1xUh"
      },
      "outputs": [],
      "source": [
        "model.fit(x_treino, y_treino)\n",
        "np.sqrt(model.score(x_treino, y_treino))"
      ]
    },
    {
      "cell_type": "code",
      "execution_count": null,
      "metadata": {
        "id": "cl-p7CYl1xUi"
      },
      "outputs": [],
      "source": [
        "model.score(x_teste, y_teste)"
      ]
    },
    {
      "cell_type": "code",
      "execution_count": null,
      "metadata": {
        "id": "BbQ6zkoa1xUi"
      },
      "outputs": [],
      "source": [
        "y_pred_t = model.predict(x_treino)"
      ]
    },
    {
      "cell_type": "code",
      "execution_count": null,
      "metadata": {
        "id": "W_ePoeX21xUi"
      },
      "outputs": [],
      "source": [
        "y_pred= model.predict(x_teste)"
      ]
    },
    {
      "cell_type": "code",
      "execution_count": null,
      "metadata": {
        "id": "mNFAJ7391xUi"
      },
      "outputs": [],
      "source": [
        "plt.plot(y_treino, y_pred_t, 'o')\n",
        "\n",
        "plt.plot(y_teste, y_pred, 'x')\n"
      ]
    },
    {
      "cell_type": "markdown",
      "source": [
        "#### MAPE"
      ],
      "metadata": {
        "id": "RJETkSjhH78m"
      }
    },
    {
      "cell_type": "code",
      "source": [
        "mape(y_teste,y_pred)*100"
      ],
      "metadata": {
        "id": "oa9ZoR9KHqNr"
      },
      "execution_count": null,
      "outputs": []
    },
    {
      "cell_type": "code",
      "source": [
        "plt.plot(((y_teste.values - y_pred)/y_teste.values)*100)\n",
        "np.mean(100*np.abs(y_teste.values - y_pred)/y_teste.values)"
      ],
      "metadata": {
        "id": "_NnezWOTJHXC"
      },
      "execution_count": null,
      "outputs": []
    },
    {
      "cell_type": "markdown",
      "source": [
        "#### Plot do Modelo Teste x Treino"
      ],
      "metadata": {
        "id": "ZDGsMVvpH_uC"
      }
    },
    {
      "cell_type": "code",
      "execution_count": null,
      "metadata": {
        "id": "AlSxQ5mY1xUj"
      },
      "outputs": [],
      "source": [
        "plt.plot(y_teste.values, 'o')\n",
        "plt.plot(y_pred, 'x')\n",
        "plt.xlim([100,300])\n",
        "plt.ylim([0,0.3])"
      ]
    },
    {
      "cell_type": "code",
      "execution_count": null,
      "metadata": {
        "id": "b93PPcYm1xUj"
      },
      "outputs": [],
      "source": [
        "def mape(y_true, y_pred):\n",
        "    return np.mean(np.abs((y_true - y_pred) / (y_true+0.00001))) * 100"
      ]
    },
    {
      "cell_type": "code",
      "execution_count": null,
      "metadata": {
        "id": "953nhaNw1xUj"
      },
      "outputs": [],
      "source": [
        "def mae (y_true, y_pred):\n",
        "    return np.mean(np.abs(y_true - y_pred))"
      ]
    },
    {
      "cell_type": "code",
      "execution_count": null,
      "metadata": {
        "id": "4zHefH8S1xUj"
      },
      "outputs": [],
      "source": [
        "def r2_score(y_true, y_pred):\n",
        "    return np.mean(np.square(y_true - y_pred))"
      ]
    },
    {
      "cell_type": "code",
      "execution_count": null,
      "metadata": {
        "id": "6LMJaEmV1xUk"
      },
      "outputs": [],
      "source": []
    }
  ],
  "metadata": {
    "colab": {
      "name": "classifier_popularity_forro.ipynb",
      "provenance": [],
      "include_colab_link": true
    },
    "kernelspec": {
      "display_name": "Python 3.7.6 ('base')",
      "language": "python",
      "name": "python3"
    },
    "language_info": {
      "codemirror_mode": {
        "name": "ipython",
        "version": 3
      },
      "file_extension": ".py",
      "mimetype": "text/x-python",
      "name": "python",
      "nbconvert_exporter": "python",
      "pygments_lexer": "ipython3",
      "version": "3.7.6"
    },
    "orig_nbformat": 4,
    "vscode": {
      "interpreter": {
        "hash": "1d3a245165631ca1151694c656e253180713a00b2aa4e363f5b597e7a7cbc838"
      }
    }
  },
  "nbformat": 4,
  "nbformat_minor": 0
}