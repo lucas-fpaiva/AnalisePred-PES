{
  "cells": [
    {
      "cell_type": "markdown",
      "metadata": {
        "id": "view-in-github",
        "colab_type": "text"
      },
      "source": [
        "<a href=\"https://colab.research.google.com/github/lucas-fpaiva/AnalisePred_I/blob/main/Projeto/car_eval/classifier_car.ipynb\" target=\"_parent\"><img src=\"https://colab.research.google.com/assets/colab-badge.svg\" alt=\"Open In Colab\"/></a>"
      ]
    },
    {
      "cell_type": "code",
      "source": [
        "from google.colab import drive\n",
        "drive.mount('/content/drive')"
      ],
      "metadata": {
        "colab": {
          "base_uri": "https://localhost:8080/"
        },
        "id": "kuMmcN4bIxmL",
        "outputId": "405334cc-dbd7-4afc-d73c-185c57e5ffeb"
      },
      "execution_count": 1,
      "outputs": [
        {
          "output_type": "stream",
          "name": "stdout",
          "text": [
            "Mounted at /content/drive\n"
          ]
        }
      ]
    },
    {
      "cell_type": "markdown",
      "metadata": {
        "id": "Csxq-QIV1xUD"
      },
      "source": [
        "# Avaliar se o preço de compra do veículo é aceitável\n"
      ]
    },
    {
      "cell_type": "code",
      "execution_count": 2,
      "metadata": {
        "id": "GqjIv-ud1xUa"
      },
      "outputs": [],
      "source": [
        "import pandas as pd\n",
        "import matplotlib.gridspec as gridspec\n",
        "import matplotlib.pyplot as plt\n",
        "import numpy as np\n",
        "import sklearn\n",
        "import seaborn as sns\n",
        "\n",
        "from scipy.io.arff import loadarff \n",
        "from scipy.io import arff\n",
        "\n",
        "from sklearn.tree import DecisionTreeClassifier\n",
        "from sklearn.ensemble import RandomForestClassifier\n",
        "from sklearn.model_selection import GridSearchCV, KFold, StratifiedKFold, cross_val_score\n",
        "from sklearn.neural_network import MLPClassifier\n",
        "from sklearn.neighbors import KNeighborsClassifier\n",
        "from sklearn.linear_model import LogisticRegression\n",
        "from sklearn.naive_bayes import GaussianNB, BernoulliNB\n",
        "from sklearn.svm import SVC\n",
        "from sklearn.ensemble import GradientBoostingClassifier\n",
        "\n",
        "from sklearn.metrics import precision_score as ps\n",
        "from sklearn.metrics import recall_score as rs\n",
        "from sklearn.metrics import f1_score as f1\n",
        "from sklearn.metrics import accuracy_score as acs\n",
        "from sklearn.metrics import auc, roc_auc_score\n",
        "from sklearn.metrics import plot_confusion_matrix\n",
        "\n",
        "from sklearn.feature_selection import RFE, SequentialFeatureSelector\n",
        "\n",
        "from collections import Counter\n",
        "from imblearn.over_sampling import SMOTE\n",
        "from imblearn.under_sampling import RandomUnderSampler\n",
        "\n",
        "from sklearn.datasets import make_classification\n",
        "from ast import literal_eval\n",
        "\n",
        "import warnings\n",
        "warnings.filterwarnings('ignore')\n"
      ]
    },
    {
      "cell_type": "code",
      "source": [
        "def grid_best_model (model=\"DT\", grid=\"\"):\n",
        "  #A função retorna o modelo com os melhores parametros, os melhores parametros e o melhor score\n",
        "  scoring = 'accuracy'\n",
        "    \n",
        "  if model == \"DT\":\n",
        "    gs_cv = GridSearchCV(estimator=DecisionTreeClassifier(), param_grid=grid['DT'], cv= 5, scoring=scoring, n_jobs=-1)\n",
        "    gs_cv.fit(x_treino, y_treino)\n",
        "    return DecisionTreeClassifier(**gs_cv.best_params_), gs_cv.best_params_\n",
        "      \n",
        "  if model==\"PMC\":\n",
        "    gs_cv = GridSearchCV(estimator=MLPClassifier(), param_grid=grid['PMC'], cv= 5, scoring=scoring, n_jobs=-1)\n",
        "    gs_cv.fit(x_treino, y_treino)\n",
        "    return MLPClassifier(**gs_cv.best_params_), gs_cv.best_params_\n",
        "    \n",
        "  if model == \"RF\":\n",
        "    gs_cv = GridSearchCV(estimator=RandomForestClassifier(), param_grid=grid['RF'], cv= 5, scoring=scoring, n_jobs=-1)\n",
        "    gs_cv.fit(x_treino, y_treino)\n",
        "    return RandomForestClassifier(**gs_cv.best_params_), gs_cv.best_params_\n",
        "\n",
        "  if model == \"KNN\":\n",
        "    gs_cv = GridSearchCV(estimator=KNeighborsClassifier(), param_grid=grid['KNN'], cv= 5, scoring=scoring, n_jobs=-1)\n",
        "    gs_cv.fit(x_treino, y_treino)\n",
        "    return KNeighborsClassifier(**gs_cv.best_params_), gs_cv.best_params_\n",
        "\n",
        "  if model == \"RL\":\n",
        "    gs_cv = GridSearchCV(estimator=LogisticRegression(), param_grid=grid['RL'], cv= 5, scoring=scoring, n_jobs=-1)\n",
        "    gs_cv.fit(x_treino, y_treino)\n",
        "    return LogisticRegression(**gs_cv.best_params_), gs_cv.best_params_\n",
        "    #return LogisticRegression(), gs_cv.best_params_\n",
        "\n",
        "  if model == \"BNB\":\n",
        "    gs_cv = GridSearchCV(estimator=BernoulliNB(), param_grid=grid['BNB'], cv= 5, scoring=scoring, n_jobs=-1)\n",
        "    gs_cv.fit(x_treino, y_treino)\n",
        "    return BernoulliNB(**gs_cv.best_params_), gs_cv.best_params_\n",
        "\n",
        "  if model == \"SVM\":\n",
        "    gs_cv = GridSearchCV(estimator=SVC(), param_grid=grid['SVM'], cv= 5, scoring=scoring, n_jobs=-1)\n",
        "    gs_cv.fit(x_treino, y_treino)\n",
        "    return SVC(**gs_cv.best_params_), gs_cv.best_params_\n",
        "\n",
        "  if model == \"GB\":\n",
        "    gs_cv = GridSearchCV(estimator=GradientBoostingClassifier(), param_grid=grid['GB'], cv= 5, scoring=scoring, n_jobs=-1)\n",
        "    gs_cv.fit(x_treino, y_treino)\n",
        "    return GradientBoostingClassifier(**gs_cv.best_params_), gs_cv.best_params_\n",
        "        \n",
        "  \n",
        "#Parâmetros do Grid\n",
        "grid = {\n",
        "    'RF':{ #based on: Discrete Simulation Optimization for Tuning Machine Learning Method Hyperparameters\n",
        "        'n_estimators': [10, 100],\n",
        "        'max_depth' : range(5, 50, 5),\n",
        "        #'min_samples_split' : [2, 11],\n",
        "        #'min_samples_leaf' : [1, 11],\n",
        "        #'max_features' : [1,54],\n",
        "        'criterion' :['gini', 'entropy'],\n",
        "        'random_state' : [0]},\n",
        "\n",
        "    'PMC':{ #based on: Discrete Simulation Optimization for Tuning Machine Learning Method Hyperparameters\n",
        "        'hidden_layer_sizes': range(5, 50, 5),\n",
        "        'learning_rate' : ['constant','adaptive'],\n",
        "        'learning_rate_init' : [0.001, 0.01, 0.05],\n",
        "        'max_iter': [200],\n",
        "        'activation' : ['relu', 'tanh'],\n",
        "        #'solver' : ['adam', 'sgd'],\n",
        "        'random_state' : [0]},\n",
        "\n",
        "    'DT':{ #based on: Random Forest\n",
        "        'max_depth' : range(5, 50, 5),\n",
        "        #'min_samples_split' : [2, 11],\n",
        "        #'min_samples_leaf' : [1, 11],\n",
        "        #'max_features' : [1,54],\n",
        "        'criterion' :['gini', 'entropy'],\n",
        "        'random_state' : [0]},\n",
        "\n",
        "    'KNN':{ #based on:\n",
        "        'n_neighbors': range(5, 50, 5),\n",
        "        'weights': ['uniform', 'distance'],\n",
        "        'metric' : ['manhattan', 'euclidean'],\n",
        "        # 'algorithm':['kd_tree'] #algorithm{‘auto’, ‘ball_tree’, ‘kd_tree’, ‘brute’}\n",
        "        },\n",
        "\n",
        "    'RL':{ #based on: Logistic Regression Hyperparameter Optimization for Cancer Classification\n",
        "        'penalty' : ['l1', 'l2', 'elasticnet'],\n",
        "        'l1_ratio' : [0, 1],\n",
        "        #'learning_rate' : ['constant', 'optimal', 'invscaling', 'adaptive'],\n",
        "        #'eta0' : [0, 2],\n",
        "        'tol' : [0.00001, 0.01], #Alpha\n",
        "        'warm_start' : [True, False],\n",
        "        'random_state' : [0]},\n",
        "\n",
        "    'BNB':{ #based on:\n",
        "        'alpha' : np.arange(0.0, 1.0, 0.05)},\n",
        "    \n",
        "    'SVM':{ #based on:\n",
        "        'C' : [0.1,1,10],\n",
        "        'kernel' : ['linear', 'poly', 'rbf'],\n",
        "        #'gamma' : ['auto', 'scale'], #[0.001, 0.01, 0.1, 0.5, 1, 10, 100],\n",
        "        'probability' : [True],\n",
        "        'random_state' : [0]},\n",
        "    \n",
        "    'GB':{ #based on:\n",
        "        'n_estimators': [10, 100],\n",
        "        'max_depth' : [2, 3, 5, 7, 10],\n",
        "        #'learning_rate' : [0.025, 0.05, 0.1, 0.2, 0.3],\n",
        "        #'min_samples_split' : [2, 5, 10, 20],\n",
        "        #'max_features' : ['log2', 'sqrt', 0.25, 1.0],\n",
        "        #'subsample' : [0.15, 0.5, 0.75, 1.0],\n",
        "        'random_state' : [0]}\n",
        "}"
      ],
      "metadata": {
        "id": "7oTeWB0yLtxT"
      },
      "execution_count": 3,
      "outputs": []
    },
    {
      "cell_type": "code",
      "source": [
        "def f_models (name,parameters):\n",
        "    if name == 'DT':\n",
        "        model = DecisionTreeClassifier(**parameters);\n",
        "    elif name == 'RF':\n",
        "        model = RandomForestClassifier(**parameters);\n",
        "    elif name == 'KNN':\n",
        "        model = KNeighborsClassifier(**parameters);\n",
        "    elif name == 'RL':\n",
        "        model = LogisticRegression(**parameters);\n",
        "    elif name == 'SVM':\n",
        "        model = SVC(**parameters);\n",
        "    elif name == 'PMC':\n",
        "        model = MLPClassifier(**parameters);\n",
        "    elif name == 'BNB':\n",
        "        model = BernoulliNB(**parameters);\n",
        "    elif name == 'GB':\n",
        "        model = GradientBoostingClassifier(**parameters);\n",
        "    else :\n",
        "        print('Model not found')\n",
        "        model=None\n",
        "    return model"
      ],
      "metadata": {
        "id": "KL-se8Wccuyi"
      },
      "execution_count": 4,
      "outputs": []
    },
    {
      "cell_type": "code",
      "source": [
        "def metrics (y_true, y_pred, y_pred_prob):\n",
        "  return [acs(y_true, y_pred), f1(y_true, y_pred, average = 'macro'),\n",
        "          roc_auc_score(y_true, y_pred_prob, average='macro', multi_class = 'ovr')]"
      ],
      "metadata": {
        "id": "W_HPPnYUAu6f"
      },
      "execution_count": 5,
      "outputs": []
    },
    {
      "cell_type": "code",
      "source": [
        "def select_feat(x_treino,y_treino,model,n,features):\n",
        "\n",
        "  if n =='All':\n",
        "    best_feats = features\n",
        "\n",
        "  else:\n",
        "    sfs = SequentialFeatureSelector(model, n_features_to_select=n, direction='backward')\n",
        "    sfs.fit(x_treino,y_treino)\n",
        "\n",
        "    sfs.get_support()\n",
        "\n",
        "    best_feats = sfs.feature_names_in_[sfs.support_]\n",
        "\n",
        "    #print('n=',n, len(best_feats),best_feats)\n",
        "    #print('best_feats = features[rfe.support_]')\n",
        "    \n",
        "  return best_feats\n",
        "\n",
        "\n",
        "def balan_func(X, y,balan_name):\n",
        "   \n",
        "  print(\"Original Sample \", Counter(y).values())\n",
        "  \n",
        "  if balan_name == 'No':\n",
        "    x_treino, y_treino = treino[features],treino['class']\n",
        "\n",
        "  elif balan_name == 'Under': \n",
        "    rus = RandomUnderSampler(sampling_strategy='not minority', replacement=True, random_state=0) #replacement considera independentemente cada classe\n",
        "    x_treino, y_treino = rus.fit_resample(X, y)\n",
        "    print(\"UnderSampling \", x_treino.shape,y_treino.shape, Counter(y_treino).values())\n",
        "\n",
        "  elif balan_name == 'Over': ## Falta atualizar\n",
        "    x_treino, y_treino = SMOTE(sampling_strategy='not majority').fit_resample(X, y)   \n",
        "    print(\"OverSampling \", Counter(y_treino).values())\n",
        "\n",
        "  elif balan_name == 'Hybrid': ## Falta atualizar\n",
        "    classes = {0:450, 1:307, 2:52, 3:55} \n",
        "    rus = RandomUnderSampler(sampling_strategy=classes, replacement=True, random_state=0) #replacement considera independentemente cada classe\n",
        "    X, y = rus.fit_resample(X, y)\n",
        "    x_treino, y_treino = SMOTE(sampling_strategy='not majority').fit_resample(X, y)  \n",
        "    print(\"HybridSampling \",  Counter(y_treino).values())\n",
        "\n",
        "  return x_treino, y_treino"
      ],
      "metadata": {
        "id": "m4TIq9dFiAJ3"
      },
      "execution_count": 6,
      "outputs": []
    },
    {
      "cell_type": "markdown",
      "source": [
        "## Lendo o Dataset"
      ],
      "metadata": {
        "id": "FI2B053-WNjz"
      }
    },
    {
      "cell_type": "code",
      "source": [
        "data = pd.read_csv('https://raw.githubusercontent.com/lucas-fpaiva/AnalisePred_I/main/Projeto/car_eval/data_processed.csv', index_col=0)\n",
        "features = data.columns[1:-2]"
      ],
      "metadata": {
        "id": "KfQW75l1XIiJ"
      },
      "execution_count": 7,
      "outputs": []
    },
    {
      "cell_type": "code",
      "source": [
        "features"
      ],
      "metadata": {
        "id": "NaR5cBBSvcY-",
        "outputId": "c3566d9a-d258-42f7-b791-a490be7166ea",
        "colab": {
          "base_uri": "https://localhost:8080/"
        }
      },
      "execution_count": 8,
      "outputs": [
        {
          "output_type": "execute_result",
          "data": {
            "text/plain": [
              "Index(['buying_price_vhigh', 'buying_price_high', 'buying_price_med',\n",
              "       'buying_price_low', 'maintenance_price_vhigh', 'maintenance_price_high',\n",
              "       'maintenance_price_med', 'maintenance_price_low', 'doors_2', 'doors_3',\n",
              "       'doors_4', 'doors_5more', 'persons_2', 'persons_4', 'persons_more',\n",
              "       'luggage_boot_size_small', 'luggage_boot_size_med',\n",
              "       'luggage_boot_size_big', 'safety_low', 'safety_med', 'safety_high'],\n",
              "      dtype='object')"
            ]
          },
          "metadata": {},
          "execution_count": 8
        }
      ]
    },
    {
      "cell_type": "code",
      "source": [
        "data.head()"
      ],
      "metadata": {
        "id": "VIBEEusnx7XW",
        "outputId": "265c4593-74af-44e8-ad86-160e0832f453",
        "colab": {
          "base_uri": "https://localhost:8080/",
          "height": 299
        }
      },
      "execution_count": 9,
      "outputs": [
        {
          "output_type": "execute_result",
          "data": {
            "text/plain": [
              "   class  buying_price_vhigh  buying_price_high  buying_price_med  \\\n",
              "0      0                   1                  0                 0   \n",
              "1      0                   1                  0                 0   \n",
              "2      0                   1                  0                 0   \n",
              "3      0                   1                  0                 0   \n",
              "4      0                   1                  0                 0   \n",
              "\n",
              "   buying_price_low  maintenance_price_vhigh  maintenance_price_high  \\\n",
              "0                 0                        1                       0   \n",
              "1                 0                        1                       0   \n",
              "2                 0                        1                       0   \n",
              "3                 0                        1                       0   \n",
              "4                 0                        1                       0   \n",
              "\n",
              "   maintenance_price_med  maintenance_price_low  doors_2  ...  persons_4  \\\n",
              "0                      0                      0        1  ...          0   \n",
              "1                      0                      0        1  ...          0   \n",
              "2                      0                      0        1  ...          0   \n",
              "3                      0                      0        1  ...          0   \n",
              "4                      0                      0        1  ...          0   \n",
              "\n",
              "   persons_more  luggage_boot_size_small  luggage_boot_size_med  \\\n",
              "0             0                        1                      0   \n",
              "1             0                        1                      0   \n",
              "2             0                        1                      0   \n",
              "3             0                        0                      1   \n",
              "4             0                        0                      1   \n",
              "\n",
              "   luggage_boot_size_big  safety_low  safety_med  safety_high  id  fold  \n",
              "0                      0           1           0            0   0     5  \n",
              "1                      0           0           1            0   1     5  \n",
              "2                      0           0           0            1   2     5  \n",
              "3                      0           1           0            0   3     4  \n",
              "4                      0           0           1            0   4     2  \n",
              "\n",
              "[5 rows x 24 columns]"
            ],
            "text/html": [
              "\n",
              "  <div id=\"df-c40f2ec8-ff8a-4f6e-9e58-2955d003e16c\">\n",
              "    <div class=\"colab-df-container\">\n",
              "      <div>\n",
              "<style scoped>\n",
              "    .dataframe tbody tr th:only-of-type {\n",
              "        vertical-align: middle;\n",
              "    }\n",
              "\n",
              "    .dataframe tbody tr th {\n",
              "        vertical-align: top;\n",
              "    }\n",
              "\n",
              "    .dataframe thead th {\n",
              "        text-align: right;\n",
              "    }\n",
              "</style>\n",
              "<table border=\"1\" class=\"dataframe\">\n",
              "  <thead>\n",
              "    <tr style=\"text-align: right;\">\n",
              "      <th></th>\n",
              "      <th>class</th>\n",
              "      <th>buying_price_vhigh</th>\n",
              "      <th>buying_price_high</th>\n",
              "      <th>buying_price_med</th>\n",
              "      <th>buying_price_low</th>\n",
              "      <th>maintenance_price_vhigh</th>\n",
              "      <th>maintenance_price_high</th>\n",
              "      <th>maintenance_price_med</th>\n",
              "      <th>maintenance_price_low</th>\n",
              "      <th>doors_2</th>\n",
              "      <th>...</th>\n",
              "      <th>persons_4</th>\n",
              "      <th>persons_more</th>\n",
              "      <th>luggage_boot_size_small</th>\n",
              "      <th>luggage_boot_size_med</th>\n",
              "      <th>luggage_boot_size_big</th>\n",
              "      <th>safety_low</th>\n",
              "      <th>safety_med</th>\n",
              "      <th>safety_high</th>\n",
              "      <th>id</th>\n",
              "      <th>fold</th>\n",
              "    </tr>\n",
              "  </thead>\n",
              "  <tbody>\n",
              "    <tr>\n",
              "      <th>0</th>\n",
              "      <td>0</td>\n",
              "      <td>1</td>\n",
              "      <td>0</td>\n",
              "      <td>0</td>\n",
              "      <td>0</td>\n",
              "      <td>1</td>\n",
              "      <td>0</td>\n",
              "      <td>0</td>\n",
              "      <td>0</td>\n",
              "      <td>1</td>\n",
              "      <td>...</td>\n",
              "      <td>0</td>\n",
              "      <td>0</td>\n",
              "      <td>1</td>\n",
              "      <td>0</td>\n",
              "      <td>0</td>\n",
              "      <td>1</td>\n",
              "      <td>0</td>\n",
              "      <td>0</td>\n",
              "      <td>0</td>\n",
              "      <td>5</td>\n",
              "    </tr>\n",
              "    <tr>\n",
              "      <th>1</th>\n",
              "      <td>0</td>\n",
              "      <td>1</td>\n",
              "      <td>0</td>\n",
              "      <td>0</td>\n",
              "      <td>0</td>\n",
              "      <td>1</td>\n",
              "      <td>0</td>\n",
              "      <td>0</td>\n",
              "      <td>0</td>\n",
              "      <td>1</td>\n",
              "      <td>...</td>\n",
              "      <td>0</td>\n",
              "      <td>0</td>\n",
              "      <td>1</td>\n",
              "      <td>0</td>\n",
              "      <td>0</td>\n",
              "      <td>0</td>\n",
              "      <td>1</td>\n",
              "      <td>0</td>\n",
              "      <td>1</td>\n",
              "      <td>5</td>\n",
              "    </tr>\n",
              "    <tr>\n",
              "      <th>2</th>\n",
              "      <td>0</td>\n",
              "      <td>1</td>\n",
              "      <td>0</td>\n",
              "      <td>0</td>\n",
              "      <td>0</td>\n",
              "      <td>1</td>\n",
              "      <td>0</td>\n",
              "      <td>0</td>\n",
              "      <td>0</td>\n",
              "      <td>1</td>\n",
              "      <td>...</td>\n",
              "      <td>0</td>\n",
              "      <td>0</td>\n",
              "      <td>1</td>\n",
              "      <td>0</td>\n",
              "      <td>0</td>\n",
              "      <td>0</td>\n",
              "      <td>0</td>\n",
              "      <td>1</td>\n",
              "      <td>2</td>\n",
              "      <td>5</td>\n",
              "    </tr>\n",
              "    <tr>\n",
              "      <th>3</th>\n",
              "      <td>0</td>\n",
              "      <td>1</td>\n",
              "      <td>0</td>\n",
              "      <td>0</td>\n",
              "      <td>0</td>\n",
              "      <td>1</td>\n",
              "      <td>0</td>\n",
              "      <td>0</td>\n",
              "      <td>0</td>\n",
              "      <td>1</td>\n",
              "      <td>...</td>\n",
              "      <td>0</td>\n",
              "      <td>0</td>\n",
              "      <td>0</td>\n",
              "      <td>1</td>\n",
              "      <td>0</td>\n",
              "      <td>1</td>\n",
              "      <td>0</td>\n",
              "      <td>0</td>\n",
              "      <td>3</td>\n",
              "      <td>4</td>\n",
              "    </tr>\n",
              "    <tr>\n",
              "      <th>4</th>\n",
              "      <td>0</td>\n",
              "      <td>1</td>\n",
              "      <td>0</td>\n",
              "      <td>0</td>\n",
              "      <td>0</td>\n",
              "      <td>1</td>\n",
              "      <td>0</td>\n",
              "      <td>0</td>\n",
              "      <td>0</td>\n",
              "      <td>1</td>\n",
              "      <td>...</td>\n",
              "      <td>0</td>\n",
              "      <td>0</td>\n",
              "      <td>0</td>\n",
              "      <td>1</td>\n",
              "      <td>0</td>\n",
              "      <td>0</td>\n",
              "      <td>1</td>\n",
              "      <td>0</td>\n",
              "      <td>4</td>\n",
              "      <td>2</td>\n",
              "    </tr>\n",
              "  </tbody>\n",
              "</table>\n",
              "<p>5 rows × 24 columns</p>\n",
              "</div>\n",
              "      <button class=\"colab-df-convert\" onclick=\"convertToInteractive('df-c40f2ec8-ff8a-4f6e-9e58-2955d003e16c')\"\n",
              "              title=\"Convert this dataframe to an interactive table.\"\n",
              "              style=\"display:none;\">\n",
              "        \n",
              "  <svg xmlns=\"http://www.w3.org/2000/svg\" height=\"24px\"viewBox=\"0 0 24 24\"\n",
              "       width=\"24px\">\n",
              "    <path d=\"M0 0h24v24H0V0z\" fill=\"none\"/>\n",
              "    <path d=\"M18.56 5.44l.94 2.06.94-2.06 2.06-.94-2.06-.94-.94-2.06-.94 2.06-2.06.94zm-11 1L8.5 8.5l.94-2.06 2.06-.94-2.06-.94L8.5 2.5l-.94 2.06-2.06.94zm10 10l.94 2.06.94-2.06 2.06-.94-2.06-.94-.94-2.06-.94 2.06-2.06.94z\"/><path d=\"M17.41 7.96l-1.37-1.37c-.4-.4-.92-.59-1.43-.59-.52 0-1.04.2-1.43.59L10.3 9.45l-7.72 7.72c-.78.78-.78 2.05 0 2.83L4 21.41c.39.39.9.59 1.41.59.51 0 1.02-.2 1.41-.59l7.78-7.78 2.81-2.81c.8-.78.8-2.07 0-2.86zM5.41 20L4 18.59l7.72-7.72 1.47 1.35L5.41 20z\"/>\n",
              "  </svg>\n",
              "      </button>\n",
              "      \n",
              "  <style>\n",
              "    .colab-df-container {\n",
              "      display:flex;\n",
              "      flex-wrap:wrap;\n",
              "      gap: 12px;\n",
              "    }\n",
              "\n",
              "    .colab-df-convert {\n",
              "      background-color: #E8F0FE;\n",
              "      border: none;\n",
              "      border-radius: 50%;\n",
              "      cursor: pointer;\n",
              "      display: none;\n",
              "      fill: #1967D2;\n",
              "      height: 32px;\n",
              "      padding: 0 0 0 0;\n",
              "      width: 32px;\n",
              "    }\n",
              "\n",
              "    .colab-df-convert:hover {\n",
              "      background-color: #E2EBFA;\n",
              "      box-shadow: 0px 1px 2px rgba(60, 64, 67, 0.3), 0px 1px 3px 1px rgba(60, 64, 67, 0.15);\n",
              "      fill: #174EA6;\n",
              "    }\n",
              "\n",
              "    [theme=dark] .colab-df-convert {\n",
              "      background-color: #3B4455;\n",
              "      fill: #D2E3FC;\n",
              "    }\n",
              "\n",
              "    [theme=dark] .colab-df-convert:hover {\n",
              "      background-color: #434B5C;\n",
              "      box-shadow: 0px 1px 3px 1px rgba(0, 0, 0, 0.15);\n",
              "      filter: drop-shadow(0px 1px 2px rgba(0, 0, 0, 0.3));\n",
              "      fill: #FFFFFF;\n",
              "    }\n",
              "  </style>\n",
              "\n",
              "      <script>\n",
              "        const buttonEl =\n",
              "          document.querySelector('#df-c40f2ec8-ff8a-4f6e-9e58-2955d003e16c button.colab-df-convert');\n",
              "        buttonEl.style.display =\n",
              "          google.colab.kernel.accessAllowed ? 'block' : 'none';\n",
              "\n",
              "        async function convertToInteractive(key) {\n",
              "          const element = document.querySelector('#df-c40f2ec8-ff8a-4f6e-9e58-2955d003e16c');\n",
              "          const dataTable =\n",
              "            await google.colab.kernel.invokeFunction('convertToInteractive',\n",
              "                                                     [key], {});\n",
              "          if (!dataTable) return;\n",
              "\n",
              "          const docLinkHtml = 'Like what you see? Visit the ' +\n",
              "            '<a target=\"_blank\" href=https://colab.research.google.com/notebooks/data_table.ipynb>data table notebook</a>'\n",
              "            + ' to learn more about interactive tables.';\n",
              "          element.innerHTML = '';\n",
              "          dataTable['output_type'] = 'display_data';\n",
              "          await google.colab.output.renderOutput(dataTable, element);\n",
              "          const docLink = document.createElement('div');\n",
              "          docLink.innerHTML = docLinkHtml;\n",
              "          element.appendChild(docLink);\n",
              "        }\n",
              "      </script>\n",
              "    </div>\n",
              "  </div>\n",
              "  "
            ]
          },
          "metadata": {},
          "execution_count": 9
        }
      ]
    },
    {
      "cell_type": "markdown",
      "source": [
        "## GridSearch dos Modelos"
      ],
      "metadata": {
        "id": "son5ymSm4A_a"
      }
    },
    {
      "cell_type": "code",
      "execution_count": 10,
      "metadata": {
        "id": "2nCdUEwp1xUb",
        "outputId": "2477a89b-6df0-4bbe-96d2-b483711e99ba",
        "colab": {
          "base_uri": "https://localhost:8080/",
          "height": 1000
        }
      },
      "outputs": [
        {
          "output_type": "stream",
          "name": "stdout",
          "text": [
            "Original Sample  dict_values([968, 307, 52, 55])\n",
            "Modelo: SVM Fold: 1 Balanceamento: No Features: All\n",
            "Melhor parametro: {'C': 10, 'kernel': 'rbf', 'probability': True, 'random_state': 0}\n",
            "Acc: 1.0 F1: 1.0 AUC: 1.0\n",
            "\n",
            "Modelo: SVM Fold: 1 Balanceamento: No Features: 16\n",
            "Melhor parametro: {'C': 10, 'kernel': 'rbf', 'probability': True, 'random_state': 0}\n",
            "Acc: 0.9971098265895953 F1: 0.9883870967741936 AUC: 1.0\n",
            "\n",
            "Modelo: SVM Fold: 1 Balanceamento: No Features: 11\n",
            "Melhor parametro: {'C': 10, 'kernel': 'rbf', 'probability': True, 'random_state': 0}\n",
            "Acc: 0.953757225433526 F1: 0.8776219449157439 AUC: 0.9886531724760675\n",
            "\n",
            "Modelo: SVM Fold: 1 Balanceamento: No Features: 6\n",
            "Melhor parametro: {'C': 10, 'kernel': 'rbf', 'probability': True, 'random_state': 0}\n",
            "Acc: 0.861271676300578 F1: 0.5786064425770308 AUC: 0.9511318060324728\n",
            "\n",
            "Original Sample  dict_values([968, 307, 52, 55])\n",
            "UnderSampling  (208, 21) (208,) dict_values([52, 52, 52, 52])\n",
            "Modelo: SVM Fold: 1 Balanceamento: Under Features: All\n",
            "Melhor parametro: {'C': 10, 'kernel': 'rbf', 'probability': True, 'random_state': 0}\n",
            "Acc: 0.9132947976878613 F1: 0.903452791507265 AUC: 0.984206505728043\n",
            "\n",
            "Modelo: SVM Fold: 1 Balanceamento: Under Features: 16\n",
            "Melhor parametro: {'C': 10, 'kernel': 'rbf', 'probability': True, 'random_state': 0}\n",
            "Acc: 0.8930635838150289 F1: 0.8415957343346314 AUC: 0.9780227746893541\n",
            "\n",
            "Modelo: SVM Fold: 1 Balanceamento: Under Features: 11\n",
            "Melhor parametro: {'C': 10, 'kernel': 'rbf', 'probability': True, 'random_state': 0}\n",
            "Acc: 0.9046242774566474 F1: 0.8586845753250159 AUC: 0.9856777982714158\n",
            "\n",
            "Modelo: SVM Fold: 1 Balanceamento: Under Features: 6\n",
            "Melhor parametro: {'C': 10, 'kernel': 'rbf', 'probability': True, 'random_state': 0}\n",
            "Acc: 0.7687861271676301 F1: 0.6084096371506702 AUC: 0.9395145692965712\n",
            "\n",
            "Original Sample  dict_values([968, 307, 52, 55])\n",
            "OverSampling  dict_values([968, 968, 968, 968])\n",
            "Modelo: SVM Fold: 1 Balanceamento: Over Features: All\n",
            "Melhor parametro: {'C': 10, 'kernel': 'rbf', 'probability': True, 'random_state': 0}\n",
            "Acc: 0.9797687861271677 F1: 0.9119806880882829 AUC: 0.9986985967217301\n",
            "\n",
            "Modelo: SVM Fold: 1 Balanceamento: Over Features: 16\n",
            "Melhor parametro: {'C': 10, 'kernel': 'rbf', 'probability': True, 'random_state': 0}\n",
            "Acc: 0.9624277456647399 F1: 0.8152101591363188 AUC: 0.9907573040579042\n",
            "\n",
            "Modelo: SVM Fold: 1 Balanceamento: Over Features: 11\n",
            "Melhor parametro: {'C': 10, 'kernel': 'rbf', 'probability': True, 'random_state': 0}\n",
            "Acc: 0.953757225433526 F1: 0.8368143946877509 AUC: 0.9904989078763213\n",
            "\n",
            "Modelo: SVM Fold: 1 Balanceamento: Over Features: 6\n",
            "Melhor parametro: {'C': 10, 'kernel': 'rbf', 'probability': True, 'random_state': 0}\n",
            "Acc: 0.791907514450867 F1: 0.6244759690365148 AUC: 0.9422889372084917\n",
            "\n",
            "Original Sample  dict_values([968, 307, 52, 55])\n",
            "HybridSampling  dict_values([450, 450, 450, 450])\n",
            "Modelo: SVM Fold: 1 Balanceamento: Hybrid Features: All\n",
            "Melhor parametro: {'C': 10, 'kernel': 'poly', 'probability': True, 'random_state': 0}\n",
            "Acc: 0.9566473988439307 F1: 0.8470256354075373 AUC: 0.992532588507715\n",
            "\n",
            "Modelo: SVM Fold: 1 Balanceamento: Hybrid Features: 16\n",
            "Melhor parametro: {'C': 10, 'kernel': 'poly', 'probability': True, 'random_state': 0}\n",
            "Acc: 0.9595375722543352 F1: 0.8631813482216707 AUC: 0.9920907927451995\n",
            "\n",
            "Modelo: SVM Fold: 1 Balanceamento: Hybrid Features: 11\n",
            "Melhor parametro: {'C': 10, 'kernel': 'poly', 'probability': True, 'random_state': 0}\n",
            "Acc: 0.953757225433526 F1: 0.8368143946877509 AUC: 0.980635451291203\n",
            "\n",
            "Modelo: SVM Fold: 1 Balanceamento: Hybrid Features: 6\n",
            "Melhor parametro: {'C': 10, 'kernel': 'poly', 'probability': True, 'random_state': 0}\n",
            "Acc: 0.791907514450867 F1: 0.6244759690365148 AUC: 0.9429305469927594\n",
            "\n",
            "Original Sample  dict_values([968, 307, 52, 55])\n",
            "Modelo: SVM Fold: 2 Balanceamento: No Features: All\n",
            "Melhor parametro: {'C': 10, 'kernel': 'rbf', 'probability': True, 'random_state': 0}\n",
            "Acc: 0.9971098265895953 F1: 0.989745323416723 AUC: 0.9998682874209143\n",
            "\n",
            "Modelo: SVM Fold: 2 Balanceamento: No Features: 16\n",
            "Melhor parametro: {'C': 10, 'kernel': 'rbf', 'probability': True, 'random_state': 0}\n",
            "Acc: 0.9884393063583815 F1: 0.960324100278159 AUC: 0.9997069276963015\n",
            "\n",
            "Modelo: SVM Fold: 2 Balanceamento: No Features: 11\n",
            "Melhor parametro: {'C': 10, 'kernel': 'rbf', 'probability': True, 'random_state': 0}\n",
            "Acc: 0.953757225433526 F1: 0.9167289450991665 AUC: 0.9848505992944977\n",
            "\n",
            "Modelo: SVM Fold: 2 Balanceamento: No Features: 6\n",
            "Melhor parametro: {'C': 10, 'kernel': 'rbf', 'probability': True, 'random_state': 0}\n",
            "Acc: 0.869942196531792 F1: 0.5851142225497421 AUC: 0.9425491770886361\n",
            "\n",
            "Original Sample  dict_values([968, 307, 52, 55])\n",
            "UnderSampling  (208, 21) (208,) dict_values([52, 52, 52, 52])\n",
            "Modelo: SVM Fold: 2 Balanceamento: Under Features: All\n",
            "Melhor parametro: {'C': 10, 'kernel': 'rbf', 'probability': True, 'random_state': 0}\n",
            "Acc: 0.8988439306358381 F1: 0.8977908221285704 AUC: 0.985161001271171\n",
            "\n",
            "Modelo: SVM Fold: 2 Balanceamento: Under Features: 16\n",
            "Melhor parametro: {'C': 10, 'kernel': 'rbf', 'probability': True, 'random_state': 0}\n",
            "Acc: 0.8959537572254336 F1: 0.8692562733101219 AUC: 0.9849557610814491\n",
            "\n",
            "Modelo: SVM Fold: 2 Balanceamento: Under Features: 11\n",
            "Melhor parametro: {'C': 10, 'kernel': 'rbf', 'probability': True, 'random_state': 0}\n",
            "Acc: 0.869942196531792 F1: 0.8134056320931072 AUC: 0.9644618113659242\n",
            "\n",
            "Modelo: SVM Fold: 2 Balanceamento: Under Features: 6\n",
            "Melhor parametro: {'C': 10, 'kernel': 'rbf', 'probability': True, 'random_state': 0}\n",
            "Acc: 0.7687861271676301 F1: 0.6087982396631587 AUC: 0.9358277814580531\n",
            "\n",
            "Original Sample  dict_values([968, 307, 52, 55])\n",
            "OverSampling  dict_values([968, 968, 968, 968])\n",
            "Modelo: SVM Fold: 2 Balanceamento: Over Features: All\n",
            "Melhor parametro: {'C': 10, 'kernel': 'rbf', 'probability': True, 'random_state': 0}\n",
            "Acc: 0.9682080924855492 F1: 0.8507477030715411 AUC: 0.9958313055054109\n",
            "\n",
            "Modelo: SVM Fold: 2 Balanceamento: Over Features: 16\n",
            "Melhor parametro: {'C': 10, 'kernel': 'rbf', 'probability': True, 'random_state': 0}\n",
            "Acc: 0.9624277456647399 F1: 0.832484076433121 AUC: 0.992648767579345\n",
            "\n",
            "Modelo: SVM Fold: 2 Balanceamento: Over Features: 11\n",
            "Melhor parametro: {'C': 10, 'kernel': 'rbf', 'probability': True, 'random_state': 0}\n",
            "Acc: 0.9508670520231214 F1: 0.8828488121829774 AUC: 0.9876774753241587\n",
            "\n",
            "Modelo: SVM Fold: 2 Balanceamento: Over Features: 6\n",
            "Melhor parametro: {'C': 10, 'kernel': 'rbf', 'probability': True, 'random_state': 0}\n",
            "Acc: 0.7658959537572254 F1: 0.587144803009722 AUC: 0.9382095331441467\n",
            "\n",
            "Original Sample  dict_values([968, 307, 52, 55])\n",
            "HybridSampling  dict_values([450, 450, 450, 450])\n",
            "Modelo: SVM Fold: 2 Balanceamento: Hybrid Features: All\n",
            "Melhor parametro: {'C': 10, 'kernel': 'rbf', 'probability': True, 'random_state': 0}\n",
            "Acc: 0.9797687861271677 F1: 0.941005666354348 AUC: 0.9988857449947163\n",
            "\n",
            "Modelo: SVM Fold: 2 Balanceamento: Hybrid Features: 16\n",
            "Melhor parametro: {'C': 10, 'kernel': 'rbf', 'probability': True, 'random_state': 0}\n",
            "Acc: 0.9797687861271677 F1: 0.9291812405532668 AUC: 0.9987752147972957\n",
            "\n",
            "Modelo: SVM Fold: 2 Balanceamento: Hybrid Features: 11\n",
            "Melhor parametro: {'C': 10, 'kernel': 'rbf', 'probability': True, 'random_state': 0}\n",
            "Acc: 0.9450867052023122 F1: 0.873119879672299 AUC: 0.9847416875200196\n",
            "\n",
            "Modelo: SVM Fold: 2 Balanceamento: Hybrid Features: 6\n",
            "Melhor parametro: {'C': 10, 'kernel': 'rbf', 'probability': True, 'random_state': 0}\n",
            "Acc: 0.8092485549132948 F1: 0.6547624903071353 AUC: 0.9472865747341821\n",
            "\n",
            "Original Sample  dict_values([968, 307, 52, 55])\n",
            "Modelo: SVM Fold: 3 Balanceamento: No Features: All\n",
            "Melhor parametro: {'C': 10, 'kernel': 'poly', 'probability': True, 'random_state': 0}\n",
            "Acc: 1.0 F1: 1.0 AUC: 1.0\n",
            "\n",
            "Modelo: SVM Fold: 3 Balanceamento: No Features: 16\n",
            "Melhor parametro: {'C': 10, 'kernel': 'poly', 'probability': True, 'random_state': 0}\n",
            "Acc: 1.0 F1: 1.0 AUC: 1.0\n",
            "\n",
            "Modelo: SVM Fold: 3 Balanceamento: No Features: 11\n",
            "Melhor parametro: {'C': 10, 'kernel': 'poly', 'probability': True, 'random_state': 0}\n",
            "Acc: 0.9624277456647399 F1: 0.9361161883384106 AUC: 0.9929272448826523\n",
            "\n",
            "Modelo: SVM Fold: 3 Balanceamento: No Features: 6\n",
            "Melhor parametro: {'C': 10, 'kernel': 'poly', 'probability': True, 'random_state': 0}\n",
            "Acc: 0.7861271676300579 F1: 0.4709243697478992 AUC: 0.8977123458572298\n",
            "\n",
            "Original Sample  dict_values([968, 307, 52, 55])\n",
            "UnderSampling  (208, 21) (208,) dict_values([52, 52, 52, 52])\n",
            "Modelo: SVM Fold: 3 Balanceamento: Under Features: All\n",
            "Melhor parametro: {'C': 10, 'kernel': 'rbf', 'probability': True, 'random_state': 0}\n",
            "Acc: 0.8670520231213873 F1: 0.8752813670871016 AUC: 0.9783380422982597\n",
            "\n",
            "Modelo: SVM Fold: 3 Balanceamento: Under Features: 16\n",
            "Melhor parametro: {'C': 10, 'kernel': 'rbf', 'probability': True, 'random_state': 0}\n",
            "Acc: 0.8641618497109826 F1: 0.8721879776392129 AUC: 0.9773945509659784\n",
            "\n",
            "Modelo: SVM Fold: 3 Balanceamento: Under Features: 11\n",
            "Melhor parametro: {'C': 10, 'kernel': 'rbf', 'probability': True, 'random_state': 0}\n",
            "Acc: 0.8497109826589595 F1: 0.8257808685263103 AUC: 0.9635061100537954\n",
            "\n",
            "Modelo: SVM Fold: 3 Balanceamento: Under Features: 6\n",
            "Melhor parametro: {'C': 10, 'kernel': 'rbf', 'probability': True, 'random_state': 0}\n",
            "Acc: 0.630057803468208 F1: 0.5342017195459966 AUC: 0.8177800610520678\n",
            "\n",
            "Original Sample  dict_values([968, 307, 52, 55])\n",
            "OverSampling  dict_values([968, 968, 968, 968])\n",
            "Modelo: SVM Fold: 3 Balanceamento: Over Features: All\n",
            "Melhor parametro: {'C': 10, 'kernel': 'rbf', 'probability': True, 'random_state': 0}\n",
            "Acc: 0.976878612716763 F1: 0.8882213438735178 AUC: 0.9960431149112455\n",
            "\n",
            "Modelo: SVM Fold: 3 Balanceamento: Over Features: 16\n",
            "Melhor parametro: {'C': 10, 'kernel': 'rbf', 'probability': True, 'random_state': 0}\n",
            "Acc: 0.9884393063583815 F1: 0.9551282051282052 AUC: 0.997180249264329\n",
            "\n",
            "Modelo: SVM Fold: 3 Balanceamento: Over Features: 11\n",
            "Melhor parametro: {'C': 10, 'kernel': 'rbf', 'probability': True, 'random_state': 0}\n",
            "Acc: 0.930635838150289 F1: 0.8371302740321879 AUC: 0.9808825162584002\n",
            "\n",
            "Modelo: SVM Fold: 3 Balanceamento: Over Features: 6\n",
            "Melhor parametro: {'C': 10, 'kernel': 'rbf', 'probability': True, 'random_state': 0}\n",
            "Acc: 0.7774566473988439 F1: 0.6372397864757796 AUC: 0.9319145298309082\n",
            "\n",
            "Original Sample  dict_values([968, 307, 52, 55])\n",
            "HybridSampling  dict_values([450, 450, 450, 450])\n",
            "Modelo: SVM Fold: 3 Balanceamento: Hybrid Features: All\n",
            "Melhor parametro: {'C': 10, 'kernel': 'rbf', 'probability': True, 'random_state': 0}\n",
            "Acc: 0.9479768786127167 F1: 0.8226267362696971 AUC: 0.9889128441088054\n",
            "\n",
            "Modelo: SVM Fold: 3 Balanceamento: Hybrid Features: 16\n",
            "Melhor parametro: {'C': 10, 'kernel': 'rbf', 'probability': True, 'random_state': 0}\n",
            "Acc: 0.9595375722543352 F1: 0.8727026790078268 AUC: 0.9777948878671429\n",
            "\n",
            "Modelo: SVM Fold: 3 Balanceamento: Hybrid Features: 11\n",
            "Melhor parametro: {'C': 10, 'kernel': 'rbf', 'probability': True, 'random_state': 0}\n",
            "Acc: 0.9393063583815029 F1: 0.8409850931008503 AUC: 0.9779282685532241\n",
            "\n",
            "Modelo: SVM Fold: 3 Balanceamento: Hybrid Features: 6\n",
            "Melhor parametro: {'C': 10, 'kernel': 'rbf', 'probability': True, 'random_state': 0}\n",
            "Acc: 0.8092485549132948 F1: 0.6404900215359215 AUC: 0.9381168912477761\n",
            "\n",
            "Original Sample  dict_values([968, 307, 52, 56])\n",
            "Modelo: SVM Fold: 4 Balanceamento: No Features: All\n",
            "Melhor parametro: {'C': 10, 'kernel': 'poly', 'probability': True, 'random_state': 0}\n",
            "Acc: 1.0 F1: 1.0 AUC: 1.0\n",
            "\n",
            "Modelo: SVM Fold: 4 Balanceamento: No Features: 16\n",
            "Melhor parametro: {'C': 10, 'kernel': 'poly', 'probability': True, 'random_state': 0}\n",
            "Acc: 0.9971014492753624 F1: 0.9883870967741936 AUC: 1.0\n",
            "\n",
            "Modelo: SVM Fold: 4 Balanceamento: No Features: 11\n",
            "Melhor parametro: {'C': 10, 'kernel': 'poly', 'probability': True, 'random_state': 0}\n",
            "Acc: 0.9449275362318841 F1: 0.8842471958584986 AUC: 0.9888917906921075\n",
            "\n",
            "Modelo: SVM Fold: 4 Balanceamento: No Features: 6\n",
            "Melhor parametro: {'C': 10, 'kernel': 'poly', 'probability': True, 'random_state': 0}\n",
            "Acc: 0.8028985507246377 F1: 0.44896825568771326 AUC: 0.9131395819795971\n",
            "\n",
            "Original Sample  dict_values([968, 307, 52, 56])\n",
            "UnderSampling  (208, 21) (208,) dict_values([52, 52, 52, 52])\n",
            "Modelo: SVM Fold: 4 Balanceamento: Under Features: All\n",
            "Melhor parametro: {'C': 1, 'kernel': 'linear', 'probability': True, 'random_state': 0}\n",
            "Acc: 0.855072463768116 F1: 0.8038443256090315 AUC: 0.9736642499696468\n",
            "\n",
            "Modelo: SVM Fold: 4 Balanceamento: Under Features: 16\n",
            "Melhor parametro: {'C': 1, 'kernel': 'linear', 'probability': True, 'random_state': 0}\n",
            "Acc: 0.8521739130434782 F1: 0.8022132933049404 AUC: 0.9726872960609156\n",
            "\n",
            "Modelo: SVM Fold: 4 Balanceamento: Under Features: 11\n",
            "Melhor parametro: {'C': 1, 'kernel': 'linear', 'probability': True, 'random_state': 0}\n",
            "Acc: 0.8231884057971014 F1: 0.7877512044716786 AUC: 0.9693982579526415\n",
            "\n",
            "Modelo: SVM Fold: 4 Balanceamento: Under Features: 6\n",
            "Melhor parametro: {'C': 1, 'kernel': 'linear', 'probability': True, 'random_state': 0}\n",
            "Acc: 0.7420289855072464 F1: 0.6106227950499363 AUC: 0.9339259263412081\n",
            "\n",
            "Original Sample  dict_values([968, 307, 52, 56])\n",
            "OverSampling  dict_values([968, 968, 968, 968])\n",
            "Modelo: SVM Fold: 4 Balanceamento: Over Features: All\n",
            "Melhor parametro: {'C': 10, 'kernel': 'rbf', 'probability': True, 'random_state': 0}\n",
            "Acc: 0.9768115942028985 F1: 0.8855490578297596 AUC: 0.9991258404426\n",
            "\n",
            "Modelo: SVM Fold: 4 Balanceamento: Over Features: 16\n",
            "Melhor parametro: {'C': 10, 'kernel': 'rbf', 'probability': True, 'random_state': 0}\n",
            "Acc: 0.9884057971014493 F1: 0.9519230769230769 AUC: 0.9990652666879963\n",
            "\n",
            "Modelo: SVM Fold: 4 Balanceamento: Over Features: 11\n",
            "Melhor parametro: {'C': 10, 'kernel': 'rbf', 'probability': True, 'random_state': 0}\n",
            "Acc: 0.9681159420289855 F1: 0.9425798191358358 AUC: 0.9939460876737237\n",
            "\n",
            "Modelo: SVM Fold: 4 Balanceamento: Over Features: 6\n",
            "Melhor parametro: {'C': 10, 'kernel': 'rbf', 'probability': True, 'random_state': 0}\n",
            "Acc: 0.782608695652174 F1: 0.6481261536642279 AUC: 0.9357571847361532\n",
            "\n",
            "Original Sample  dict_values([968, 307, 52, 56])\n",
            "HybridSampling  dict_values([450, 450, 450, 450])\n",
            "Modelo: SVM Fold: 4 Balanceamento: Hybrid Features: All\n",
            "Melhor parametro: {'C': 10, 'kernel': 'rbf', 'probability': True, 'random_state': 0}\n",
            "Acc: 0.9652173913043478 F1: 0.9228044022861026 AUC: 0.9987391287283357\n",
            "\n",
            "Modelo: SVM Fold: 4 Balanceamento: Hybrid Features: 16\n",
            "Melhor parametro: {'C': 10, 'kernel': 'rbf', 'probability': True, 'random_state': 0}\n",
            "Acc: 0.9652173913043478 F1: 0.9205544168887067 AUC: 0.998376534961745\n",
            "\n",
            "Modelo: SVM Fold: 4 Balanceamento: Hybrid Features: 11\n",
            "Melhor parametro: {'C': 10, 'kernel': 'rbf', 'probability': True, 'random_state': 0}\n",
            "Acc: 0.9449275362318841 F1: 0.9070528156054471 AUC: 0.9878923444079525\n",
            "\n",
            "Modelo: SVM Fold: 4 Balanceamento: Hybrid Features: 6\n",
            "Melhor parametro: {'C': 10, 'kernel': 'rbf', 'probability': True, 'random_state': 0}\n",
            "Acc: 0.7942028985507247 F1: 0.6277709249980925 AUC: 0.9400198959933416\n",
            "\n",
            "Original Sample  dict_values([968, 308, 52, 55])\n",
            "Modelo: SVM Fold: 5 Balanceamento: No Features: All\n",
            "Melhor parametro: {'C': 10, 'kernel': 'rbf', 'probability': True, 'random_state': 0}\n",
            "Acc: 1.0 F1: 1.0 AUC: 1.0\n",
            "\n",
            "Modelo: SVM Fold: 5 Balanceamento: No Features: 16\n",
            "Melhor parametro: {'C': 10, 'kernel': 'rbf', 'probability': True, 'random_state': 0}\n",
            "Acc: 0.9710144927536232 F1: 0.894266917293233 AUC: 0.995708526009596\n",
            "\n",
            "Modelo: SVM Fold: 5 Balanceamento: No Features: 11\n",
            "Melhor parametro: {'C': 10, 'kernel': 'rbf', 'probability': True, 'random_state': 0}\n",
            "Acc: 0.9478260869565217 F1: 0.8431804681804682 AUC: 0.9900862123123435\n",
            "\n",
            "Modelo: SVM Fold: 5 Balanceamento: No Features: 6\n",
            "Melhor parametro: {'C': 10, 'kernel': 'rbf', 'probability': True, 'random_state': 0}\n",
            "Acc: 0.8347826086956521 F1: 0.5663214990138067 AUC: 0.9476128294579185\n",
            "\n",
            "Original Sample  dict_values([968, 308, 52, 55])\n",
            "UnderSampling  (208, 21) (208,) dict_values([52, 52, 52, 52])\n",
            "Modelo: SVM Fold: 5 Balanceamento: Under Features: All\n",
            "Melhor parametro: {'C': 1, 'kernel': 'rbf', 'probability': True, 'random_state': 0}\n",
            "Acc: 0.8289855072463768 F1: 0.7896421827912619 AUC: 0.9769810498514234\n",
            "\n",
            "Modelo: SVM Fold: 5 Balanceamento: Under Features: 16\n",
            "Melhor parametro: {'C': 1, 'kernel': 'rbf', 'probability': True, 'random_state': 0}\n",
            "Acc: 0.8231884057971014 F1: 0.7727987240093778 AUC: 0.979865330410857\n",
            "\n",
            "Modelo: SVM Fold: 5 Balanceamento: Under Features: 11\n",
            "Melhor parametro: {'C': 1, 'kernel': 'rbf', 'probability': True, 'random_state': 0}\n",
            "Acc: 0.808695652173913 F1: 0.7619514306581281 AUC: 0.9697355297032549\n",
            "\n",
            "Modelo: SVM Fold: 5 Balanceamento: Under Features: 6\n",
            "Melhor parametro: {'C': 1, 'kernel': 'rbf', 'probability': True, 'random_state': 0}\n",
            "Acc: 0.672463768115942 F1: 0.6431229803203417 AUC: 0.8881659853195616\n",
            "\n",
            "Original Sample  dict_values([968, 308, 52, 55])\n",
            "OverSampling  dict_values([968, 968, 968, 968])\n",
            "Modelo: SVM Fold: 5 Balanceamento: Over Features: All\n",
            "Melhor parametro: {'C': 10, 'kernel': 'rbf', 'probability': True, 'random_state': 0}\n",
            "Acc: 0.9826086956521739 F1: 0.928006329113924 AUC: 0.9986906477801029\n",
            "\n",
            "Modelo: SVM Fold: 5 Balanceamento: Over Features: 16\n",
            "Melhor parametro: {'C': 10, 'kernel': 'rbf', 'probability': True, 'random_state': 0}\n",
            "Acc: 0.9855072463768116 F1: 0.9412048832271762 AUC: 0.9976132507224065\n",
            "\n",
            "Modelo: SVM Fold: 5 Balanceamento: Over Features: 11\n",
            "Melhor parametro: {'C': 10, 'kernel': 'rbf', 'probability': True, 'random_state': 0}\n",
            "Acc: 0.9478260869565217 F1: 0.8959462465802843 AUC: 0.9815267356886452\n",
            "\n",
            "Modelo: SVM Fold: 5 Balanceamento: Over Features: 6\n",
            "Melhor parametro: {'C': 10, 'kernel': 'rbf', 'probability': True, 'random_state': 0}\n",
            "Acc: 0.7652173913043478 F1: 0.6022174077715075 AUC: 0.9367679529787544\n",
            "\n",
            "Original Sample  dict_values([968, 308, 52, 55])\n",
            "HybridSampling  dict_values([450, 450, 450, 450])\n",
            "Modelo: SVM Fold: 5 Balanceamento: Hybrid Features: All\n",
            "Melhor parametro: {'C': 10, 'kernel': 'poly', 'probability': True, 'random_state': 0}\n",
            "Acc: 0.9623188405797102 F1: 0.8593116369796211 AUC: 0.9956254664863513\n",
            "\n",
            "Modelo: SVM Fold: 5 Balanceamento: Hybrid Features: 16\n",
            "Melhor parametro: {'C': 10, 'kernel': 'poly', 'probability': True, 'random_state': 0}\n",
            "Acc: 0.9449275362318841 F1: 0.8103460701837146 AUC: 0.9920726535365055\n",
            "\n",
            "Modelo: SVM Fold: 5 Balanceamento: Hybrid Features: 11\n",
            "Melhor parametro: {'C': 10, 'kernel': 'poly', 'probability': True, 'random_state': 0}\n",
            "Acc: 0.9594202898550724 F1: 0.9059638900823621 AUC: 0.9929149005081586\n",
            "\n",
            "Modelo: SVM Fold: 5 Balanceamento: Hybrid Features: 6\n",
            "Melhor parametro: {'C': 10, 'kernel': 'poly', 'probability': True, 'random_state': 0}\n",
            "Acc: 0.7159420289855073 F1: 0.664055033266351 AUC: 0.9105741634583728\n",
            "\n",
            "Original Sample  dict_values([968, 307, 52, 55])\n",
            "Modelo: GB Fold: 1 Balanceamento: No Features: All\n",
            "Melhor parametro: {'max_depth': 3, 'n_estimators': 100, 'random_state': 0}\n",
            "Acc: 0.9884393063583815 F1: 0.9758024824414866 AUC: 0.9996036553802554\n",
            "\n",
            "Modelo: GB Fold: 1 Balanceamento: No Features: 16\n",
            "Melhor parametro: {'max_depth': 3, 'n_estimators': 100, 'random_state': 0}\n",
            "Acc: 0.9653179190751445 F1: 0.9085814894769475 AUC: 0.995047584155961\n",
            "\n",
            "Modelo: GB Fold: 1 Balanceamento: No Features: 11\n",
            "Melhor parametro: {'max_depth': 3, 'n_estimators': 100, 'random_state': 0}\n",
            "Acc: 0.9653179190751445 F1: 0.8959430827077886 AUC: 0.9954518481641612\n",
            "\n",
            "Modelo: GB Fold: 1 Balanceamento: No Features: 6\n",
            "Melhor parametro: {'max_depth': 3, 'n_estimators': 100, 'random_state': 0}\n",
            "Acc: 0.861271676300578 F1: 0.5786064425770308 AUC: 0.962057456294681\n",
            "\n",
            "Original Sample  dict_values([968, 307, 52, 55])\n",
            "UnderSampling  (208, 21) (208,) dict_values([52, 52, 52, 52])\n",
            "Modelo: GB Fold: 1 Balanceamento: Under Features: All\n",
            "Melhor parametro: {'max_depth': 2, 'n_estimators': 100, 'random_state': 0}\n",
            "Acc: 0.8959537572254336 F1: 0.8717070186695814 AUC: 0.9726421545979475\n",
            "\n",
            "Modelo: GB Fold: 1 Balanceamento: Under Features: 16\n",
            "Melhor parametro: {'max_depth': 2, 'n_estimators': 100, 'random_state': 0}\n",
            "Acc: 0.9046242774566474 F1: 0.870522404334037 AUC: 0.9706353298320334\n",
            "\n",
            "Modelo: GB Fold: 1 Balanceamento: Under Features: 11\n",
            "Melhor parametro: {'max_depth': 2, 'n_estimators': 100, 'random_state': 0}\n",
            "Acc: 0.8988439306358381 F1: 0.837190078536634 AUC: 0.9681038846837835\n",
            "\n",
            "Modelo: GB Fold: 1 Balanceamento: Under Features: 6\n",
            "Melhor parametro: {'max_depth': 2, 'n_estimators': 100, 'random_state': 0}\n",
            "Acc: 0.7774566473988439 F1: 0.6131075517527839 AUC: 0.9411350747993259\n",
            "\n",
            "Original Sample  dict_values([968, 307, 52, 55])\n",
            "OverSampling  dict_values([968, 968, 968, 968])\n",
            "Modelo: GB Fold: 1 Balanceamento: Over Features: All\n",
            "Melhor parametro: {'max_depth': 5, 'n_estimators': 100, 'random_state': 0}\n",
            "Acc: 0.9710982658959537 F1: 0.9033949974533564 AUC: 0.9983369449141883\n",
            "\n",
            "Modelo: GB Fold: 1 Balanceamento: Over Features: 16\n",
            "Melhor parametro: {'max_depth': 5, 'n_estimators': 100, 'random_state': 0}\n",
            "Acc: 0.9653179190751445 F1: 0.8540351193697757 AUC: 0.9976022817956836\n",
            "\n",
            "Modelo: GB Fold: 1 Balanceamento: Over Features: 11\n",
            "Melhor parametro: {'max_depth': 5, 'n_estimators': 100, 'random_state': 0}\n",
            "Acc: 0.9566473988439307 F1: 0.8726648351648352 AUC: 0.9946685664919893\n",
            "\n",
            "Modelo: GB Fold: 1 Balanceamento: Over Features: 6\n",
            "Melhor parametro: {'max_depth': 5, 'n_estimators': 100, 'random_state': 0}\n",
            "Acc: 0.791907514450867 F1: 0.6244759690365148 AUC: 0.950375179912192\n",
            "\n",
            "Original Sample  dict_values([968, 307, 52, 55])\n",
            "HybridSampling  dict_values([450, 450, 450, 450])\n",
            "Modelo: GB Fold: 1 Balanceamento: Hybrid Features: All\n",
            "Melhor parametro: {'max_depth': 5, 'n_estimators': 100, 'random_state': 0}\n",
            "Acc: 0.9566473988439307 F1: 0.8368371212121212 AUC: 0.9933631262075955\n",
            "\n",
            "Modelo: GB Fold: 1 Balanceamento: Hybrid Features: 16\n",
            "Melhor parametro: {'max_depth': 5, 'n_estimators': 100, 'random_state': 0}\n",
            "Acc: 0.9624277456647399 F1: 0.8778219293910445 AUC: 0.9906137084140454\n",
            "\n",
            "Modelo: GB Fold: 1 Balanceamento: Hybrid Features: 11\n",
            "Melhor parametro: {'max_depth': 5, 'n_estimators': 100, 'random_state': 0}\n",
            "Acc: 0.9450867052023122 F1: 0.8177047927258568 AUC: 0.9940601083317225\n",
            "\n",
            "Modelo: GB Fold: 1 Balanceamento: Hybrid Features: 6\n",
            "Melhor parametro: {'max_depth': 5, 'n_estimators': 100, 'random_state': 0}\n",
            "Acc: 0.791907514450867 F1: 0.6244759690365148 AUC: 0.9488189621775778\n",
            "\n",
            "Original Sample  dict_values([968, 307, 52, 55])\n",
            "Modelo: GB Fold: 2 Balanceamento: No Features: All\n",
            "Melhor parametro: {'max_depth': 3, 'n_estimators': 100, 'random_state': 0}\n",
            "Acc: 0.9826589595375722 F1: 0.9654621902150597 AUC: 0.9980910003896721\n",
            "\n",
            "Modelo: GB Fold: 2 Balanceamento: No Features: 16\n",
            "Melhor parametro: {'max_depth': 3, 'n_estimators': 100, 'random_state': 0}\n",
            "Acc: 0.9710982658959537 F1: 0.956951191666601 AUC: 0.996817436739055\n",
            "\n",
            "Modelo: GB Fold: 2 Balanceamento: No Features: 11\n",
            "Melhor parametro: {'max_depth': 3, 'n_estimators': 100, 'random_state': 0}\n",
            "Acc: 0.9421965317919075 F1: 0.8955935764573242 AUC: 0.9926882393080831\n",
            "\n",
            "Modelo: GB Fold: 2 Balanceamento: No Features: 6\n",
            "Melhor parametro: {'max_depth': 3, 'n_estimators': 100, 'random_state': 0}\n",
            "Acc: 0.8063583815028902 F1: 0.5456489675516225 AUC: 0.9359916571440302\n",
            "\n",
            "Original Sample  dict_values([968, 307, 52, 55])\n",
            "UnderSampling  (208, 21) (208,) dict_values([52, 52, 52, 52])\n",
            "Modelo: GB Fold: 2 Balanceamento: Under Features: All\n",
            "Melhor parametro: {'max_depth': 2, 'n_estimators': 100, 'random_state': 0}\n",
            "Acc: 0.8323699421965318 F1: 0.760993415437057 AUC: 0.9547414055518924\n",
            "\n",
            "Modelo: GB Fold: 2 Balanceamento: Under Features: 16\n",
            "Melhor parametro: {'max_depth': 2, 'n_estimators': 100, 'random_state': 0}\n",
            "Acc: 0.8497109826589595 F1: 0.8052588686481305 AUC: 0.957803879021743\n",
            "\n",
            "Modelo: GB Fold: 2 Balanceamento: Under Features: 11\n",
            "Melhor parametro: {'max_depth': 2, 'n_estimators': 100, 'random_state': 0}\n",
            "Acc: 0.8497109826589595 F1: 0.7831161846388126 AUC: 0.9598690822093642\n",
            "\n",
            "Modelo: GB Fold: 2 Balanceamento: Under Features: 6\n",
            "Melhor parametro: {'max_depth': 2, 'n_estimators': 100, 'random_state': 0}\n",
            "Acc: 0.7687861271676301 F1: 0.6087982396631587 AUC: 0.9374882850416766\n",
            "\n",
            "Original Sample  dict_values([968, 307, 52, 55])\n",
            "OverSampling  dict_values([968, 968, 968, 968])\n",
            "Modelo: GB Fold: 2 Balanceamento: Over Features: All\n",
            "Melhor parametro: {'max_depth': 5, 'n_estimators': 100, 'random_state': 0}\n",
            "Acc: 0.9624277456647399 F1: 0.8534277200678475 AUC: 0.994071108425302\n",
            "\n",
            "Modelo: GB Fold: 2 Balanceamento: Over Features: 16\n",
            "Melhor parametro: {'max_depth': 5, 'n_estimators': 100, 'random_state': 0}\n",
            "Acc: 0.953757225433526 F1: 0.8164853669922957 AUC: 0.9947739877995286\n",
            "\n",
            "Modelo: GB Fold: 2 Balanceamento: Over Features: 11\n",
            "Melhor parametro: {'max_depth': 5, 'n_estimators': 100, 'random_state': 0}\n",
            "Acc: 0.9364161849710982 F1: 0.8527338604958554 AUC: 0.9910262837532917\n",
            "\n",
            "Modelo: GB Fold: 2 Balanceamento: Over Features: 6\n",
            "Melhor parametro: {'max_depth': 5, 'n_estimators': 100, 'random_state': 0}\n",
            "Acc: 0.7658959537572254 F1: 0.587144803009722 AUC: 0.9337359154298209\n",
            "\n",
            "Original Sample  dict_values([968, 307, 52, 55])\n",
            "HybridSampling  dict_values([450, 450, 450, 450])\n",
            "Modelo: GB Fold: 2 Balanceamento: Hybrid Features: All\n",
            "Melhor parametro: {'max_depth': 10, 'n_estimators': 100, 'random_state': 0}\n",
            "Acc: 0.9566473988439307 F1: 0.8835214559806212 AUC: 0.9933655386117269\n",
            "\n",
            "Modelo: GB Fold: 2 Balanceamento: Hybrid Features: 16\n",
            "Melhor parametro: {'max_depth': 10, 'n_estimators': 100, 'random_state': 0}\n",
            "Acc: 0.9595375722543352 F1: 0.8973435537533695 AUC: 0.9927050188004235\n",
            "\n",
            "Modelo: GB Fold: 2 Balanceamento: Hybrid Features: 11\n",
            "Melhor parametro: {'max_depth': 10, 'n_estimators': 100, 'random_state': 0}\n",
            "Acc: 0.9421965317919075 F1: 0.8714946377758306 AUC: 0.9690573512812026\n",
            "\n",
            "Modelo: GB Fold: 2 Balanceamento: Hybrid Features: 6\n",
            "Melhor parametro: {'max_depth': 10, 'n_estimators': 100, 'random_state': 0}\n",
            "Acc: 0.8092485549132948 F1: 0.6547624903071353 AUC: 0.9533394986351201\n",
            "\n",
            "Original Sample  dict_values([968, 307, 52, 55])\n",
            "Modelo: GB Fold: 3 Balanceamento: No Features: All\n",
            "Melhor parametro: {'max_depth': 3, 'n_estimators': 100, 'random_state': 0}\n",
            "Acc: 0.9942196531791907 F1: 0.9793509799119897 AUC: 0.9998539286399581\n",
            "\n",
            "Modelo: GB Fold: 3 Balanceamento: No Features: 16\n",
            "Melhor parametro: {'max_depth': 3, 'n_estimators': 100, 'random_state': 0}\n",
            "Acc: 0.930635838150289 F1: 0.7994260966035159 AUC: 0.9933633412048382\n",
            "\n",
            "Modelo: GB Fold: 3 Balanceamento: No Features: 11\n",
            "Melhor parametro: {'max_depth': 3, 'n_estimators': 100, 'random_state': 0}\n",
            "Acc: 0.9421965317919075 F1: 0.870230703970075 AUC: 0.9942723266000322\n",
            "\n",
            "Modelo: GB Fold: 3 Balanceamento: No Features: 6\n",
            "Melhor parametro: {'max_depth': 3, 'n_estimators': 100, 'random_state': 0}\n",
            "Acc: 0.7832369942196532 F1: 0.3705600386233533 AUC: 0.9081262898541242\n",
            "\n",
            "Original Sample  dict_values([968, 307, 52, 55])\n",
            "UnderSampling  (208, 21) (208,) dict_values([52, 52, 52, 52])\n",
            "Modelo: GB Fold: 3 Balanceamento: Under Features: All\n",
            "Melhor parametro: {'max_depth': 2, 'n_estimators': 100, 'random_state': 0}\n",
            "Acc: 0.8410404624277457 F1: 0.7792790297265636 AUC: 0.954940486523985\n",
            "\n",
            "Modelo: GB Fold: 3 Balanceamento: Under Features: 16\n",
            "Melhor parametro: {'max_depth': 2, 'n_estimators': 100, 'random_state': 0}\n",
            "Acc: 0.8757225433526011 F1: 0.8511973976518762 AUC: 0.9545240595210159\n",
            "\n",
            "Modelo: GB Fold: 3 Balanceamento: Under Features: 11\n",
            "Melhor parametro: {'max_depth': 2, 'n_estimators': 100, 'random_state': 0}\n",
            "Acc: 0.838150289017341 F1: 0.7826992335395697 AUC: 0.9520366201010394\n",
            "\n",
            "Modelo: GB Fold: 3 Balanceamento: Under Features: 6\n",
            "Melhor parametro: {'max_depth': 2, 'n_estimators': 100, 'random_state': 0}\n",
            "Acc: 0.7658959537572254 F1: 0.6312727573651108 AUC: 0.9345656513277656\n",
            "\n",
            "Original Sample  dict_values([968, 307, 52, 55])\n",
            "OverSampling  dict_values([968, 968, 968, 968])\n",
            "Modelo: GB Fold: 3 Balanceamento: Over Features: All\n",
            "Melhor parametro: {'max_depth': 7, 'n_estimators': 100, 'random_state': 0}\n",
            "Acc: 0.976878612716763 F1: 0.9182851239669421 AUC: 0.9969443626870732\n",
            "\n",
            "Modelo: GB Fold: 3 Balanceamento: Over Features: 16\n",
            "Melhor parametro: {'max_depth': 7, 'n_estimators': 100, 'random_state': 0}\n",
            "Acc: 0.9653179190751445 F1: 0.8223270440251573 AUC: 0.9889458007249806\n",
            "\n",
            "Modelo: GB Fold: 3 Balanceamento: Over Features: 11\n",
            "Melhor parametro: {'max_depth': 7, 'n_estimators': 100, 'random_state': 0}\n",
            "Acc: 0.9450867052023122 F1: 0.8568683155080214 AUC: 0.9924201393921097\n",
            "\n",
            "Modelo: GB Fold: 3 Balanceamento: Over Features: 6\n",
            "Melhor parametro: {'max_depth': 7, 'n_estimators': 100, 'random_state': 0}\n",
            "Acc: 0.8092485549132948 F1: 0.6404900215359215 AUC: 0.9514690556867567\n",
            "\n",
            "Original Sample  dict_values([968, 307, 52, 55])\n",
            "HybridSampling  dict_values([450, 450, 450, 450])\n",
            "Modelo: GB Fold: 3 Balanceamento: Hybrid Features: All\n",
            "Melhor parametro: {'max_depth': 5, 'n_estimators': 100, 'random_state': 0}\n",
            "Acc: 0.9421965317919075 F1: 0.8088438735177866 AUC: 0.9868563348003244\n",
            "\n",
            "Modelo: GB Fold: 3 Balanceamento: Hybrid Features: 16\n",
            "Melhor parametro: {'max_depth': 5, 'n_estimators': 100, 'random_state': 0}\n",
            "Acc: 0.9595375722543352 F1: 0.8850006345585362 AUC: 0.9864167247054659\n",
            "\n",
            "Modelo: GB Fold: 3 Balanceamento: Hybrid Features: 11\n",
            "Melhor parametro: {'max_depth': 5, 'n_estimators': 100, 'random_state': 0}\n",
            "Acc: 0.9277456647398844 F1: 0.8284951296027998 AUC: 0.9854679162696656\n",
            "\n",
            "Modelo: GB Fold: 3 Balanceamento: Hybrid Features: 6\n",
            "Melhor parametro: {'max_depth': 5, 'n_estimators': 100, 'random_state': 0}\n",
            "Acc: 0.8092485549132948 F1: 0.6404900215359215 AUC: 0.953098108452173\n",
            "\n",
            "Original Sample  dict_values([968, 307, 52, 56])\n",
            "Modelo: GB Fold: 4 Balanceamento: No Features: All\n",
            "Melhor parametro: {'max_depth': 5, 'n_estimators': 10, 'random_state': 0}\n",
            "Acc: 0.9130434782608695 F1: 0.7199199538291678 AUC: 0.9915743575555376\n",
            "\n",
            "Modelo: GB Fold: 4 Balanceamento: No Features: 16\n",
            "Melhor parametro: {'max_depth': 5, 'n_estimators': 10, 'random_state': 0}\n",
            "Acc: 0.8405797101449275 F1: 0.6048740108953562 AUC: 0.9731217262720497\n",
            "\n",
            "Modelo: GB Fold: 4 Balanceamento: No Features: 11\n",
            "Melhor parametro: {'max_depth': 5, 'n_estimators': 10, 'random_state': 0}\n",
            "Acc: 0.8463768115942029 F1: 0.6030972923451285 AUC: 0.9633371350323188\n",
            "\n",
            "Modelo: GB Fold: 4 Balanceamento: No Features: 6\n",
            "Melhor parametro: {'max_depth': 5, 'n_estimators': 10, 'random_state': 0}\n",
            "Acc: 0.8347826086956521 F1: 0.5026210895035632 AUC: 0.9526340370832507\n",
            "\n",
            "Original Sample  dict_values([968, 307, 52, 56])\n",
            "UnderSampling  (208, 21) (208,) dict_values([52, 52, 52, 52])\n",
            "Modelo: GB Fold: 4 Balanceamento: Under Features: All\n",
            "Melhor parametro: {'max_depth': 2, 'n_estimators': 100, 'random_state': 0}\n",
            "Acc: 0.8898550724637682 F1: 0.8436621327550682 AUC: 0.9704098126652905\n",
            "\n",
            "Modelo: GB Fold: 4 Balanceamento: Under Features: 16\n",
            "Melhor parametro: {'max_depth': 2, 'n_estimators': 100, 'random_state': 0}\n",
            "Acc: 0.8666666666666667 F1: 0.8109980381170394 AUC: 0.9702636227467224\n",
            "\n",
            "Modelo: GB Fold: 4 Balanceamento: Under Features: 11\n",
            "Melhor parametro: {'max_depth': 2, 'n_estimators': 100, 'random_state': 0}\n",
            "Acc: 0.8347826086956521 F1: 0.7166820687639044 AUC: 0.9641039775824974\n",
            "\n",
            "Modelo: GB Fold: 4 Balanceamento: Under Features: 6\n",
            "Melhor parametro: {'max_depth': 2, 'n_estimators': 100, 'random_state': 0}\n",
            "Acc: 0.7768115942028986 F1: 0.6178751024256642 AUC: 0.9343878004681574\n",
            "\n",
            "Original Sample  dict_values([968, 307, 52, 56])\n",
            "OverSampling  dict_values([968, 968, 968, 968])\n",
            "Modelo: GB Fold: 4 Balanceamento: Over Features: All\n",
            "Melhor parametro: {'max_depth': 7, 'n_estimators': 100, 'random_state': 0}\n",
            "Acc: 0.9710144927536232 F1: 0.872423732272217 AUC: 0.9978189862297865\n",
            "\n",
            "Modelo: GB Fold: 4 Balanceamento: Over Features: 16\n",
            "Melhor parametro: {'max_depth': 7, 'n_estimators': 100, 'random_state': 0}\n",
            "Acc: 0.9681159420289855 F1: 0.8831398707915331 AUC: 0.9945947181986556\n",
            "\n",
            "Modelo: GB Fold: 4 Balanceamento: Over Features: 11\n",
            "Melhor parametro: {'max_depth': 7, 'n_estimators': 100, 'random_state': 0}\n",
            "Acc: 0.9565217391304348 F1: 0.9340843035524368 AUC: 0.9937795328961881\n",
            "\n",
            "Modelo: GB Fold: 4 Balanceamento: Over Features: 6\n",
            "Melhor parametro: {'max_depth': 7, 'n_estimators': 100, 'random_state': 0}\n",
            "Acc: 0.7855072463768116 F1: 0.6576400189750722 AUC: 0.946808466694627\n",
            "\n",
            "Original Sample  dict_values([968, 307, 52, 56])\n",
            "HybridSampling  dict_values([450, 450, 450, 450])\n",
            "Modelo: GB Fold: 4 Balanceamento: Hybrid Features: All\n",
            "Melhor parametro: {'max_depth': 5, 'n_estimators': 100, 'random_state': 0}\n",
            "Acc: 0.9420289855072463 F1: 0.8876158770420026 AUC: 0.9898592296209401\n",
            "\n",
            "Modelo: GB Fold: 4 Balanceamento: Hybrid Features: 16\n",
            "Melhor parametro: {'max_depth': 5, 'n_estimators': 100, 'random_state': 0}\n",
            "Acc: 0.936231884057971 F1: 0.8630281148932083 AUC: 0.9928506780587483\n",
            "\n",
            "Modelo: GB Fold: 4 Balanceamento: Hybrid Features: 11\n",
            "Melhor parametro: {'max_depth': 5, 'n_estimators': 100, 'random_state': 0}\n",
            "Acc: 0.9449275362318841 F1: 0.9030359990886307 AUC: 0.9869342588902922\n",
            "\n",
            "Modelo: GB Fold: 4 Balanceamento: Hybrid Features: 6\n",
            "Melhor parametro: {'max_depth': 5, 'n_estimators': 100, 'random_state': 0}\n",
            "Acc: 0.7942028985507247 F1: 0.6277709249980925 AUC: 0.948557031487241\n",
            "\n",
            "Original Sample  dict_values([968, 308, 52, 55])\n",
            "Modelo: GB Fold: 5 Balanceamento: No Features: All\n",
            "Melhor parametro: {'max_depth': 10, 'n_estimators': 10, 'random_state': 0}\n",
            "Acc: 0.9681159420289855 F1: 0.9390073277771067 AUC: 0.9963215442206594\n",
            "\n",
            "Modelo: GB Fold: 5 Balanceamento: No Features: 16\n",
            "Melhor parametro: {'max_depth': 10, 'n_estimators': 10, 'random_state': 0}\n",
            "Acc: 0.9217391304347826 F1: 0.8576702698416894 AUC: 0.9851481121541407\n",
            "\n",
            "Modelo: GB Fold: 5 Balanceamento: No Features: 11\n",
            "Melhor parametro: {'max_depth': 10, 'n_estimators': 10, 'random_state': 0}\n",
            "Acc: 0.9159420289855073 F1: 0.8423693211884425 AUC: 0.984491470966672\n",
            "\n",
            "Modelo: GB Fold: 5 Balanceamento: No Features: 6\n",
            "Melhor parametro: {'max_depth': 10, 'n_estimators': 10, 'random_state': 0}\n",
            "Acc: 0.808695652173913 F1: 0.4579749377255859 AUC: 0.9249648483731496\n",
            "\n",
            "Original Sample  dict_values([968, 308, 52, 55])\n",
            "UnderSampling  (208, 21) (208,) dict_values([52, 52, 52, 52])\n",
            "Modelo: GB Fold: 5 Balanceamento: Under Features: All\n",
            "Melhor parametro: {'max_depth': 10, 'n_estimators': 100, 'random_state': 0}\n",
            "Acc: 0.8579710144927536 F1: 0.8152514879927711 AUC: 0.9586036143547465\n",
            "\n",
            "Modelo: GB Fold: 5 Balanceamento: Under Features: 16\n",
            "Melhor parametro: {'max_depth': 10, 'n_estimators': 100, 'random_state': 0}\n",
            "Acc: 0.863768115942029 F1: 0.8020855659602555 AUC: 0.9604755359121488\n",
            "\n",
            "Modelo: GB Fold: 5 Balanceamento: Under Features: 11\n",
            "Melhor parametro: {'max_depth': 10, 'n_estimators': 100, 'random_state': 0}\n",
            "Acc: 0.8608695652173913 F1: 0.8037889065281185 AUC: 0.9643265913680122\n",
            "\n",
            "Modelo: GB Fold: 5 Balanceamento: Under Features: 6\n",
            "Melhor parametro: {'max_depth': 10, 'n_estimators': 100, 'random_state': 0}\n",
            "Acc: 0.6434782608695652 F1: 0.5665812395602083 AUC: 0.86956475991478\n",
            "\n",
            "Original Sample  dict_values([968, 308, 52, 55])\n",
            "OverSampling  dict_values([968, 968, 968, 968])\n",
            "Modelo: GB Fold: 5 Balanceamento: Over Features: All\n",
            "Melhor parametro: {'max_depth': 7, 'n_estimators': 100, 'random_state': 0}\n",
            "Acc: 0.9739130434782609 F1: 0.9275619192020466 AUC: 0.998564720876932\n",
            "\n",
            "Modelo: GB Fold: 5 Balanceamento: Over Features: 16\n",
            "Melhor parametro: {'max_depth': 7, 'n_estimators': 100, 'random_state': 0}\n",
            "Acc: 0.9681159420289855 F1: 0.889167058117383 AUC: 0.9962831126489128\n",
            "\n",
            "Modelo: GB Fold: 5 Balanceamento: Over Features: 11\n",
            "Melhor parametro: {'max_depth': 7, 'n_estimators': 100, 'random_state': 0}\n",
            "Acc: 0.9246376811594202 F1: 0.8751016799292661 AUC: 0.9882787170284205\n",
            "\n",
            "Modelo: GB Fold: 5 Balanceamento: Over Features: 6\n",
            "Melhor parametro: {'max_depth': 7, 'n_estimators': 100, 'random_state': 0}\n",
            "Acc: 0.8347826086956521 F1: 0.6993541546173125 AUC: 0.9570197373071179\n",
            "\n",
            "Original Sample  dict_values([968, 308, 52, 55])\n",
            "HybridSampling  dict_values([450, 450, 450, 450])\n",
            "Modelo: GB Fold: 5 Balanceamento: Hybrid Features: All\n",
            "Melhor parametro: {'max_depth': 7, 'n_estimators': 100, 'random_state': 0}\n",
            "Acc: 0.9594202898550724 F1: 0.8929117656193843 AUC: 0.9954779780224832\n",
            "\n",
            "Modelo: GB Fold: 5 Balanceamento: Hybrid Features: 16\n",
            "Melhor parametro: {'max_depth': 7, 'n_estimators': 100, 'random_state': 0}\n",
            "Acc: 0.9565217391304348 F1: 0.8567287135155235 AUC: 0.9927043486696242\n",
            "\n",
            "Modelo: GB Fold: 5 Balanceamento: Hybrid Features: 11\n",
            "Melhor parametro: {'max_depth': 7, 'n_estimators': 100, 'random_state': 0}\n",
            "Acc: 0.9594202898550724 F1: 0.9306229445991228 AUC: 0.9941681924275886\n",
            "\n",
            "Modelo: GB Fold: 5 Balanceamento: Hybrid Features: 6\n",
            "Melhor parametro: {'max_depth': 7, 'n_estimators': 100, 'random_state': 0}\n",
            "Acc: 0.7159420289855073 F1: 0.664055033266351 AUC: 0.9240268340775515\n",
            "\n"
          ]
        },
        {
          "output_type": "display_data",
          "data": {
            "text/plain": [
              "<Figure size 432x288 with 0 Axes>"
            ]
          },
          "metadata": {}
        },
        {
          "output_type": "display_data",
          "data": {
            "text/plain": [
              "<Figure size 432x288 with 0 Axes>"
            ]
          },
          "metadata": {}
        },
        {
          "output_type": "display_data",
          "data": {
            "text/plain": [
              "<Figure size 432x288 with 0 Axes>"
            ]
          },
          "metadata": {}
        },
        {
          "output_type": "display_data",
          "data": {
            "text/plain": [
              "<Figure size 432x288 with 0 Axes>"
            ]
          },
          "metadata": {}
        },
        {
          "output_type": "display_data",
          "data": {
            "text/plain": [
              "<Figure size 432x288 with 0 Axes>"
            ]
          },
          "metadata": {}
        },
        {
          "output_type": "display_data",
          "data": {
            "text/plain": [
              "<Figure size 432x288 with 0 Axes>"
            ]
          },
          "metadata": {}
        },
        {
          "output_type": "display_data",
          "data": {
            "text/plain": [
              "<Figure size 432x288 with 0 Axes>"
            ]
          },
          "metadata": {}
        },
        {
          "output_type": "display_data",
          "data": {
            "text/plain": [
              "<Figure size 432x288 with 0 Axes>"
            ]
          },
          "metadata": {}
        },
        {
          "output_type": "display_data",
          "data": {
            "text/plain": [
              "<Figure size 432x288 with 0 Axes>"
            ]
          },
          "metadata": {}
        },
        {
          "output_type": "display_data",
          "data": {
            "text/plain": [
              "<Figure size 432x288 with 0 Axes>"
            ]
          },
          "metadata": {}
        },
        {
          "output_type": "display_data",
          "data": {
            "text/plain": [
              "<Figure size 432x288 with 0 Axes>"
            ]
          },
          "metadata": {}
        },
        {
          "output_type": "display_data",
          "data": {
            "text/plain": [
              "<Figure size 432x288 with 0 Axes>"
            ]
          },
          "metadata": {}
        },
        {
          "output_type": "display_data",
          "data": {
            "text/plain": [
              "<Figure size 432x288 with 0 Axes>"
            ]
          },
          "metadata": {}
        },
        {
          "output_type": "display_data",
          "data": {
            "text/plain": [
              "<Figure size 432x288 with 0 Axes>"
            ]
          },
          "metadata": {}
        },
        {
          "output_type": "display_data",
          "data": {
            "text/plain": [
              "<Figure size 432x288 with 0 Axes>"
            ]
          },
          "metadata": {}
        },
        {
          "output_type": "display_data",
          "data": {
            "text/plain": [
              "<Figure size 432x288 with 0 Axes>"
            ]
          },
          "metadata": {}
        },
        {
          "output_type": "display_data",
          "data": {
            "text/plain": [
              "<Figure size 432x288 with 0 Axes>"
            ]
          },
          "metadata": {}
        },
        {
          "output_type": "display_data",
          "data": {
            "text/plain": [
              "<Figure size 432x288 with 0 Axes>"
            ]
          },
          "metadata": {}
        },
        {
          "output_type": "display_data",
          "data": {
            "text/plain": [
              "<Figure size 432x288 with 0 Axes>"
            ]
          },
          "metadata": {}
        },
        {
          "output_type": "display_data",
          "data": {
            "text/plain": [
              "<Figure size 432x288 with 0 Axes>"
            ]
          },
          "metadata": {}
        },
        {
          "output_type": "display_data",
          "data": {
            "text/plain": [
              "<Figure size 432x288 with 0 Axes>"
            ]
          },
          "metadata": {}
        },
        {
          "output_type": "display_data",
          "data": {
            "text/plain": [
              "<Figure size 432x288 with 0 Axes>"
            ]
          },
          "metadata": {}
        },
        {
          "output_type": "display_data",
          "data": {
            "text/plain": [
              "<Figure size 432x288 with 0 Axes>"
            ]
          },
          "metadata": {}
        },
        {
          "output_type": "display_data",
          "data": {
            "text/plain": [
              "<Figure size 432x288 with 0 Axes>"
            ]
          },
          "metadata": {}
        },
        {
          "output_type": "display_data",
          "data": {
            "text/plain": [
              "<Figure size 432x288 with 0 Axes>"
            ]
          },
          "metadata": {}
        },
        {
          "output_type": "display_data",
          "data": {
            "text/plain": [
              "<Figure size 432x288 with 0 Axes>"
            ]
          },
          "metadata": {}
        },
        {
          "output_type": "display_data",
          "data": {
            "text/plain": [
              "<Figure size 432x288 with 0 Axes>"
            ]
          },
          "metadata": {}
        },
        {
          "output_type": "display_data",
          "data": {
            "text/plain": [
              "<Figure size 432x288 with 0 Axes>"
            ]
          },
          "metadata": {}
        },
        {
          "output_type": "display_data",
          "data": {
            "text/plain": [
              "<Figure size 432x288 with 0 Axes>"
            ]
          },
          "metadata": {}
        },
        {
          "output_type": "display_data",
          "data": {
            "text/plain": [
              "<Figure size 432x288 with 0 Axes>"
            ]
          },
          "metadata": {}
        },
        {
          "output_type": "display_data",
          "data": {
            "text/plain": [
              "<Figure size 432x288 with 0 Axes>"
            ]
          },
          "metadata": {}
        },
        {
          "output_type": "display_data",
          "data": {
            "text/plain": [
              "<Figure size 432x288 with 0 Axes>"
            ]
          },
          "metadata": {}
        },
        {
          "output_type": "display_data",
          "data": {
            "text/plain": [
              "<Figure size 432x288 with 0 Axes>"
            ]
          },
          "metadata": {}
        },
        {
          "output_type": "display_data",
          "data": {
            "text/plain": [
              "<Figure size 432x288 with 0 Axes>"
            ]
          },
          "metadata": {}
        },
        {
          "output_type": "display_data",
          "data": {
            "text/plain": [
              "<Figure size 432x288 with 0 Axes>"
            ]
          },
          "metadata": {}
        },
        {
          "output_type": "display_data",
          "data": {
            "text/plain": [
              "<Figure size 432x288 with 0 Axes>"
            ]
          },
          "metadata": {}
        },
        {
          "output_type": "display_data",
          "data": {
            "text/plain": [
              "<Figure size 432x288 with 0 Axes>"
            ]
          },
          "metadata": {}
        },
        {
          "output_type": "display_data",
          "data": {
            "text/plain": [
              "<Figure size 432x288 with 0 Axes>"
            ]
          },
          "metadata": {}
        },
        {
          "output_type": "display_data",
          "data": {
            "text/plain": [
              "<Figure size 432x288 with 0 Axes>"
            ]
          },
          "metadata": {}
        },
        {
          "output_type": "display_data",
          "data": {
            "text/plain": [
              "<Figure size 432x288 with 0 Axes>"
            ]
          },
          "metadata": {}
        },
        {
          "output_type": "display_data",
          "data": {
            "text/plain": [
              "<Figure size 432x288 with 0 Axes>"
            ]
          },
          "metadata": {}
        },
        {
          "output_type": "display_data",
          "data": {
            "text/plain": [
              "<Figure size 432x288 with 0 Axes>"
            ]
          },
          "metadata": {}
        },
        {
          "output_type": "display_data",
          "data": {
            "text/plain": [
              "<Figure size 432x288 with 0 Axes>"
            ]
          },
          "metadata": {}
        },
        {
          "output_type": "display_data",
          "data": {
            "text/plain": [
              "<Figure size 432x288 with 0 Axes>"
            ]
          },
          "metadata": {}
        },
        {
          "output_type": "display_data",
          "data": {
            "text/plain": [
              "<Figure size 432x288 with 0 Axes>"
            ]
          },
          "metadata": {}
        },
        {
          "output_type": "display_data",
          "data": {
            "text/plain": [
              "<Figure size 432x288 with 0 Axes>"
            ]
          },
          "metadata": {}
        },
        {
          "output_type": "display_data",
          "data": {
            "text/plain": [
              "<Figure size 432x288 with 0 Axes>"
            ]
          },
          "metadata": {}
        },
        {
          "output_type": "display_data",
          "data": {
            "text/plain": [
              "<Figure size 432x288 with 0 Axes>"
            ]
          },
          "metadata": {}
        },
        {
          "output_type": "display_data",
          "data": {
            "text/plain": [
              "<Figure size 432x288 with 0 Axes>"
            ]
          },
          "metadata": {}
        },
        {
          "output_type": "display_data",
          "data": {
            "text/plain": [
              "<Figure size 432x288 with 0 Axes>"
            ]
          },
          "metadata": {}
        },
        {
          "output_type": "display_data",
          "data": {
            "text/plain": [
              "<Figure size 432x288 with 0 Axes>"
            ]
          },
          "metadata": {}
        },
        {
          "output_type": "display_data",
          "data": {
            "text/plain": [
              "<Figure size 432x288 with 0 Axes>"
            ]
          },
          "metadata": {}
        },
        {
          "output_type": "display_data",
          "data": {
            "text/plain": [
              "<Figure size 432x288 with 0 Axes>"
            ]
          },
          "metadata": {}
        },
        {
          "output_type": "display_data",
          "data": {
            "text/plain": [
              "<Figure size 432x288 with 0 Axes>"
            ]
          },
          "metadata": {}
        },
        {
          "output_type": "display_data",
          "data": {
            "text/plain": [
              "<Figure size 432x288 with 0 Axes>"
            ]
          },
          "metadata": {}
        },
        {
          "output_type": "display_data",
          "data": {
            "text/plain": [
              "<Figure size 432x288 with 0 Axes>"
            ]
          },
          "metadata": {}
        },
        {
          "output_type": "display_data",
          "data": {
            "text/plain": [
              "<Figure size 432x288 with 0 Axes>"
            ]
          },
          "metadata": {}
        },
        {
          "output_type": "display_data",
          "data": {
            "text/plain": [
              "<Figure size 432x288 with 0 Axes>"
            ]
          },
          "metadata": {}
        },
        {
          "output_type": "display_data",
          "data": {
            "text/plain": [
              "<Figure size 432x288 with 0 Axes>"
            ]
          },
          "metadata": {}
        },
        {
          "output_type": "display_data",
          "data": {
            "text/plain": [
              "<Figure size 432x288 with 0 Axes>"
            ]
          },
          "metadata": {}
        },
        {
          "output_type": "display_data",
          "data": {
            "text/plain": [
              "<Figure size 432x288 with 0 Axes>"
            ]
          },
          "metadata": {}
        },
        {
          "output_type": "display_data",
          "data": {
            "text/plain": [
              "<Figure size 432x288 with 0 Axes>"
            ]
          },
          "metadata": {}
        },
        {
          "output_type": "display_data",
          "data": {
            "text/plain": [
              "<Figure size 432x288 with 0 Axes>"
            ]
          },
          "metadata": {}
        },
        {
          "output_type": "display_data",
          "data": {
            "text/plain": [
              "<Figure size 432x288 with 0 Axes>"
            ]
          },
          "metadata": {}
        },
        {
          "output_type": "display_data",
          "data": {
            "text/plain": [
              "<Figure size 432x288 with 0 Axes>"
            ]
          },
          "metadata": {}
        },
        {
          "output_type": "display_data",
          "data": {
            "text/plain": [
              "<Figure size 432x288 with 0 Axes>"
            ]
          },
          "metadata": {}
        },
        {
          "output_type": "display_data",
          "data": {
            "text/plain": [
              "<Figure size 432x288 with 0 Axes>"
            ]
          },
          "metadata": {}
        },
        {
          "output_type": "display_data",
          "data": {
            "text/plain": [
              "<Figure size 432x288 with 0 Axes>"
            ]
          },
          "metadata": {}
        },
        {
          "output_type": "display_data",
          "data": {
            "text/plain": [
              "<Figure size 432x288 with 0 Axes>"
            ]
          },
          "metadata": {}
        },
        {
          "output_type": "display_data",
          "data": {
            "text/plain": [
              "<Figure size 432x288 with 0 Axes>"
            ]
          },
          "metadata": {}
        },
        {
          "output_type": "display_data",
          "data": {
            "text/plain": [
              "<Figure size 432x288 with 0 Axes>"
            ]
          },
          "metadata": {}
        },
        {
          "output_type": "display_data",
          "data": {
            "text/plain": [
              "<Figure size 432x288 with 0 Axes>"
            ]
          },
          "metadata": {}
        },
        {
          "output_type": "display_data",
          "data": {
            "text/plain": [
              "<Figure size 432x288 with 0 Axes>"
            ]
          },
          "metadata": {}
        },
        {
          "output_type": "display_data",
          "data": {
            "text/plain": [
              "<Figure size 432x288 with 0 Axes>"
            ]
          },
          "metadata": {}
        },
        {
          "output_type": "display_data",
          "data": {
            "text/plain": [
              "<Figure size 432x288 with 0 Axes>"
            ]
          },
          "metadata": {}
        },
        {
          "output_type": "display_data",
          "data": {
            "text/plain": [
              "<Figure size 432x288 with 0 Axes>"
            ]
          },
          "metadata": {}
        },
        {
          "output_type": "display_data",
          "data": {
            "text/plain": [
              "<Figure size 432x288 with 0 Axes>"
            ]
          },
          "metadata": {}
        },
        {
          "output_type": "display_data",
          "data": {
            "text/plain": [
              "<Figure size 432x288 with 0 Axes>"
            ]
          },
          "metadata": {}
        },
        {
          "output_type": "display_data",
          "data": {
            "text/plain": [
              "<Figure size 432x288 with 0 Axes>"
            ]
          },
          "metadata": {}
        },
        {
          "output_type": "display_data",
          "data": {
            "text/plain": [
              "<Figure size 432x288 with 0 Axes>"
            ]
          },
          "metadata": {}
        },
        {
          "output_type": "display_data",
          "data": {
            "text/plain": [
              "<Figure size 432x288 with 0 Axes>"
            ]
          },
          "metadata": {}
        },
        {
          "output_type": "display_data",
          "data": {
            "text/plain": [
              "<Figure size 432x288 with 0 Axes>"
            ]
          },
          "metadata": {}
        },
        {
          "output_type": "display_data",
          "data": {
            "text/plain": [
              "<Figure size 432x288 with 0 Axes>"
            ]
          },
          "metadata": {}
        },
        {
          "output_type": "display_data",
          "data": {
            "text/plain": [
              "<Figure size 432x288 with 0 Axes>"
            ]
          },
          "metadata": {}
        },
        {
          "output_type": "display_data",
          "data": {
            "text/plain": [
              "<Figure size 432x288 with 0 Axes>"
            ]
          },
          "metadata": {}
        },
        {
          "output_type": "display_data",
          "data": {
            "text/plain": [
              "<Figure size 432x288 with 0 Axes>"
            ]
          },
          "metadata": {}
        },
        {
          "output_type": "display_data",
          "data": {
            "text/plain": [
              "<Figure size 432x288 with 0 Axes>"
            ]
          },
          "metadata": {}
        },
        {
          "output_type": "display_data",
          "data": {
            "text/plain": [
              "<Figure size 432x288 with 0 Axes>"
            ]
          },
          "metadata": {}
        },
        {
          "output_type": "display_data",
          "data": {
            "text/plain": [
              "<Figure size 432x288 with 0 Axes>"
            ]
          },
          "metadata": {}
        },
        {
          "output_type": "display_data",
          "data": {
            "text/plain": [
              "<Figure size 432x288 with 0 Axes>"
            ]
          },
          "metadata": {}
        },
        {
          "output_type": "display_data",
          "data": {
            "text/plain": [
              "<Figure size 432x288 with 0 Axes>"
            ]
          },
          "metadata": {}
        },
        {
          "output_type": "display_data",
          "data": {
            "text/plain": [
              "<Figure size 432x288 with 0 Axes>"
            ]
          },
          "metadata": {}
        },
        {
          "output_type": "display_data",
          "data": {
            "text/plain": [
              "<Figure size 432x288 with 0 Axes>"
            ]
          },
          "metadata": {}
        },
        {
          "output_type": "display_data",
          "data": {
            "text/plain": [
              "<Figure size 432x288 with 0 Axes>"
            ]
          },
          "metadata": {}
        },
        {
          "output_type": "display_data",
          "data": {
            "text/plain": [
              "<Figure size 432x288 with 0 Axes>"
            ]
          },
          "metadata": {}
        },
        {
          "output_type": "display_data",
          "data": {
            "text/plain": [
              "<Figure size 432x288 with 0 Axes>"
            ]
          },
          "metadata": {}
        },
        {
          "output_type": "display_data",
          "data": {
            "text/plain": [
              "<Figure size 432x288 with 0 Axes>"
            ]
          },
          "metadata": {}
        },
        {
          "output_type": "display_data",
          "data": {
            "text/plain": [
              "<Figure size 432x288 with 0 Axes>"
            ]
          },
          "metadata": {}
        },
        {
          "output_type": "display_data",
          "data": {
            "text/plain": [
              "<Figure size 432x288 with 0 Axes>"
            ]
          },
          "metadata": {}
        },
        {
          "output_type": "display_data",
          "data": {
            "text/plain": [
              "<Figure size 432x288 with 0 Axes>"
            ]
          },
          "metadata": {}
        },
        {
          "output_type": "display_data",
          "data": {
            "text/plain": [
              "<Figure size 432x288 with 0 Axes>"
            ]
          },
          "metadata": {}
        },
        {
          "output_type": "display_data",
          "data": {
            "text/plain": [
              "<Figure size 432x288 with 0 Axes>"
            ]
          },
          "metadata": {}
        },
        {
          "output_type": "display_data",
          "data": {
            "text/plain": [
              "<Figure size 432x288 with 0 Axes>"
            ]
          },
          "metadata": {}
        },
        {
          "output_type": "display_data",
          "data": {
            "text/plain": [
              "<Figure size 432x288 with 0 Axes>"
            ]
          },
          "metadata": {}
        },
        {
          "output_type": "display_data",
          "data": {
            "text/plain": [
              "<Figure size 432x288 with 0 Axes>"
            ]
          },
          "metadata": {}
        },
        {
          "output_type": "display_data",
          "data": {
            "text/plain": [
              "<Figure size 432x288 with 0 Axes>"
            ]
          },
          "metadata": {}
        },
        {
          "output_type": "display_data",
          "data": {
            "text/plain": [
              "<Figure size 432x288 with 0 Axes>"
            ]
          },
          "metadata": {}
        },
        {
          "output_type": "display_data",
          "data": {
            "text/plain": [
              "<Figure size 432x288 with 0 Axes>"
            ]
          },
          "metadata": {}
        },
        {
          "output_type": "display_data",
          "data": {
            "text/plain": [
              "<Figure size 432x288 with 0 Axes>"
            ]
          },
          "metadata": {}
        },
        {
          "output_type": "display_data",
          "data": {
            "text/plain": [
              "<Figure size 432x288 with 0 Axes>"
            ]
          },
          "metadata": {}
        },
        {
          "output_type": "display_data",
          "data": {
            "text/plain": [
              "<Figure size 432x288 with 0 Axes>"
            ]
          },
          "metadata": {}
        },
        {
          "output_type": "display_data",
          "data": {
            "text/plain": [
              "<Figure size 432x288 with 0 Axes>"
            ]
          },
          "metadata": {}
        },
        {
          "output_type": "display_data",
          "data": {
            "text/plain": [
              "<Figure size 432x288 with 0 Axes>"
            ]
          },
          "metadata": {}
        },
        {
          "output_type": "display_data",
          "data": {
            "text/plain": [
              "<Figure size 432x288 with 0 Axes>"
            ]
          },
          "metadata": {}
        },
        {
          "output_type": "display_data",
          "data": {
            "text/plain": [
              "<Figure size 432x288 with 0 Axes>"
            ]
          },
          "metadata": {}
        },
        {
          "output_type": "display_data",
          "data": {
            "text/plain": [
              "<Figure size 432x288 with 0 Axes>"
            ]
          },
          "metadata": {}
        },
        {
          "output_type": "display_data",
          "data": {
            "text/plain": [
              "<Figure size 432x288 with 0 Axes>"
            ]
          },
          "metadata": {}
        },
        {
          "output_type": "display_data",
          "data": {
            "text/plain": [
              "<Figure size 432x288 with 0 Axes>"
            ]
          },
          "metadata": {}
        },
        {
          "output_type": "display_data",
          "data": {
            "text/plain": [
              "<Figure size 432x288 with 0 Axes>"
            ]
          },
          "metadata": {}
        },
        {
          "output_type": "display_data",
          "data": {
            "text/plain": [
              "<Figure size 432x288 with 0 Axes>"
            ]
          },
          "metadata": {}
        },
        {
          "output_type": "display_data",
          "data": {
            "text/plain": [
              "<Figure size 432x288 with 0 Axes>"
            ]
          },
          "metadata": {}
        },
        {
          "output_type": "display_data",
          "data": {
            "text/plain": [
              "<Figure size 432x288 with 0 Axes>"
            ]
          },
          "metadata": {}
        },
        {
          "output_type": "display_data",
          "data": {
            "text/plain": [
              "<Figure size 432x288 with 0 Axes>"
            ]
          },
          "metadata": {}
        },
        {
          "output_type": "display_data",
          "data": {
            "text/plain": [
              "<Figure size 432x288 with 0 Axes>"
            ]
          },
          "metadata": {}
        },
        {
          "output_type": "display_data",
          "data": {
            "text/plain": [
              "<Figure size 432x288 with 0 Axes>"
            ]
          },
          "metadata": {}
        },
        {
          "output_type": "display_data",
          "data": {
            "text/plain": [
              "<Figure size 432x288 with 0 Axes>"
            ]
          },
          "metadata": {}
        },
        {
          "output_type": "display_data",
          "data": {
            "text/plain": [
              "<Figure size 432x288 with 0 Axes>"
            ]
          },
          "metadata": {}
        },
        {
          "output_type": "display_data",
          "data": {
            "text/plain": [
              "<Figure size 432x288 with 0 Axes>"
            ]
          },
          "metadata": {}
        },
        {
          "output_type": "display_data",
          "data": {
            "text/plain": [
              "<Figure size 432x288 with 0 Axes>"
            ]
          },
          "metadata": {}
        },
        {
          "output_type": "display_data",
          "data": {
            "text/plain": [
              "<Figure size 432x288 with 0 Axes>"
            ]
          },
          "metadata": {}
        },
        {
          "output_type": "display_data",
          "data": {
            "text/plain": [
              "<Figure size 432x288 with 0 Axes>"
            ]
          },
          "metadata": {}
        },
        {
          "output_type": "display_data",
          "data": {
            "text/plain": [
              "<Figure size 432x288 with 0 Axes>"
            ]
          },
          "metadata": {}
        },
        {
          "output_type": "display_data",
          "data": {
            "text/plain": [
              "<Figure size 432x288 with 0 Axes>"
            ]
          },
          "metadata": {}
        },
        {
          "output_type": "display_data",
          "data": {
            "text/plain": [
              "<Figure size 432x288 with 0 Axes>"
            ]
          },
          "metadata": {}
        },
        {
          "output_type": "display_data",
          "data": {
            "text/plain": [
              "<Figure size 432x288 with 0 Axes>"
            ]
          },
          "metadata": {}
        },
        {
          "output_type": "display_data",
          "data": {
            "text/plain": [
              "<Figure size 432x288 with 0 Axes>"
            ]
          },
          "metadata": {}
        },
        {
          "output_type": "display_data",
          "data": {
            "text/plain": [
              "<Figure size 432x288 with 0 Axes>"
            ]
          },
          "metadata": {}
        },
        {
          "output_type": "display_data",
          "data": {
            "text/plain": [
              "<Figure size 432x288 with 0 Axes>"
            ]
          },
          "metadata": {}
        },
        {
          "output_type": "display_data",
          "data": {
            "text/plain": [
              "<Figure size 432x288 with 0 Axes>"
            ]
          },
          "metadata": {}
        },
        {
          "output_type": "display_data",
          "data": {
            "text/plain": [
              "<Figure size 432x288 with 0 Axes>"
            ]
          },
          "metadata": {}
        },
        {
          "output_type": "display_data",
          "data": {
            "text/plain": [
              "<Figure size 432x288 with 0 Axes>"
            ]
          },
          "metadata": {}
        },
        {
          "output_type": "display_data",
          "data": {
            "text/plain": [
              "<Figure size 432x288 with 0 Axes>"
            ]
          },
          "metadata": {}
        },
        {
          "output_type": "display_data",
          "data": {
            "text/plain": [
              "<Figure size 432x288 with 0 Axes>"
            ]
          },
          "metadata": {}
        },
        {
          "output_type": "display_data",
          "data": {
            "text/plain": [
              "<Figure size 432x288 with 0 Axes>"
            ]
          },
          "metadata": {}
        },
        {
          "output_type": "display_data",
          "data": {
            "text/plain": [
              "<Figure size 432x288 with 0 Axes>"
            ]
          },
          "metadata": {}
        },
        {
          "output_type": "display_data",
          "data": {
            "text/plain": [
              "<Figure size 432x288 with 0 Axes>"
            ]
          },
          "metadata": {}
        },
        {
          "output_type": "display_data",
          "data": {
            "text/plain": [
              "<Figure size 432x288 with 0 Axes>"
            ]
          },
          "metadata": {}
        },
        {
          "output_type": "display_data",
          "data": {
            "text/plain": [
              "<Figure size 432x288 with 0 Axes>"
            ]
          },
          "metadata": {}
        },
        {
          "output_type": "display_data",
          "data": {
            "text/plain": [
              "<Figure size 432x288 with 0 Axes>"
            ]
          },
          "metadata": {}
        },
        {
          "output_type": "display_data",
          "data": {
            "text/plain": [
              "<Figure size 432x288 with 0 Axes>"
            ]
          },
          "metadata": {}
        },
        {
          "output_type": "display_data",
          "data": {
            "text/plain": [
              "<Figure size 432x288 with 0 Axes>"
            ]
          },
          "metadata": {}
        },
        {
          "output_type": "display_data",
          "data": {
            "text/plain": [
              "<Figure size 432x288 with 0 Axes>"
            ]
          },
          "metadata": {}
        },
        {
          "output_type": "display_data",
          "data": {
            "text/plain": [
              "<Figure size 432x288 with 0 Axes>"
            ]
          },
          "metadata": {}
        },
        {
          "output_type": "display_data",
          "data": {
            "text/plain": [
              "<Figure size 432x288 with 0 Axes>"
            ]
          },
          "metadata": {}
        },
        {
          "output_type": "display_data",
          "data": {
            "text/plain": [
              "<Figure size 432x288 with 0 Axes>"
            ]
          },
          "metadata": {}
        },
        {
          "output_type": "display_data",
          "data": {
            "text/plain": [
              "<Figure size 432x288 with 0 Axes>"
            ]
          },
          "metadata": {}
        },
        {
          "output_type": "display_data",
          "data": {
            "text/plain": [
              "<Figure size 432x288 with 0 Axes>"
            ]
          },
          "metadata": {}
        },
        {
          "output_type": "display_data",
          "data": {
            "text/plain": [
              "<Figure size 432x288 with 0 Axes>"
            ]
          },
          "metadata": {}
        },
        {
          "output_type": "display_data",
          "data": {
            "text/plain": [
              "<Figure size 432x288 with 0 Axes>"
            ]
          },
          "metadata": {}
        },
        {
          "output_type": "display_data",
          "data": {
            "text/plain": [
              "<Figure size 432x288 with 0 Axes>"
            ]
          },
          "metadata": {}
        }
      ],
      "source": [
        "data_results = pd.DataFrame([],columns=['Acurácia', 'F1-Score', 'ROC-AUC', 'Fold','Modelo','Parâmetros',\"Balanceamento\",\"N_feat\",\"Features\"])\n",
        "models = [\"SVM\", \"GB\"]#[\"KNN\", \"RL\", \"BNB\", \"DT\", \"PMC\", \"SVM\", \"RF\", \"GB\"] #\"KNN\",\n",
        "balances = ['No','Under', 'Over', 'Hybrid']\n",
        "n_features = [\"All\",16,11,6]#\"All\",\n",
        "\n",
        "for name_model in models:\n",
        "  results = []\n",
        "  for k in range(1,6):\n",
        "\n",
        "    #retira o banco de dados de teste\n",
        "    teste  = data[data.fold==k]\n",
        "\n",
        "    # ja separa o y de teste\n",
        "    y_teste = teste['class']\n",
        "\n",
        "    # o x de teste precisa ser definido posteriormente\n",
        "    # uma vez que vai depender da seleção de features\n",
        "\n",
        "    for balan in balances:\n",
        "      \n",
        "      treino = data[data.fold!=k] #retorna o banco de dados de treino balanceado\n",
        "\n",
        "      #separação features e classes\n",
        "      x_treino, y_treino = balan_func(treino[features],treino['class'],balan)\n",
        "\n",
        "\n",
        "\n",
        "      # Econtrando os melhores hiper parâmetros\n",
        "      b_model, best_parameters = grid_best_model(model=name_model, grid=grid)\n",
        "\n",
        "      for n_feat in n_features:\n",
        "        model= f_models(name_model,best_parameters)\n",
        "        # print(model)\n",
        "        #seleção de features para cada conjunto de hiper parâmetros \n",
        "        best_feat = select_feat(x_treino,y_treino,model,n_feat,features)\n",
        "\n",
        "        #atualizando o treino com as features escolhidas\n",
        "        x_treino =x_treino[best_feat]\n",
        "        \n",
        "        #definindo o x de teste a partir das features selecionadas\n",
        "        x_teste = teste[best_feat]\n",
        "        \n",
        "        #treino do modelo com melhores parametros, features e balanceamento\n",
        "        \n",
        "        model.fit(x_treino, y_treino)\n",
        "\n",
        "        # teste é feito sem balanceamento\n",
        "        y_pred = model.predict(x_teste)\n",
        "        y_pred_prob = model.predict_proba(x_teste)\n",
        "        result = metrics(y_teste, y_pred, y_pred_prob)\n",
        "\n",
        "        print(\"Modelo:\", name_model, \"Fold:\", k, \"Balanceamento:\", balan, \"Features:\", n_feat)\n",
        "        print(\"Melhor parametro:\", best_parameters)         \n",
        "        print(\"Acc:\", result[0], \"F1:\", result[1], \"AUC:\", result[2])\n",
        "        print('')\n",
        "        plt.figure();\n",
        "        plot_confusion_matrix(model, x_teste, y_teste, normalize='true');\n",
        "        plt.title(name_model+'_f'+ str(k)+'_feat:'+str(n_feat)+'_balan:'+balan);\n",
        "        plt.savefig('/content/drive/MyDrive/AnalisePred_I/confusion_matrix_plus/'+ name_model+'_f'+ str(k) +'.pdf', format=\"pdf\", dpi=1000, bbox_inches=\"tight\");\n",
        "        plt.close();\n",
        "\n",
        "        result.append(k)\n",
        "        result.append(name_model)\n",
        "        result.append(best_parameters)\n",
        "\n",
        "        result.append(balan)\n",
        "        result.append(len(best_feat))\n",
        "        result.append(best_feat)\n",
        "        results.append(result)\n",
        "\n",
        "        \n",
        "  data_results = pd.concat([data_results, pd.DataFrame(results,columns=['Acurácia', 'F1-Score', 'ROC-AUC', 'Fold','Modelo','Parâmetros','Balanceamento',\"N_feat\",\"Features\"])])\n",
        "  data_results.to_csv('/content/drive/MyDrive/AnalisePred_I/Car_results_plus'+ name_model + '.csv')\n"
      ]
    },
    {
      "cell_type": "code",
      "source": [
        "model.tolist()"
      ],
      "metadata": {
        "colab": {
          "base_uri": "https://localhost:8080/",
          "height": 166
        },
        "id": "1lgHdthq9mzu",
        "outputId": "bc6a3572-d8f6-4c11-e201-54d573a928fb"
      },
      "execution_count": 11,
      "outputs": [
        {
          "output_type": "error",
          "ename": "AttributeError",
          "evalue": "ignored",
          "traceback": [
            "\u001b[0;31m---------------------------------------------------------------------------\u001b[0m",
            "\u001b[0;31mAttributeError\u001b[0m                            Traceback (most recent call last)",
            "\u001b[0;32m<ipython-input-11-c89e4c17b4fc>\u001b[0m in \u001b[0;36m<module>\u001b[0;34m\u001b[0m\n\u001b[0;32m----> 1\u001b[0;31m \u001b[0mmodel\u001b[0m\u001b[0;34m.\u001b[0m\u001b[0mtolist\u001b[0m\u001b[0;34m(\u001b[0m\u001b[0;34m)\u001b[0m\u001b[0;34m\u001b[0m\u001b[0;34m\u001b[0m\u001b[0m\n\u001b[0m",
            "\u001b[0;31mAttributeError\u001b[0m: 'GradientBoostingClassifier' object has no attribute 'tolist'"
          ]
        }
      ]
    },
    {
      "cell_type": "code",
      "source": [
        "print(best_feat)"
      ],
      "metadata": {
        "id": "g5ev2bG7o6m7"
      },
      "execution_count": null,
      "outputs": []
    }
  ],
  "metadata": {
    "colab": {
      "name": "classifier_car.ipynb",
      "provenance": [],
      "include_colab_link": true
    },
    "kernelspec": {
      "display_name": "Python 3.7.6 ('base')",
      "language": "python",
      "name": "python3"
    },
    "language_info": {
      "codemirror_mode": {
        "name": "ipython",
        "version": 3
      },
      "file_extension": ".py",
      "mimetype": "text/x-python",
      "name": "python",
      "nbconvert_exporter": "python",
      "pygments_lexer": "ipython3",
      "version": "3.7.6"
    },
    "orig_nbformat": 4,
    "vscode": {
      "interpreter": {
        "hash": "1d3a245165631ca1151694c656e253180713a00b2aa4e363f5b597e7a7cbc838"
      }
    }
  },
  "nbformat": 4,
  "nbformat_minor": 0
}