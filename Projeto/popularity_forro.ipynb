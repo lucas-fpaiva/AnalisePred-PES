{
  "cells": [
    {
      "cell_type": "markdown",
      "metadata": {
        "id": "view-in-github",
        "colab_type": "text"
      },
      "source": [
        "<a href=\"https://colab.research.google.com/github/lucas-fpaiva/AnalisePred_I/blob/main/Projeto/popularity_forro.ipynb\" target=\"_parent\"><img src=\"https://colab.research.google.com/assets/colab-badge.svg\" alt=\"Open In Colab\"/></a>"
      ]
    },
    {
      "cell_type": "markdown",
      "metadata": {
        "id": "Csxq-QIV1xUD"
      },
      "source": [
        "# Avaliar a popularidade de músicas de forro"
      ]
    },
    {
      "cell_type": "code",
      "execution_count": 107,
      "metadata": {
        "id": "GqjIv-ud1xUa"
      },
      "outputs": [],
      "source": [
        "import pandas as pd\n",
        "import matplotlib.gridspec as gridspec\n",
        "import matplotlib.pyplot as plt\n",
        "import numpy as np\n",
        "import sklearn\n",
        "\n",
        "from sklearn.tree import DecisionTreeRegressor, DecisionTreeClassifier\n",
        "from sklearn.ensemble import RandomForestRegressor, RandomForestClassifier\n",
        "from sklearn.model_selection import GridSearchCV, KFold, cross_val_score\n",
        "from sklearn.neural_network import MLPClassifier, MLPRegressor\n",
        "from sklearn.neighbors import KNeighborsClassifier, KNeighborsRegressor\n",
        "from sklearn.linear_model import LogisticRegression, LinearRegression\n",
        "\n",
        "from sklearn.metrics import mean_absolute_percentage_error as mape\n",
        "from sklearn.metrics import mean_absolute_error as mae\n",
        "from sklearn.metrics import mean_squared_error as mse\n",
        "from sklearn.metrics import r2_score as r2\n",
        "# from sklearn.metrics import d2_pinball_score as pinball\n",
        "from sklearn.metrics import d2_tweedie_score as tweedie\n",
        "\n",
        "\n",
        "from sklearn.datasets import make_classification\n",
        "from ast import literal_eval\n",
        "\n",
        "import warnings\n",
        "warnings.filterwarnings('ignore')\n"
      ]
    },
    {
      "cell_type": "code",
      "source": [
        "def norm_mm(arr):\n",
        "    return (arr-np.min(arr))/(np.max(arr)-np.min(arr))\n",
        "\n",
        "def padroniza(data):\n",
        "    data['artist'] = norm_mm(data['artist_fac'])\n",
        "    data['track_year'] = norm_mm(data['track_year'])\n",
        "    data['tempo'] = norm_mm(data['tempo'])\n",
        "    data['time_signature'] = norm_mm(data['time_signature'])\n",
        "    data['popularity']=norm_mm(data['popularity'])\n",
        "    data['key'] = norm_mm(data['key'])\n",
        "    data['duration_ms'] = norm_mm(data['duration_ms'])\n",
        "    data['loudness'] = norm_mm(data['loudness'])\n",
        "  \n",
        "    return data"
      ],
      "metadata": {
        "id": "z5a9fTDN5425"
      },
      "execution_count": 74,
      "outputs": []
    },
    {
      "cell_type": "code",
      "source": [
        "def grid_best_model (model=\"DT\", names=False, grid=\"\", task=\"R\"):\n",
        "  #A função retorna o modelo com os melhores parametros, os melhores parametros e o melhor score\n",
        "  scoring = 'neg_mean_squared_error'\n",
        "  #models = [\"KNN\",\"LM\",\"DT\",\"SVM\", \"RF\", \"MLP\", \"GB\", \"ADA\"]\n",
        "  #types = [\"C\",\"R\"]\n",
        "  if names == True:\n",
        "    print(\"KNN: KNeighborsRegressor\\nLM: LinearRegression\\nDT: DecisionTreeRegressor\\nRF: RandomForestRegressor\",\n",
        "          \"\\nGB: GradientBoostingRegressor\\nSVM: Support Vector Machine\\nADA: AdaBoostRegressor\\nMLP: MLPRegressor\")\n",
        "    \n",
        "  if model == \"DT\":\n",
        "    if task == \"C\":\n",
        "      gs_cv = GridSearchCV(estimator=DecisionTreeClassifier(), param_grid=grid['DT'], cv= 5, scoring='accuracy')\n",
        "      gs_cv.fit(x_treino, y_treino)\n",
        "      return DecisionTreeClassifier(criterion=gs_cv.best_params_['criterion'], max_depth=gs_cv.best_params_['max_depth'], min_samples_leaf=gs_cv.best_params_['min_samples_leaf'], \n",
        "                                   n_estimators=gs_cv.best_params_['n_estimators'], random_state=gs_cv.best_params_['random_state']).fit(x_treino, y_treino), gs_cv.best_params_\n",
        "\n",
        "    elif task == \"R\":\n",
        "      gs_cv = GridSearchCV(estimator=DecisionTreeRegressor(), param_grid=grid['DT'], cv= 5, scoring=scoring, n_jobs=-1)\n",
        "      gs_cv.fit(x_treino, y_treino)\n",
        "      return DecisionTreeRegressor(criterion=gs_cv.best_params_['criterion'], max_depth=gs_cv.best_params_['max_depth'], min_samples_leaf=gs_cv.best_params_['min_samples_leaf'],\n",
        "                                   random_state=gs_cv.best_params_['random_state']).fit(x_treino, y_treino), gs_cv.best_params_\n",
        "        \n",
        "  if model==\"MLP\":\n",
        "    if task == \"C\":\n",
        "      gs_cv = GridSearchCV(estimator=MLPClassifier(), param_grid=grid['MLP'], cv= 5, scoring='neg_mean_absolute_percentage_error', n_jobs=-1)\n",
        "      gs_cv.fit(x_treino, y_treino)\n",
        "      return MLPClassifier(hidden_layer_sizes=gs_cv.best_params_['hidden_layer_sizes'], max_iter=gs_cv.best_params_['max_iter'], activation=gs_cv.best_params_['activation'], \n",
        "                           random_state=gs_cv.best_params_['random_state']), gs_cv.best_params_\n",
        "    elif task == \"R\":\n",
        "\n",
        "      gs_cv = GridSearchCV(estimator=MLPRegressor(), param_grid=grid['MLP'], cv= 5, scoring=scoring, n_jobs=-1)\n",
        "      gs_cv.fit(x_treino, y_treino)\n",
        "      return MLPRegressor(early_stopping=True, hidden_layer_sizes=gs_cv.best_params_['hidden_layer_sizes'], max_iter=gs_cv.best_params_['max_iter'], activation=gs_cv.best_params_['activation'], \n",
        "                           random_state=gs_cv.best_params_['random_state']), gs_cv.best_params_\n",
        "    \n",
        "  if model == \"RF\":\n",
        "    if task == \"C\":\n",
        "      gs_cv = GridSearchCV(estimator=RandomForestClassifier(), param_grid=grid['RF'], cv= 5, scoring='neg_mean_absolute_percentage_error', n_jobs=-1)\n",
        "      gs_cv.fit(x_treino, y_treino)\n",
        "      return RandomForestClassifier(n_estimators=gs_cv.best_params_['n_estimators'], max_depth=gs_cv.best_params_['max_depth'], max_features=gs_cv.best_params_['max_features'], \n",
        "                             random_state=gs_cv.best_params_['random_state'], criterion=gs_cv.best_params_['criterion']), gs_cv.best_params_\n",
        "\n",
        "    elif task == \"R\":\n",
        "      gs_cv = GridSearchCV(estimator=RandomForestRegressor(), param_grid=grid['RF'], cv= 5, scoring='neg_mean_absolute_percentage_error', n_jobs=-1)\n",
        "      gs_cv.fit(x_treino, y_treino)\n",
        "      return RandomForestRegressor(n_estimators=gs_cv.best_params_['n_estimators'], max_depth=gs_cv.best_params_['max_depth'], max_features=gs_cv.best_params_['max_features'], \n",
        "                             random_state=gs_cv.best_params_['random_state'], criterion=gs_cv.best_params_['criterion']), gs_cv.best_params_\n",
        "\n",
        "  if model == \"KNN\":\n",
        "    if task == \"C\":\n",
        "      gs_cv = GridSearchCV(estimator=KNeighborsClassifier(), param_grid=grid['KNN'], cv= 5, scoring='neg_mean_absolute_percentage_error', n_jobs=-1)\n",
        "      gs_cv.fit(x_treino, y_treino)\n",
        "      return KNeighborsClassifier(n_neighbors=gs_cv.best_params_['n_neighbors'], weights=gs_cv.best_params_['weights'], metric=gs_cv.best_params_['metric']), gs_cv.best_params_\n",
        "\n",
        "    elif task == \"R\":\n",
        "      gs_cv = GridSearchCV(estimator=KNeighborsRegressor(), param_grid=grid['KNN'], cv= 5, scoring='neg_mean_absolute_percentage_error', n_jobs=-1)\n",
        "      gs_cv.fit(x_treino, y_treino)\n",
        "      return KNeighborsRegressor(n_neighbors=gs_cv.best_params_['n_neighbors'], weights=gs_cv.best_params_['weights'], metric=gs_cv.best_params_['metric']), gs_cv.best_params_\n",
        "\n",
        "  if model == \"LM\":\n",
        "    if task == \"C\":\n",
        "      gs_cv = GridSearchCV(estimator=KNeighborsClassifier(), param_grid=grid['LM'], cv= 5, scoring='neg_mean_absolute_percentage_error', n_jobs=-1)\n",
        "      gs_cv.fit(x_treino, y_treino)\n",
        "      return KNeighborsClassifier(fit_intercept=gs_cv.best_params_['fit_intercept'], penalty=gs_cv.best_params_['penalty'], tol=gs_cv.best_params_['tol']), gs_cv.best_params_\n",
        "\n",
        "    elif task == \"R\":\n",
        "      gs_cv = GridSearchCV(estimator=LinearRegression(), param_grid=grid['LM'], cv= 5, scoring='neg_mean_absolute_percentage_error', n_jobs=-1)\n",
        "      gs_cv.fit(x_treino, y_treino)\n",
        "      return LinearRegression(fit_intercept=gs_cv.best_params_['fit_intercept']), gs_cv.best_params_\n",
        "        \n",
        "  return print(\"KNN: KNeighborsRegressor\\nLM: LinearRegression\\nDT: DecisionTreeRegressor\\nRF: RandomForestRegressor\",\n",
        "          \"\\nGB: GradientBoostingRegressor\\nSVM: Support Vector Machine\\nADA: AdaBoostRegressor\\nMLP: MLPRegressor\")\n",
        "  \n",
        "#Parâmetros do Grid\n",
        "grid = {\n",
        "    'RF':{ \n",
        "        'n_estimators': [20,30,40,50],\n",
        "        'max_features': ['sqrt', 'log2'],\n",
        "        'max_depth' : [5,10,15,20,25],\n",
        "        'criterion' :['squared_error', 'absolute_error'],\n",
        "        'random_state' : [0]},\n",
        "\n",
        "    'MLP':{\n",
        "        'hidden_layer_sizes': [(10,), (15,), (20,), (100,)], #[(10,10), (10,15), (20,)],\n",
        "        'max_iter': [200],\n",
        "        'activation' : ['relu'],\n",
        "        'random_state' : [0]},\n",
        "\n",
        "    'DT':{\n",
        "        'max_depth': [5,10,15,20,25],\n",
        "        'min_samples_leaf': [1,2,3,4,5],\n",
        "        'criterion' :['squared_error', 'absolute_error'],\n",
        "        'random_state' : [0]},\n",
        "\n",
        "    'KNN':{\n",
        "      'n_neighbors': [5,10,15,20,25],\n",
        "      'weights': ['uniform', 'distance'],\n",
        "      'metric' : ['manhattan', 'euclidean']},\n",
        "\n",
        "    'LM':{\n",
        "      'fit_intercept' : [True, False]}\n",
        "}"
      ],
      "metadata": {
        "id": "7oTeWB0yLtxT"
      },
      "execution_count": 108,
      "outputs": []
    },
    {
      "cell_type": "markdown",
      "source": [
        "## Lendo o Dataset"
      ],
      "metadata": {
        "id": "FI2B053-WNjz"
      }
    },
    {
      "cell_type": "code",
      "execution_count": 69,
      "metadata": {
        "id": "WIUYApCx1xUa",
        "colab": {
          "base_uri": "https://localhost:8080/"
        },
        "outputId": "66f0ca20-4dc2-4f39-e451-3e13f0754e7c"
      },
      "outputs": [
        {
          "output_type": "execute_result",
          "data": {
            "text/plain": [
              "Index(['Unnamed: 0', 'track', 'track_id', 'artist', 'artist_id', 'popularity',\n",
              "       'album', 'album_id', 'track_year', 'duration_ms', 'uri', 'preview_url',\n",
              "       'energy', 'liveness', 'tempo', 'speechiness', 'acousticness',\n",
              "       'instrumentalness', 'time_signature', 'danceability', 'key', 'loudness',\n",
              "       'valence', 'mode', 'fold_x', 'fold_y', 'artist_fac'],\n",
              "      dtype='object')"
            ]
          },
          "metadata": {},
          "execution_count": 69
        }
      ],
      "source": [
        "forroset = pd.read_csv('https://raw.githubusercontent.com/lucas-fpaiva/AnalisePred_I/main/Projeto/new_forroset.csv')\n",
        "forroset.columns"
      ]
    },
    {
      "cell_type": "code",
      "execution_count": 76,
      "metadata": {
        "id": "oMngdyi31xUb"
      },
      "outputs": [],
      "source": [
        "forroset = forroset[[\"track_id\",'popularity', 'duration_ms','track_year', 'artist_fac','energy',\n",
        "       'liveness', 'tempo', 'speechiness', 'acousticness', 'instrumentalness',\n",
        "       'time_signature', 'danceability', 'key', 'loudness', 'valence', 'mode', 'fold_x']]\n",
        "\n",
        "forroset = forroset.rename(columns={'fold_x':'folds'})"
      ]
    },
    {
      "cell_type": "markdown",
      "source": [
        "## Avaliando a Árvore de Decisão"
      ],
      "metadata": {
        "id": "son5ymSm4A_a"
      }
    },
    {
      "cell_type": "code",
      "source": [
        "def metrics (y_true, y_pred):\n",
        "  return [mae(y_true, y_pred), mape(y_true, y_pred), mse(y_true, y_pred), mse(y_true, y_pred, squared=False), r2(y_true, y_pred), tweedie(y_true, y_pred)]"
      ],
      "metadata": {
        "id": "O5Bd27LbuFP1"
      },
      "execution_count": 117,
      "outputs": []
    },
    {
      "cell_type": "code",
      "execution_count": null,
      "metadata": {
        "id": "2nCdUEwp1xUb",
        "colab": {
          "base_uri": "https://localhost:8080/"
        },
        "outputId": "eb477bac-9adf-4551-d64a-b90ff1926cc2"
      },
      "outputs": [
        {
          "output_type": "stream",
          "name": "stdout",
          "text": [
            "Melhor parametro: {'activation': 'relu', 'hidden_layer_sizes': (20,), 'max_iter': 200, 'random_state': 0}\n",
            "Fold 1 [0.13559026987311784, 57703492628234.36, 0.033561716053065134, 0.18319857000824305, -0.017194243290440614, -0.017194243290440614]\n",
            "Melhor parametro: {'activation': 'relu', 'hidden_layer_sizes': (20,), 'max_iter': 200, 'random_state': 0}\n",
            "Fold 2 [0.1362165824374356, 36480009776278.39, 0.035228824037070436, 0.18769343099072602, -0.2522284297125583, -0.25222842971255854]\n",
            "Melhor parametro: {'activation': 'relu', 'hidden_layer_sizes': (10,), 'max_iter': 200, 'random_state': 0}\n",
            "Fold 3 [0.1242367957290099, 43834912814630.305, 0.028689548394013754, 0.16937989371237, -0.12686665902605143, -0.12686665902605165]\n"
          ]
        }
      ],
      "source": [
        "data_results = pd.DataFrame([],columns=['fold','model','parameters','mae','mape', 'mse','rmse','r2','tweedie'])\n",
        "results = []\n",
        "name_model=\"MLP\"\n",
        "for k in range(1,6):\n",
        "  treino = forroset[forroset.folds!=k][forroset.popularity>0]\n",
        "  teste  = forroset[forroset.folds==k][forroset.popularity>0]\n",
        "\n",
        "  teste = padroniza(teste)\n",
        "  treino = padroniza(treino)\n",
        "  \n",
        "  x_treino = treino.drop(['folds','track_id','popularity'], axis=1)\n",
        "  y_treino = treino.popularity\n",
        "\n",
        "  x_teste = teste.drop(['folds','track_id','popularity'], axis=1)\n",
        "  y_teste = teste.popularity\n",
        "\n",
        "  model, best_parameters = grid_best_model(model=name_model, grid=grid)\n",
        "  model.fit(x_treino, y_treino)\n",
        "  y_pred= model.predict(x_teste)\n",
        "\n",
        "  print(\"Melhor parametro:\", best_parameters)         \n",
        "  print(\"Fold\", k, metrics(y_teste, y_pred))\n",
        "\n",
        "  result = metrics(y_teste, y_pred)\n",
        "  result.append(k)\n",
        "  result.append(name_model)\n",
        "  result.append(best_parameters)\n",
        "  \n",
        "  results.append(result)\n",
        "        \n",
        "data_results = pd.concat([data_results, pd.DataFrame([results],columns=['mae','mape', 'mse','rmse','r2','tweedie', 'fold','model','parameters'])])\n",
        "\n"
      ]
    },
    {
      "cell_type": "markdown",
      "metadata": {
        "id": "oiiiARm51xUh"
      },
      "source": [
        "### Predição do Modelo"
      ]
    },
    {
      "cell_type": "code",
      "execution_count": 80,
      "metadata": {
        "id": "N1d83sr_1xUh",
        "outputId": "4a36885a-6d4b-4b74-9085-21ed1ca998f8",
        "colab": {
          "base_uri": "https://localhost:8080/"
        }
      },
      "outputs": [
        {
          "output_type": "execute_result",
          "data": {
            "text/plain": [
              "0.6288772407334856"
            ]
          },
          "metadata": {},
          "execution_count": 80
        }
      ],
      "source": [
        "model.fit(x_treino, y_treino)\n",
        "np.sqrt(model.score(x_treino, y_treino))"
      ]
    },
    {
      "cell_type": "code",
      "execution_count": 130,
      "metadata": {
        "id": "cl-p7CYl1xUi",
        "outputId": "d4bb7069-aa19-46a4-a009-f9f26eb6be75",
        "colab": {
          "base_uri": "https://localhost:8080/"
        }
      },
      "outputs": [
        {
          "output_type": "execute_result",
          "data": {
            "text/plain": [
              "-0.19716194900973272"
            ]
          },
          "metadata": {},
          "execution_count": 130
        }
      ],
      "source": [
        "model.score(x_teste, y_teste)"
      ]
    },
    {
      "cell_type": "code",
      "execution_count": 82,
      "metadata": {
        "id": "BbQ6zkoa1xUi"
      },
      "outputs": [],
      "source": [
        "y_pred_t = model.predict(x_treino)"
      ]
    },
    {
      "cell_type": "code",
      "execution_count": 83,
      "metadata": {
        "id": "W_ePoeX21xUi"
      },
      "outputs": [],
      "source": [
        "y_pred= model.predict(x_teste)"
      ]
    },
    {
      "cell_type": "code",
      "execution_count": 84,
      "metadata": {
        "id": "mNFAJ7391xUi",
        "outputId": "3e858db7-8b79-4f65-94ee-cae176577b31",
        "colab": {
          "base_uri": "https://localhost:8080/",
          "height": 282
        }
      },
      "outputs": [
        {
          "output_type": "execute_result",
          "data": {
            "text/plain": [
              "[<matplotlib.lines.Line2D at 0x7efe26716290>]"
            ]
          },
          "metadata": {},
          "execution_count": 84
        },
        {
          "output_type": "display_data",
          "data": {
            "text/plain": [
              "<Figure size 432x288 with 1 Axes>"
            ],
            "image/png": "[encoded data removed]"
          },
          "metadata": {
            "needs_background": "light"
          }
        }
      ],
      "source": [
        "plt.plot(y_treino, y_pred_t, 'o')\n",
        "\n",
        "plt.plot(y_teste, y_pred, 'x')\n"
      ]
    },
    {
      "cell_type": "markdown",
      "source": [
        "#### MAPE"
      ],
      "metadata": {
        "id": "RJETkSjhH78m"
      }
    },
    {
      "cell_type": "code",
      "source": [
        "mape(y_teste,y_pred)*100"
      ],
      "metadata": {
        "colab": {
          "base_uri": "https://localhost:8080/"
        },
        "id": "oa9ZoR9KHqNr",
        "outputId": "65d2e7ca-654f-4a0a-d337-8d25c1b96d9c"
      },
      "execution_count": 85,
      "outputs": [
        {
          "output_type": "execute_result",
          "data": {
            "text/plain": [
              "5825345360794023.0"
            ]
          },
          "metadata": {},
          "execution_count": 85
        }
      ]
    },
    {
      "cell_type": "code",
      "source": [
        "plt.plot(((y_teste.values - y_pred)/y_teste.values)*100)\n",
        "np.mean(100*np.abs(y_teste.values - y_pred)/y_teste.values)"
      ],
      "metadata": {
        "colab": {
          "base_uri": "https://localhost:8080/",
          "height": 282
        },
        "id": "_NnezWOTJHXC",
        "outputId": "1e95f250-852e-4e8b-8275-1fb6926d8662"
      },
      "execution_count": 86,
      "outputs": [
        {
          "output_type": "execute_result",
          "data": {
            "text/plain": [
              "nan"
            ]
          },
          "metadata": {},
          "execution_count": 86
        },
        {
          "output_type": "display_data",
          "data": {
            "text/plain": [
              "<Figure size 432x288 with 1 Axes>"
            ],
            "image/png": "[encoded data removed]"
          },
          "metadata": {
            "needs_background": "light"
          }
        }
      ]
    },
    {
      "cell_type": "markdown",
      "source": [
        "#### Plot do Modelo Teste x Treino"
      ],
      "metadata": {
        "id": "ZDGsMVvpH_uC"
      }
    },
    {
      "cell_type": "code",
      "execution_count": 91,
      "metadata": {
        "id": "AlSxQ5mY1xUj",
        "outputId": "f66700f7-9b99-43e1-e1ec-532a3ba0becc",
        "colab": {
          "base_uri": "https://localhost:8080/",
          "height": 286
        }
      },
      "outputs": [
        {
          "output_type": "execute_result",
          "data": {
            "text/plain": [
              "(0.0, 0.3)"
            ]
          },
          "metadata": {},
          "execution_count": 91
        },
        {
          "output_type": "display_data",
          "data": {
            "text/plain": [
              "<Figure size 432x288 with 1 Axes>"
            ],
            "image/png": "[encoded data removed]"
          },
          "metadata": {
            "needs_background": "light"
          }
        }
      ],
      "source": [
        "plt.plot(y_teste.values, 'o')\n",
        "plt.plot(y_pred, 'x')\n",
        "plt.xlim([100,300])\n",
        "plt.ylim([0,0.3])"
      ]
    },
    {
      "cell_type": "code",
      "execution_count": null,
      "metadata": {
        "id": "b93PPcYm1xUj"
      },
      "outputs": [],
      "source": [
        "def mape(y_true, y_pred):\n",
        "    return np.mean(np.abs((y_true - y_pred) / (y_true+0.00001))) * 100"
      ]
    },
    {
      "cell_type": "code",
      "execution_count": null,
      "metadata": {
        "id": "953nhaNw1xUj"
      },
      "outputs": [],
      "source": [
        "def mae (y_true, y_pred):\n",
        "    return np.mean(np.abs(y_true - y_pred))"
      ]
    },
    {
      "cell_type": "code",
      "execution_count": null,
      "metadata": {
        "id": "4zHefH8S1xUj"
      },
      "outputs": [],
      "source": [
        "def r2_score(y_true, y_pred):\n",
        "    return np.mean(np.square(y_true - y_pred))"
      ]
    },
    {
      "cell_type": "code",
      "execution_count": null,
      "metadata": {
        "id": "6LMJaEmV1xUk",
        "outputId": "8ecff0df-a028-4213-f2a6-ae52dbdcfa8c"
      },
      "outputs": [
        {
          "data": {
            "text/plain": [
              "0.24169303797468356"
            ]
          },
          "execution_count": 63,
          "metadata": {},
          "output_type": "execute_result"
        }
      ],
      "source": [
        ""
      ]
    }
  ],
  "metadata": {
    "colab": {
      "name": "popularity_forro.ipynb",
      "provenance": [],
      "include_colab_link": true
    },
    "kernelspec": {
      "display_name": "Python 3.7.6 ('base')",
      "language": "python",
      "name": "python3"
    },
    "language_info": {
      "codemirror_mode": {
        "name": "ipython",
        "version": 3
      },
      "file_extension": ".py",
      "mimetype": "text/x-python",
      "name": "python",
      "nbconvert_exporter": "python",
      "pygments_lexer": "ipython3",
      "version": "3.7.6"
    },
    "orig_nbformat": 4,
    "vscode": {
      "interpreter": {
        "hash": "1d3a245165631ca1151694c656e253180713a00b2aa4e363f5b597e7a7cbc838"
      }
    }
  },
  "nbformat": 4,
  "nbformat_minor": 0
}