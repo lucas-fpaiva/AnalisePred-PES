{
  "cells": [
    {
      "cell_type": "markdown",
      "metadata": {
        "id": "view-in-github",
        "colab_type": "text"
      },
      "source": [
        "<a href=\"https://colab.research.google.com/github/lucas-fpaiva/AnalisePred_I/blob/main/Projeto/popularity_forro.ipynb\" target=\"_parent\"><img src=\"https://colab.research.google.com/assets/colab-badge.svg\" alt=\"Open In Colab\"/></a>"
      ]
    },
    {
      "cell_type": "markdown",
      "metadata": {
        "id": "Csxq-QIV1xUD"
      },
      "source": [
        "## Avaliar a popularidade de músicas de forro"
      ]
    },
    {
      "cell_type": "code",
      "execution_count": null,
      "metadata": {
        "id": "GqjIv-ud1xUa"
      },
      "outputs": [],
      "source": [
        "import pandas as pd\n",
        "import matplotlib.gridspec as gridspec\n",
        "import matplotlib.pyplot as plt\n",
        "import numpy as np\n",
        "import sklearn\n",
        "from sklearn.model_selection import cross_val_score\n",
        "import ml_models \n"
      ]
    },
    {
      "cell_type": "code",
      "execution_count": null,
      "metadata": {
        "id": "WIUYApCx1xUa"
      },
      "outputs": [],
      "source": [
        "forroset= pd.read_parquet('https://github.com/lucas-fpaiva/Forroset/blob/main/data/forroset.parq?raw=true', engine='auto')"
      ]
    },
    {
      "cell_type": "code",
      "execution_count": null,
      "metadata": {
        "id": "oMngdyi31xUb",
        "outputId": "08d0bc07-2703-4eb0-b526-0a986f7115c0"
      },
      "outputs": [
        {
          "data": {
            "text/plain": [
              "Index(['track_id', 'track', 'artist', 'artist_id', 'popularity', 'album',\n",
              "       'album_id', 'track_year', 'duration_ms', 'uri', 'preview_url', 'energy',\n",
              "       'liveness', 'tempo', 'speechiness', 'acousticness', 'instrumentalness',\n",
              "       'time_signature', 'danceability', 'key', 'loudness', 'valence', 'mode',\n",
              "       'beats_start', 'beats_duration', 'beats_confidence', 'bars_start',\n",
              "       'bars_duration', 'bars_confidence', 'tatums_start', 'tatums_duration',\n",
              "       'tatums_confidence', 'librosa_beats_start', 'librosa_discrepancy',\n",
              "       'tempo_bins', 'tempo_bins_max', 'genre_filt', 'folds', 'manual_filt',\n",
              "       'lyrics'],\n",
              "      dtype='object')"
            ]
          },
          "execution_count": 3,
          "metadata": {},
          "output_type": "execute_result"
        }
      ],
      "source": [
        "forroset.columns"
      ]
    },
    {
      "cell_type": "code",
      "execution_count": null,
      "metadata": {
        "id": "2nCdUEwp1xUb"
      },
      "outputs": [],
      "source": [
        "treino = forroset[forroset.folds>2]\n",
        "teste = forroset[forroset.folds<3]"
      ]
    },
    {
      "cell_type": "code",
      "execution_count": null,
      "metadata": {
        "id": "wvNSrnrl1xUb",
        "outputId": "c1771add-e2c1-413a-eb68-44325a755b93"
      },
      "outputs": [
        {
          "data": {
            "text/html": [
              "<div>\n",
              "<style scoped>\n",
              "    .dataframe tbody tr th:only-of-type {\n",
              "        vertical-align: middle;\n",
              "    }\n",
              "\n",
              "    .dataframe tbody tr th {\n",
              "        vertical-align: top;\n",
              "    }\n",
              "\n",
              "    .dataframe thead th {\n",
              "        text-align: right;\n",
              "    }\n",
              "</style>\n",
              "<table border=\"1\" class=\"dataframe\">\n",
              "  <thead>\n",
              "    <tr style=\"text-align: right;\">\n",
              "      <th></th>\n",
              "      <th>track_id</th>\n",
              "      <th>track</th>\n",
              "      <th>artist</th>\n",
              "      <th>artist_id</th>\n",
              "      <th>popularity</th>\n",
              "      <th>album</th>\n",
              "      <th>album_id</th>\n",
              "      <th>track_year</th>\n",
              "      <th>duration_ms</th>\n",
              "      <th>uri</th>\n",
              "      <th>...</th>\n",
              "      <th>tatums_duration</th>\n",
              "      <th>tatums_confidence</th>\n",
              "      <th>librosa_beats_start</th>\n",
              "      <th>librosa_discrepancy</th>\n",
              "      <th>tempo_bins</th>\n",
              "      <th>tempo_bins_max</th>\n",
              "      <th>genre_filt</th>\n",
              "      <th>folds</th>\n",
              "      <th>manual_filt</th>\n",
              "      <th>lyrics</th>\n",
              "    </tr>\n",
              "  </thead>\n",
              "  <tbody>\n",
              "    <tr>\n",
              "      <th>0</th>\n",
              "      <td>3uCg5JVHl2E6i8gFJxUjsp</td>\n",
              "      <td>Xote Dos Milagres</td>\n",
              "      <td>Falamansa</td>\n",
              "      <td>6uTK3YD9CT3pLx2yEfVmXk</td>\n",
              "      <td>62</td>\n",
              "      <td>Deixa Entrar...</td>\n",
              "      <td>0TtLYG5fkX55XnbHQkGvaf</td>\n",
              "      <td>2000</td>\n",
              "      <td>266440</td>\n",
              "      <td>spotify:track:3uCg5JVHl2E6i8gFJxUjsp</td>\n",
              "      <td>...</td>\n",
              "      <td>[0.34802, 0.34802, 0.35964, 0.35964, 0.36522, ...</td>\n",
              "      <td>[0.974, 0.974, 0.537, 0.537, 0.424, 0.424, 0.4...</td>\n",
              "      <td>[0.20898, 0.97524, 1.71828, 2.50776, 3.22757, ...</td>\n",
              "      <td>0.00406</td>\n",
              "      <td>[60_81)</td>\n",
              "      <td>81</td>\n",
              "      <td>1.1</td>\n",
              "      <td>12</td>\n",
              "      <td>1.0</td>\n",
              "      <td>None</td>\n",
              "    </tr>\n",
              "    <tr>\n",
              "      <th>1</th>\n",
              "      <td>3QQhhSRe31x9qs1NqlOuOS</td>\n",
              "      <td>Xote da Alegria</td>\n",
              "      <td>Falamansa</td>\n",
              "      <td>6uTK3YD9CT3pLx2yEfVmXk</td>\n",
              "      <td>59</td>\n",
              "      <td>Essa É Pra Vocês</td>\n",
              "      <td>03pJz5LVFVNSGNHBVREUL0</td>\n",
              "      <td>2001</td>\n",
              "      <td>253733</td>\n",
              "      <td>spotify:track:3QQhhSRe31x9qs1NqlOuOS</td>\n",
              "      <td>...</td>\n",
              "      <td>[0.39987, 0.39987, 0.38104, 0.38104, 0.37319, ...</td>\n",
              "      <td>[0.725, 0.725, 0.861, 0.861, 0.933, 0.933, 0.9...</td>\n",
              "      <td>[0.5805, 1.32354, 2.06658, 2.83283, 3.57587, 4...</td>\n",
              "      <td>0.00034</td>\n",
              "      <td>[60_81)</td>\n",
              "      <td>81</td>\n",
              "      <td>1.1</td>\n",
              "      <td>13</td>\n",
              "      <td>1.0</td>\n",
              "      <td>[Xote da Alegria, Falamansa, Se um dia alguém ...</td>\n",
              "    </tr>\n",
              "    <tr>\n",
              "      <th>3</th>\n",
              "      <td>2oFutWuJCmhePvCTlrpqLc</td>\n",
              "      <td>A Vida do Viajante (feat. Gonzaguinha)</td>\n",
              "      <td>Luiz Gonzaga</td>\n",
              "      <td>2ZofT7n9AlTKf7KDCoHGgD</td>\n",
              "      <td>51</td>\n",
              "      <td>Baião de Dois</td>\n",
              "      <td>4V6Ro3hUyNnfhukw59Fy26</td>\n",
              "      <td>2012</td>\n",
              "      <td>227440</td>\n",
              "      <td>spotify:track:2oFutWuJCmhePvCTlrpqLc</td>\n",
              "      <td>...</td>\n",
              "      <td>[0.397, 0.397, 0.39242, 0.39242, 0.39057, 0.39...</td>\n",
              "      <td>[0.978, 0.978, 0.729, 0.729, 0.592, 0.592, 0.5...</td>\n",
              "      <td>[1.06812, 1.83438, 2.46132, 3.15791, 3.83129, ...</td>\n",
              "      <td>0.01416</td>\n",
              "      <td>[60_81)</td>\n",
              "      <td>81</td>\n",
              "      <td>1.1</td>\n",
              "      <td>8</td>\n",
              "      <td>1.0</td>\n",
              "      <td>[A Vida do Viajante, Luiz Gonzaga, Minha vida ...</td>\n",
              "    </tr>\n",
              "    <tr>\n",
              "      <th>4</th>\n",
              "      <td>2rw8Sij3CGRzp4KL720y48</td>\n",
              "      <td>Medo de Escuro</td>\n",
              "      <td>Falamansa</td>\n",
              "      <td>6uTK3YD9CT3pLx2yEfVmXk</td>\n",
              "      <td>44</td>\n",
              "      <td>Deixa Entrar...</td>\n",
              "      <td>0TtLYG5fkX55XnbHQkGvaf</td>\n",
              "      <td>2000</td>\n",
              "      <td>211640</td>\n",
              "      <td>spotify:track:2rw8Sij3CGRzp4KL720y48</td>\n",
              "      <td>...</td>\n",
              "      <td>[0.39948, 0.39948, 0.39115, 0.39115, 0.3915, 0...</td>\n",
              "      <td>[0.977, 0.977, 0.0, 0.0, 0.847, 0.847, 0.854, ...</td>\n",
              "      <td>[0.51084, 1.30032, 2.11302, 2.87927, 3.52943, ...</td>\n",
              "      <td>0.01238</td>\n",
              "      <td>[60_81)</td>\n",
              "      <td>81</td>\n",
              "      <td>1.1</td>\n",
              "      <td>15</td>\n",
              "      <td>1.0</td>\n",
              "      <td>[Medo de Escuro, Falamansa, Tem dias que a gen...</td>\n",
              "    </tr>\n",
              "    <tr>\n",
              "      <th>5</th>\n",
              "      <td>1lDcR8fzWif3m5beXftePz</td>\n",
              "      <td>Solução (Essa É Pra Vocês)</td>\n",
              "      <td>Falamansa</td>\n",
              "      <td>6uTK3YD9CT3pLx2yEfVmXk</td>\n",
              "      <td>40</td>\n",
              "      <td>Essa É Pra Vocês</td>\n",
              "      <td>03pJz5LVFVNSGNHBVREUL0</td>\n",
              "      <td>2001</td>\n",
              "      <td>227000</td>\n",
              "      <td>spotify:track:1lDcR8fzWif3m5beXftePz</td>\n",
              "      <td>...</td>\n",
              "      <td>[0.37485, 0.37485, 0.36516, 0.36516, 0.36501, ...</td>\n",
              "      <td>[0.36, 0.36, 0.213, 0.213, 0.099, 0.099, 0.358...</td>\n",
              "      <td>[0.20898, 0.97524, 1.69506, 2.46132, 3.20435, ...</td>\n",
              "      <td>0.00024</td>\n",
              "      <td>[60_81)</td>\n",
              "      <td>81</td>\n",
              "      <td>1.1</td>\n",
              "      <td>6</td>\n",
              "      <td>1.0</td>\n",
              "      <td>[Solução, Falamansa, Eu nem dormi direito\\nIss...</td>\n",
              "    </tr>\n",
              "  </tbody>\n",
              "</table>\n",
              "<p>5 rows × 40 columns</p>\n",
              "</div>"
            ],
            "text/plain": [
              "                 track_id                                   track  \\\n",
              "0  3uCg5JVHl2E6i8gFJxUjsp                       Xote Dos Milagres   \n",
              "1  3QQhhSRe31x9qs1NqlOuOS                         Xote da Alegria   \n",
              "3  2oFutWuJCmhePvCTlrpqLc  A Vida do Viajante (feat. Gonzaguinha)   \n",
              "4  2rw8Sij3CGRzp4KL720y48                          Medo de Escuro   \n",
              "5  1lDcR8fzWif3m5beXftePz              Solução (Essa É Pra Vocês)   \n",
              "\n",
              "         artist               artist_id  popularity             album  \\\n",
              "0     Falamansa  6uTK3YD9CT3pLx2yEfVmXk          62   Deixa Entrar...   \n",
              "1     Falamansa  6uTK3YD9CT3pLx2yEfVmXk          59  Essa É Pra Vocês   \n",
              "3  Luiz Gonzaga  2ZofT7n9AlTKf7KDCoHGgD          51     Baião de Dois   \n",
              "4     Falamansa  6uTK3YD9CT3pLx2yEfVmXk          44   Deixa Entrar...   \n",
              "5     Falamansa  6uTK3YD9CT3pLx2yEfVmXk          40  Essa É Pra Vocês   \n",
              "\n",
              "                 album_id  track_year  duration_ms  \\\n",
              "0  0TtLYG5fkX55XnbHQkGvaf        2000       266440   \n",
              "1  03pJz5LVFVNSGNHBVREUL0        2001       253733   \n",
              "3  4V6Ro3hUyNnfhukw59Fy26        2012       227440   \n",
              "4  0TtLYG5fkX55XnbHQkGvaf        2000       211640   \n",
              "5  03pJz5LVFVNSGNHBVREUL0        2001       227000   \n",
              "\n",
              "                                    uri  ...  \\\n",
              "0  spotify:track:3uCg5JVHl2E6i8gFJxUjsp  ...   \n",
              "1  spotify:track:3QQhhSRe31x9qs1NqlOuOS  ...   \n",
              "3  spotify:track:2oFutWuJCmhePvCTlrpqLc  ...   \n",
              "4  spotify:track:2rw8Sij3CGRzp4KL720y48  ...   \n",
              "5  spotify:track:1lDcR8fzWif3m5beXftePz  ...   \n",
              "\n",
              "                                     tatums_duration  \\\n",
              "0  [0.34802, 0.34802, 0.35964, 0.35964, 0.36522, ...   \n",
              "1  [0.39987, 0.39987, 0.38104, 0.38104, 0.37319, ...   \n",
              "3  [0.397, 0.397, 0.39242, 0.39242, 0.39057, 0.39...   \n",
              "4  [0.39948, 0.39948, 0.39115, 0.39115, 0.3915, 0...   \n",
              "5  [0.37485, 0.37485, 0.36516, 0.36516, 0.36501, ...   \n",
              "\n",
              "                                   tatums_confidence  \\\n",
              "0  [0.974, 0.974, 0.537, 0.537, 0.424, 0.424, 0.4...   \n",
              "1  [0.725, 0.725, 0.861, 0.861, 0.933, 0.933, 0.9...   \n",
              "3  [0.978, 0.978, 0.729, 0.729, 0.592, 0.592, 0.5...   \n",
              "4  [0.977, 0.977, 0.0, 0.0, 0.847, 0.847, 0.854, ...   \n",
              "5  [0.36, 0.36, 0.213, 0.213, 0.099, 0.099, 0.358...   \n",
              "\n",
              "                                 librosa_beats_start  librosa_discrepancy  \\\n",
              "0  [0.20898, 0.97524, 1.71828, 2.50776, 3.22757, ...              0.00406   \n",
              "1  [0.5805, 1.32354, 2.06658, 2.83283, 3.57587, 4...              0.00034   \n",
              "3  [1.06812, 1.83438, 2.46132, 3.15791, 3.83129, ...              0.01416   \n",
              "4  [0.51084, 1.30032, 2.11302, 2.87927, 3.52943, ...              0.01238   \n",
              "5  [0.20898, 0.97524, 1.69506, 2.46132, 3.20435, ...              0.00024   \n",
              "\n",
              "   tempo_bins  tempo_bins_max  genre_filt  folds  manual_filt  \\\n",
              "0     [60_81)              81         1.1     12          1.0   \n",
              "1     [60_81)              81         1.1     13          1.0   \n",
              "3     [60_81)              81         1.1      8          1.0   \n",
              "4     [60_81)              81         1.1     15          1.0   \n",
              "5     [60_81)              81         1.1      6          1.0   \n",
              "\n",
              "                                              lyrics  \n",
              "0                                               None  \n",
              "1  [Xote da Alegria, Falamansa, Se um dia alguém ...  \n",
              "3  [A Vida do Viajante, Luiz Gonzaga, Minha vida ...  \n",
              "4  [Medo de Escuro, Falamansa, Tem dias que a gen...  \n",
              "5  [Solução, Falamansa, Eu nem dormi direito\\nIss...  \n",
              "\n",
              "[5 rows x 40 columns]"
            ]
          },
          "execution_count": 21,
          "metadata": {},
          "output_type": "execute_result"
        }
      ],
      "source": [
        "treino.head()"
      ]
    },
    {
      "cell_type": "code",
      "execution_count": null,
      "metadata": {
        "id": "hcsuSY1d1xUc"
      },
      "outputs": [],
      "source": [
        "x_treino = treino[['energy', 'liveness', 'tempo', 'speechiness', 'acousticness', 'instrumentalness',\n",
        "       'time_signature', 'danceability', 'key', 'loudness', 'valence', 'mode']]\n",
        "y_treino = treino.popularity\n",
        "\n",
        "x_teste = teste[['energy', 'liveness', 'tempo', 'speechiness', 'acousticness', 'instrumentalness',\n",
        "       'time_signature', 'danceability', 'key', 'loudness', 'valence', 'mode']]\n",
        "y_teste = teste.popularity"
      ]
    },
    {
      "cell_type": "code",
      "execution_count": null,
      "metadata": {
        "id": "lSOINjCr1xUd",
        "outputId": "1f3d3f75-c221-4851-b8bd-18ac9581ba58"
      },
      "outputs": [
        {
          "data": {
            "text/html": [
              "<div>\n",
              "<style scoped>\n",
              "    .dataframe tbody tr th:only-of-type {\n",
              "        vertical-align: middle;\n",
              "    }\n",
              "\n",
              "    .dataframe tbody tr th {\n",
              "        vertical-align: top;\n",
              "    }\n",
              "\n",
              "    .dataframe thead th {\n",
              "        text-align: right;\n",
              "    }\n",
              "</style>\n",
              "<table border=\"1\" class=\"dataframe\">\n",
              "  <thead>\n",
              "    <tr style=\"text-align: right;\">\n",
              "      <th></th>\n",
              "      <th>energy</th>\n",
              "      <th>liveness</th>\n",
              "      <th>tempo</th>\n",
              "      <th>speechiness</th>\n",
              "      <th>acousticness</th>\n",
              "      <th>instrumentalness</th>\n",
              "      <th>time_signature</th>\n",
              "      <th>danceability</th>\n",
              "      <th>key</th>\n",
              "      <th>loudness</th>\n",
              "      <th>valence</th>\n",
              "      <th>mode</th>\n",
              "    </tr>\n",
              "  </thead>\n",
              "  <tbody>\n",
              "    <tr>\n",
              "      <th>count</th>\n",
              "      <td>2528.000000</td>\n",
              "      <td>2528.000000</td>\n",
              "      <td>2528.000000</td>\n",
              "      <td>2528.000000</td>\n",
              "      <td>2528.000000</td>\n",
              "      <td>2528.000000</td>\n",
              "      <td>2528.000000</td>\n",
              "      <td>2528.000000</td>\n",
              "      <td>2528.000000</td>\n",
              "      <td>2528.000000</td>\n",
              "      <td>2528.000000</td>\n",
              "      <td>2528.000000</td>\n",
              "    </tr>\n",
              "    <tr>\n",
              "      <th>mean</th>\n",
              "      <td>0.713054</td>\n",
              "      <td>0.255732</td>\n",
              "      <td>120.394858</td>\n",
              "      <td>0.052712</td>\n",
              "      <td>0.380885</td>\n",
              "      <td>0.034198</td>\n",
              "      <td>3.979430</td>\n",
              "      <td>0.648784</td>\n",
              "      <td>5.062500</td>\n",
              "      <td>-7.802556</td>\n",
              "      <td>0.858820</td>\n",
              "      <td>0.702532</td>\n",
              "    </tr>\n",
              "    <tr>\n",
              "      <th>std</th>\n",
              "      <td>0.153377</td>\n",
              "      <td>0.206217</td>\n",
              "      <td>29.769396</td>\n",
              "      <td>0.035395</td>\n",
              "      <td>0.236159</td>\n",
              "      <td>0.148425</td>\n",
              "      <td>0.189693</td>\n",
              "      <td>0.109342</td>\n",
              "      <td>3.283114</td>\n",
              "      <td>2.606776</td>\n",
              "      <td>0.149561</td>\n",
              "      <td>0.457235</td>\n",
              "    </tr>\n",
              "    <tr>\n",
              "      <th>min</th>\n",
              "      <td>0.000125</td>\n",
              "      <td>0.022600</td>\n",
              "      <td>60.111000</td>\n",
              "      <td>0.023400</td>\n",
              "      <td>0.000033</td>\n",
              "      <td>0.000000</td>\n",
              "      <td>1.000000</td>\n",
              "      <td>0.197000</td>\n",
              "      <td>0.000000</td>\n",
              "      <td>-22.760000</td>\n",
              "      <td>0.047400</td>\n",
              "      <td>0.000000</td>\n",
              "    </tr>\n",
              "    <tr>\n",
              "      <th>25%</th>\n",
              "      <td>0.608000</td>\n",
              "      <td>0.106000</td>\n",
              "      <td>98.013250</td>\n",
              "      <td>0.036600</td>\n",
              "      <td>0.184750</td>\n",
              "      <td>0.000000</td>\n",
              "      <td>4.000000</td>\n",
              "      <td>0.585000</td>\n",
              "      <td>2.000000</td>\n",
              "      <td>-9.237000</td>\n",
              "      <td>0.806750</td>\n",
              "      <td>0.000000</td>\n",
              "    </tr>\n",
              "    <tr>\n",
              "      <th>50%</th>\n",
              "      <td>0.727000</td>\n",
              "      <td>0.198000</td>\n",
              "      <td>109.916000</td>\n",
              "      <td>0.042700</td>\n",
              "      <td>0.348000</td>\n",
              "      <td>0.000000</td>\n",
              "      <td>4.000000</td>\n",
              "      <td>0.657000</td>\n",
              "      <td>5.000000</td>\n",
              "      <td>-7.538000</td>\n",
              "      <td>0.915000</td>\n",
              "      <td>1.000000</td>\n",
              "    </tr>\n",
              "    <tr>\n",
              "      <th>75%</th>\n",
              "      <td>0.833000</td>\n",
              "      <td>0.329000</td>\n",
              "      <td>146.082750</td>\n",
              "      <td>0.054700</td>\n",
              "      <td>0.566250</td>\n",
              "      <td>0.000024</td>\n",
              "      <td>4.000000</td>\n",
              "      <td>0.720250</td>\n",
              "      <td>7.000000</td>\n",
              "      <td>-5.944750</td>\n",
              "      <td>0.964000</td>\n",
              "      <td>1.000000</td>\n",
              "    </tr>\n",
              "    <tr>\n",
              "      <th>max</th>\n",
              "      <td>0.988000</td>\n",
              "      <td>0.990000</td>\n",
              "      <td>212.538000</td>\n",
              "      <td>0.475000</td>\n",
              "      <td>0.995000</td>\n",
              "      <td>0.980000</td>\n",
              "      <td>5.000000</td>\n",
              "      <td>0.975000</td>\n",
              "      <td>11.000000</td>\n",
              "      <td>-1.554000</td>\n",
              "      <td>0.996000</td>\n",
              "      <td>1.000000</td>\n",
              "    </tr>\n",
              "  </tbody>\n",
              "</table>\n",
              "</div>"
            ],
            "text/plain": [
              "            energy     liveness        tempo  speechiness  acousticness  \\\n",
              "count  2528.000000  2528.000000  2528.000000  2528.000000   2528.000000   \n",
              "mean      0.713054     0.255732   120.394858     0.052712      0.380885   \n",
              "std       0.153377     0.206217    29.769396     0.035395      0.236159   \n",
              "min       0.000125     0.022600    60.111000     0.023400      0.000033   \n",
              "25%       0.608000     0.106000    98.013250     0.036600      0.184750   \n",
              "50%       0.727000     0.198000   109.916000     0.042700      0.348000   \n",
              "75%       0.833000     0.329000   146.082750     0.054700      0.566250   \n",
              "max       0.988000     0.990000   212.538000     0.475000      0.995000   \n",
              "\n",
              "       instrumentalness  time_signature  danceability          key  \\\n",
              "count       2528.000000     2528.000000   2528.000000  2528.000000   \n",
              "mean           0.034198        3.979430      0.648784     5.062500   \n",
              "std            0.148425        0.189693      0.109342     3.283114   \n",
              "min            0.000000        1.000000      0.197000     0.000000   \n",
              "25%            0.000000        4.000000      0.585000     2.000000   \n",
              "50%            0.000000        4.000000      0.657000     5.000000   \n",
              "75%            0.000024        4.000000      0.720250     7.000000   \n",
              "max            0.980000        5.000000      0.975000    11.000000   \n",
              "\n",
              "          loudness      valence         mode  \n",
              "count  2528.000000  2528.000000  2528.000000  \n",
              "mean     -7.802556     0.858820     0.702532  \n",
              "std       2.606776     0.149561     0.457235  \n",
              "min     -22.760000     0.047400     0.000000  \n",
              "25%      -9.237000     0.806750     0.000000  \n",
              "50%      -7.538000     0.915000     1.000000  \n",
              "75%      -5.944750     0.964000     1.000000  \n",
              "max      -1.554000     0.996000     1.000000  "
            ]
          },
          "execution_count": 20,
          "metadata": {},
          "output_type": "execute_result"
        }
      ],
      "source": [
        "x_treino.describe()"
      ]
    },
    {
      "cell_type": "code",
      "execution_count": null,
      "metadata": {
        "id": "4PiAk_141xUe",
        "outputId": "506614cc-25c5-4f5b-b480-f161d4b648de"
      },
      "outputs": [
        {
          "name": "stdout",
          "output_type": "stream",
          "text": [
            "KNN: KNeighborsRegressor\n",
            "LM: LinearRegression\n",
            "DT: DecisionTreeRegressor\n",
            "RF: RandomForestRegressor \n",
            "GB: GradientBoostingRegressor\n",
            "SVM: SVR\n",
            "ADA: AdaBoostRegressor\n",
            "MLP: MLPRegressor\n",
            "DecisionTreeRegressor(max_depth=15, random_state=0)\n",
            "[-2.25179981e+15 -2.42145829e+16 -8.76120373e+15 -7.81213397e+15\n",
            " -1.83697981e+16]\n"
          ]
        }
      ],
      "source": [
        "from random import random, seed\n",
        "from sklearn.model_selection import cross_val_score\n",
        "param = [[15],1,'squared_error']\n",
        "model=  ml_models.ml_models(\"DT\",names=True,parameters=param,task=\"R\")\n",
        "print(model)\n",
        "scores = cross_val_score(model, x_treino, y_treino, cv=5, scoring='neg_mean_absolute_percentage_error')\n",
        "print(np.mean(scores))"
      ]
    },
    {
      "cell_type": "code",
      "execution_count": null,
      "metadata": {
        "id": "Bh3uW4jK1xUe",
        "outputId": "8cb1811f-198b-4007-f78c-e267817b3f3e"
      },
      "outputs": [
        {
          "data": {
            "text/plain": [
              "dict_keys(['explained_variance', 'r2', 'max_error', 'neg_median_absolute_error', 'neg_mean_absolute_error', 'neg_mean_absolute_percentage_error', 'neg_mean_squared_error', 'neg_mean_squared_log_error', 'neg_root_mean_squared_error', 'neg_mean_poisson_deviance', 'neg_mean_gamma_deviance', 'accuracy', 'top_k_accuracy', 'roc_auc', 'roc_auc_ovr', 'roc_auc_ovo', 'roc_auc_ovr_weighted', 'roc_auc_ovo_weighted', 'balanced_accuracy', 'average_precision', 'neg_log_loss', 'neg_brier_score', 'adjusted_rand_score', 'rand_score', 'homogeneity_score', 'completeness_score', 'v_measure_score', 'mutual_info_score', 'adjusted_mutual_info_score', 'normalized_mutual_info_score', 'fowlkes_mallows_score', 'precision', 'precision_macro', 'precision_micro', 'precision_samples', 'precision_weighted', 'recall', 'recall_macro', 'recall_micro', 'recall_samples', 'recall_weighted', 'f1', 'f1_macro', 'f1_micro', 'f1_samples', 'f1_weighted', 'jaccard', 'jaccard_macro', 'jaccard_micro', 'jaccard_samples', 'jaccard_weighted'])"
            ]
          },
          "execution_count": 14,
          "metadata": {},
          "output_type": "execute_result"
        }
      ],
      "source": [
        "sklearn.metrics.SCORERS.keys()"
      ]
    },
    {
      "cell_type": "markdown",
      "metadata": {
        "id": "tFRKI_vx1xUg"
      },
      "source": [
        "### Separação treino teste"
      ]
    },
    {
      "cell_type": "markdown",
      "metadata": {
        "id": "oiiiARm51xUh"
      },
      "source": [
        "### Treino do modelo"
      ]
    },
    {
      "cell_type": "code",
      "execution_count": null,
      "metadata": {
        "id": "EjWmrtFY1xUh",
        "outputId": "f8a2444c-58e2-4d22-b202-d877c1716372"
      },
      "outputs": [
        {
          "data": {
            "text/plain": [
              "DecisionTreeRegressor(max_depth=25, random_state=0)"
            ]
          },
          "execution_count": 96,
          "metadata": {},
          "output_type": "execute_result"
        }
      ],
      "source": [
        "model = ml(random_state=0, max_depth=25)\n",
        "model.fit(x_treino, y_treino)"
      ]
    },
    {
      "cell_type": "code",
      "execution_count": null,
      "metadata": {
        "id": "N1d83sr_1xUh",
        "outputId": "a21fdba6-a1ff-451e-e42e-f2625e0a2d75"
      },
      "outputs": [
        {
          "data": {
            "text/plain": [
              "0.9986360167185495"
            ]
          },
          "execution_count": 97,
          "metadata": {},
          "output_type": "execute_result"
        }
      ],
      "source": [
        "np.sqrt(model.score(x_treino, y_treino))"
      ]
    },
    {
      "cell_type": "code",
      "execution_count": null,
      "metadata": {
        "id": "cl-p7CYl1xUi",
        "outputId": "74c6dc29-5b2b-4cd4-d92d-4aedcb950dca"
      },
      "outputs": [
        {
          "data": {
            "text/plain": [
              "-0.8872291033250592"
            ]
          },
          "execution_count": 98,
          "metadata": {},
          "output_type": "execute_result"
        }
      ],
      "source": [
        "model.score(x_teste, y_teste)"
      ]
    },
    {
      "cell_type": "code",
      "execution_count": null,
      "metadata": {
        "id": "BbQ6zkoa1xUi"
      },
      "outputs": [],
      "source": [
        "y_pred_t = model.predict(x_treino)"
      ]
    },
    {
      "cell_type": "code",
      "execution_count": null,
      "metadata": {
        "id": "W_ePoeX21xUi"
      },
      "outputs": [],
      "source": [
        "y_pred= model.predict(x_teste)"
      ]
    },
    {
      "cell_type": "code",
      "execution_count": null,
      "metadata": {
        "id": "mNFAJ7391xUi",
        "outputId": "fef2362f-3595-46e9-9f84-3c1c916a826f"
      },
      "outputs": [
        {
          "data": {
            "text/plain": [
              "[<matplotlib.lines.Line2D at 0x1ac9dc59908>]"
            ]
          },
          "execution_count": 101,
          "metadata": {},
          "output_type": "execute_result"
        },
        {
          "data": {
            "image/png": "[encoded data removed]",
            "text/plain": [
              "<Figure size 432x288 with 1 Axes>"
            ]
          },
          "metadata": {
            "needs_background": "light"
          },
          "output_type": "display_data"
        }
      ],
      "source": [
        "plt.plot(y_treino, y_pred_t, 'o')\n",
        "\n",
        "plt.plot(y_teste, y_pred, 'x')\n"
      ]
    },
    {
      "cell_type": "code",
      "execution_count": null,
      "metadata": {
        "id": "AlSxQ5mY1xUj",
        "outputId": "8aedaf97-b0a0-4274-fe71-06efce03bcaf"
      },
      "outputs": [
        {
          "data": {
            "text/plain": [
              "[<matplotlib.lines.Line2D at 0x1ac9dbd8788>]"
            ]
          },
          "execution_count": 95,
          "metadata": {},
          "output_type": "execute_result"
        },
        {
          "data": {
            "image/png": "[encoded data removed]",
            "text/plain": [
              "<Figure size 432x288 with 1 Axes>"
            ]
          },
          "metadata": {
            "needs_background": "light"
          },
          "output_type": "display_data"
        }
      ],
      "source": [
        "plt.plot(y_teste.values, 'o')\n",
        "plt.plot(y_pred, 'x')"
      ]
    },
    {
      "cell_type": "code",
      "execution_count": null,
      "metadata": {
        "id": "b93PPcYm1xUj"
      },
      "outputs": [],
      "source": [
        "def mape(y_true, y_pred):\n",
        "    return np.mean(np.abs((y_true - y_pred) / (y_true+0.00001))) * 100"
      ]
    },
    {
      "cell_type": "code",
      "execution_count": null,
      "metadata": {
        "id": "953nhaNw1xUj"
      },
      "outputs": [],
      "source": [
        "def mae (y_true, y_pred):\n",
        "    return np.mean(np.abs(y_true - y_pred))"
      ]
    },
    {
      "cell_type": "code",
      "execution_count": null,
      "metadata": {
        "id": "4zHefH8S1xUj"
      },
      "outputs": [],
      "source": [
        "def r2_score(y_true, y_pred):\n",
        "    return np.mean(np.square(y_true - y_pred))"
      ]
    },
    {
      "cell_type": "code",
      "execution_count": null,
      "metadata": {
        "id": "6LMJaEmV1xUk",
        "outputId": "8ecff0df-a028-4213-f2a6-ae52dbdcfa8c"
      },
      "outputs": [
        {
          "data": {
            "text/plain": [
              "0.24169303797468356"
            ]
          },
          "execution_count": 63,
          "metadata": {},
          "output_type": "execute_result"
        }
      ],
      "source": [
        ""
      ]
    }
  ],
  "metadata": {
    "kernelspec": {
      "display_name": "Python 3.7.6 ('base')",
      "language": "python",
      "name": "python3"
    },
    "language_info": {
      "codemirror_mode": {
        "name": "ipython",
        "version": 3
      },
      "file_extension": ".py",
      "mimetype": "text/x-python",
      "name": "python",
      "nbconvert_exporter": "python",
      "pygments_lexer": "ipython3",
      "version": "3.7.6"
    },
    "orig_nbformat": 4,
    "vscode": {
      "interpreter": {
        "hash": "1d3a245165631ca1151694c656e253180713a00b2aa4e363f5b597e7a7cbc838"
      }
    },
    "colab": {
      "name": "popularity_forro.ipynb",
      "provenance": [],
      "include_colab_link": true
    }
  },
  "nbformat": 4,
  "nbformat_minor": 0
}