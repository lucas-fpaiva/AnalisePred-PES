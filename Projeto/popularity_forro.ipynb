{
  "cells": [
    {
      "cell_type": "markdown",
      "metadata": {
        "id": "view-in-github",
        "colab_type": "text"
      },
      "source": [
        "<a href=\"https://colab.research.google.com/github/lucas-fpaiva/AnalisePred_I/blob/main/Projeto/popularity_forro.ipynb\" target=\"_parent\"><img src=\"https://colab.research.google.com/assets/colab-badge.svg\" alt=\"Open In Colab\"/></a>"
      ]
    },
    {
      "cell_type": "markdown",
      "metadata": {
        "id": "Csxq-QIV1xUD"
      },
      "source": [
        "# Avaliar a popularidade de músicas de forro"
      ]
    },
    {
      "cell_type": "code",
      "execution_count": 74,
      "metadata": {
        "id": "GqjIv-ud1xUa"
      },
      "outputs": [],
      "source": [
        "import pandas as pd\n",
        "import matplotlib.gridspec as gridspec\n",
        "import matplotlib.pyplot as plt\n",
        "import numpy as np\n",
        "import sklearn\n",
        "from sklearn.tree import DecisionTreeRegressor, DecisionTreeClassifier\n",
        "from sklearn.ensemble import RandomForestRegressor, RandomForestClassifier\n",
        "from sklearn.model_selection import GridSearchCV, KFold, cross_val_score\n",
        "from sklearn.metrics import mean_absolute_percentage_error as mape\n",
        "from sklearn.neural_network import MLPClassifier, MLPRegressor\n",
        "from sklearn.datasets import make_classification\n",
        "\n"
      ]
    },
    {
      "cell_type": "code",
      "execution_count": null,
      "metadata": {
        "id": "WIUYApCx1xUa"
      },
      "outputs": [],
      "source": [
        "forroset= pd.read_parquet('https://github.com/lucas-fpaiva/Forroset/blob/main/data/forroset.parq?raw=true', engine='auto')"
      ]
    },
    {
      "cell_type": "code",
      "execution_count": null,
      "metadata": {
        "id": "oMngdyi31xUb",
        "outputId": "08d0bc07-2703-4eb0-b526-0a986f7115c0"
      },
      "outputs": [
        {
          "data": {
            "text/plain": [
              "Index(['track_id', 'track', 'artist', 'artist_id', 'popularity', 'album',\n",
              "       'album_id', 'track_year', 'duration_ms', 'uri', 'preview_url', 'energy',\n",
              "       'liveness', 'tempo', 'speechiness', 'acousticness', 'instrumentalness',\n",
              "       'time_signature', 'danceability', 'key', 'loudness', 'valence', 'mode',\n",
              "       'beats_start', 'beats_duration', 'beats_confidence', 'bars_start',\n",
              "       'bars_duration', 'bars_confidence', 'tatums_start', 'tatums_duration',\n",
              "       'tatums_confidence', 'librosa_beats_start', 'librosa_discrepancy',\n",
              "       'tempo_bins', 'tempo_bins_max', 'genre_filt', 'folds', 'manual_filt',\n",
              "       'lyrics'],\n",
              "      dtype='object')"
            ]
          },
          "execution_count": 3,
          "metadata": {},
          "output_type": "execute_result"
        }
      ],
      "source": [
        "forroset.columns"
      ]
    },
    {
      "cell_type": "markdown",
      "source": [
        "## Separando o treino e teste."
      ],
      "metadata": {
        "id": "son5ymSm4A_a"
      }
    },
    {
      "cell_type": "code",
      "execution_count": 41,
      "metadata": {
        "id": "2nCdUEwp1xUb",
        "colab": {
          "base_uri": "https://localhost:8080/"
        },
        "outputId": "7282874e-57ae-4342-87d6-c50408b9b1b6"
      },
      "outputs": [
        {
          "output_type": "stream",
          "name": "stderr",
          "text": [
            "/usr/local/lib/python3.7/dist-packages/ipykernel_launcher.py:1: UserWarning: Boolean Series key will be reindexed to match DataFrame index.\n",
            "  \"\"\"Entry point for launching an IPython kernel.\n",
            "/usr/local/lib/python3.7/dist-packages/ipykernel_launcher.py:2: UserWarning: Boolean Series key will be reindexed to match DataFrame index.\n",
            "  \n"
          ]
        }
      ],
      "source": [
        "treino = forroset[forroset.folds>2][forroset.popularity>0]\n",
        "teste = forroset[forroset.folds<3][forroset.popularity>0]"
      ]
    },
    {
      "cell_type": "code",
      "execution_count": 42,
      "metadata": {
        "id": "hcsuSY1d1xUc"
      },
      "outputs": [],
      "source": [
        "x_treino = treino[['energy', 'liveness', 'tempo', 'speechiness', 'acousticness', 'instrumentalness',\n",
        "       'time_signature', 'danceability', 'key', 'loudness', 'valence', 'mode']]\n",
        "y_treino = treino.popularity\n",
        "\n",
        "x_teste = teste[['energy', 'liveness', 'tempo', 'speechiness', 'acousticness', 'instrumentalness',\n",
        "       'time_signature', 'danceability', 'key', 'loudness', 'valence', 'mode']]\n",
        "y_teste = teste.popularity"
      ]
    },
    {
      "cell_type": "markdown",
      "source": [
        "## Definindo os parâmetros do GridSearchCV"
      ],
      "metadata": {
        "id": "UtN7vFY-3tkw"
      }
    },
    {
      "cell_type": "code",
      "source": [
        "def grid (model=\"DT\", names=False, grid=\"\", task=\"C\"):\n",
        "  #models = [\"KNN\",\"LM\",\"DT\",\"SVM\", \"RF\", \"MLP\", \"GB\", \"ADA\"]\n",
        "  #types = [\"C\",\"R\"]\n",
        "  if names == True:\n",
        "    print(\"KNN: KNeighborsRegressor\\nLM: LinearRegression\\nDT: DecisionTreeRegressor\\nRF: RandomForestRegressor\",\n",
        "          \"\\nGB: GradientBoostingRegressor\\nSVM: SVR\\nADA: AdaBoostRegressor\\nMLP: MLPRegressor\")\n",
        "    \n",
        "  if model == \"DT\":\n",
        "    if task == \"C\":\n",
        "      return DecisionTreeClassifier(max_depth=parameters[0],min_samples_leaf=parameters[1],criterion=parameters[2],random_state=0)\n",
        "    elif task == \"R\":\n",
        "      return DecisionTreeRegressor(max_depth=parameters[0],min_samples_leaf=parameters[1],criterion=parameters[2],random_state=0)\n",
        "        \n",
        "  if model==\"MLP\":\n",
        "    if task == \"C\":\n",
        "      return MLPClassifier(hidden_layer_sizes=(10,10), max_iter=10,random_state=0)\n",
        "    elif task == \"R\":\n",
        "      return MLPRegressor(hidden_layer_sizes=(10,10), max_iter=10,random_state=0)\n",
        "    \n",
        "  if model == \"RF\":\n",
        "    if task == \"C\":\n",
        "        return RandomForestClassifier(n_estimators=100,max_depth=10,random_state=0)\n",
        "    elif task == \"R\":\n",
        "        return RandomForestRegressor(n_estimators=100,max_depth=10,min_samples_leaf=10,random_state=0)\n",
        "        \n",
        "  return None"
      ],
      "metadata": {
        "id": "7oTeWB0yLtxT"
      },
      "execution_count": null,
      "outputs": []
    },
    {
      "cell_type": "code",
      "source": [
        "grid = { \n",
        "    'max_depth': [5,10,15,20,25],\n",
        "    'min_samples_leaf': [1,2,3,4,5],\n",
        "    'criterion' :['squared_error', 'absolute_error'],\n",
        "    'random_state' : [0]\n",
        "}\n",
        "\n",
        "grid = { \n",
        "    'max_depth': [5,10,15,20,25],\n",
        "    'min_samples_leaf': [1,2,3,4,5],\n",
        "    'criterion' :['squared_error', 'absolute_error'],\n",
        "    'random_state' : [0]\n",
        "}"
      ],
      "metadata": {
        "id": "q5t2b1Mq4I_o"
      },
      "execution_count": 43,
      "outputs": []
    },
    {
      "cell_type": "markdown",
      "source": [
        "### Passando os parâmetros para o GridSearchCV"
      ],
      "metadata": {
        "id": "Fjbr9AUT5b9R"
      }
    },
    {
      "cell_type": "code",
      "source": [
        "dtr_cv = GridSearchCV(estimator=DecisionTreeRegressor(), param_grid=grid, cv= 5, scoring='neg_mean_absolute_percentage_error')\n",
        "dtr_cv.fit(x_treino, y_treino)"
      ],
      "metadata": {
        "colab": {
          "base_uri": "https://localhost:8080/"
        },
        "id": "ANzT5KZ-5bWJ",
        "outputId": "f86d70f6-f971-4924-f5d9-bab26be5f91b"
      },
      "execution_count": 44,
      "outputs": [
        {
          "output_type": "execute_result",
          "data": {
            "text/plain": [
              "GridSearchCV(cv=5, estimator=DecisionTreeRegressor(),\n",
              "             param_grid={'criterion': ['squared_error', 'absolute_error'],\n",
              "                         'max_depth': [5, 10, 15, 20, 25],\n",
              "                         'min_samples_leaf': [1, 2, 3, 4, 5],\n",
              "                         'random_state': [0]},\n",
              "             scoring='neg_mean_absolute_percentage_error')"
            ]
          },
          "metadata": {},
          "execution_count": 44
        }
      ]
    },
    {
      "cell_type": "markdown",
      "source": [
        "### Melhores parâmetros encontrados pelo GridSearchCV"
      ],
      "metadata": {
        "id": "BUy4w13O7OWO"
      }
    },
    {
      "cell_type": "code",
      "source": [
        "dtr_cv.best_params_"
      ],
      "metadata": {
        "colab": {
          "base_uri": "https://localhost:8080/"
        },
        "id": "kEbg_Z5O6v57",
        "outputId": "1882cee3-74f5-48e2-bcf5-f9b37bf75c5d"
      },
      "execution_count": 45,
      "outputs": [
        {
          "output_type": "execute_result",
          "data": {
            "text/plain": [
              "{'criterion': 'absolute_error',\n",
              " 'max_depth': 5,\n",
              " 'min_samples_leaf': 3,\n",
              " 'random_state': 0}"
            ]
          },
          "metadata": {},
          "execution_count": 45
        }
      ]
    },
    {
      "cell_type": "code",
      "source": [
        "dtr_cv.best_score_"
      ],
      "metadata": {
        "colab": {
          "base_uri": "https://localhost:8080/"
        },
        "id": "VI4PJ_unEoU6",
        "outputId": "f290df24-3782-4a7c-e236-26f930701c29"
      },
      "execution_count": 46,
      "outputs": [
        {
          "output_type": "execute_result",
          "data": {
            "text/plain": [
              "-2.8053790313495126"
            ]
          },
          "metadata": {},
          "execution_count": 46
        }
      ]
    },
    {
      "cell_type": "code",
      "execution_count": 47,
      "metadata": {
        "id": "4PiAk_141xUe",
        "outputId": "65d4c79c-5c22-4def-ba50-cced9b2450cc",
        "colab": {
          "base_uri": "https://localhost:8080/"
        }
      },
      "outputs": [
        {
          "output_type": "stream",
          "name": "stdout",
          "text": [
            "DecisionTreeRegressor(criterion='absolute_error', max_depth=5,\n",
            "                      min_samples_leaf=3, random_state=0)\n"
          ]
        }
      ],
      "source": [
        "from random import random, seed\n",
        "parameters = [dtr_cv.best_params_['criterion'], dtr_cv.best_params_['max_depth'], dtr_cv.best_params_['min_samples_leaf'], dtr_cv.best_params_['random_state']]\n",
        "model = DecisionTreeRegressor(criterion=parameters[0],max_depth=parameters[1],min_samples_leaf=parameters[2],random_state=parameters[3]).fit(x_treino, y_treino)\n",
        "print(model)\n",
        "##scores = cross_val_score(model, x_treino, y_treino, cv=5, scoring='neg_mean_absolute_percentage_error')\n",
        "##print(np.mean(scores))"
      ]
    },
    {
      "cell_type": "code",
      "execution_count": null,
      "metadata": {
        "id": "Bh3uW4jK1xUe",
        "outputId": "8cb1811f-198b-4007-f78c-e267817b3f3e"
      },
      "outputs": [
        {
          "data": {
            "text/plain": [
              "dict_keys(['explained_variance', 'r2', 'max_error', 'neg_median_absolute_error', 'neg_mean_absolute_error', 'neg_mean_absolute_percentage_error', 'neg_mean_squared_error', 'neg_mean_squared_log_error', 'neg_root_mean_squared_error', 'neg_mean_poisson_deviance', 'neg_mean_gamma_deviance', 'accuracy', 'top_k_accuracy', 'roc_auc', 'roc_auc_ovr', 'roc_auc_ovo', 'roc_auc_ovr_weighted', 'roc_auc_ovo_weighted', 'balanced_accuracy', 'average_precision', 'neg_log_loss', 'neg_brier_score', 'adjusted_rand_score', 'rand_score', 'homogeneity_score', 'completeness_score', 'v_measure_score', 'mutual_info_score', 'adjusted_mutual_info_score', 'normalized_mutual_info_score', 'fowlkes_mallows_score', 'precision', 'precision_macro', 'precision_micro', 'precision_samples', 'precision_weighted', 'recall', 'recall_macro', 'recall_micro', 'recall_samples', 'recall_weighted', 'f1', 'f1_macro', 'f1_micro', 'f1_samples', 'f1_weighted', 'jaccard', 'jaccard_macro', 'jaccard_micro', 'jaccard_samples', 'jaccard_weighted'])"
            ]
          },
          "execution_count": 14,
          "metadata": {},
          "output_type": "execute_result"
        }
      ],
      "source": [
        "sklearn.metrics.SCORERS.keys()"
      ]
    },
    {
      "cell_type": "markdown",
      "metadata": {
        "id": "oiiiARm51xUh"
      },
      "source": [
        "### Treino do modelo"
      ]
    },
    {
      "cell_type": "code",
      "execution_count": null,
      "metadata": {
        "id": "EjWmrtFY1xUh",
        "outputId": "f8a2444c-58e2-4d22-b202-d877c1716372"
      },
      "outputs": [
        {
          "data": {
            "text/plain": [
              "DecisionTreeRegressor(max_depth=25, random_state=0)"
            ]
          },
          "execution_count": 96,
          "metadata": {},
          "output_type": "execute_result"
        }
      ],
      "source": [
        "model = ml(random_state=0, max_depth=25)\n",
        "model.fit(x_treino, y_treino)"
      ]
    },
    {
      "cell_type": "code",
      "execution_count": 48,
      "metadata": {
        "id": "N1d83sr_1xUh",
        "outputId": "209cc082-6d04-4587-a64f-ba2d162289d0",
        "colab": {
          "base_uri": "https://localhost:8080/"
        }
      },
      "outputs": [
        {
          "output_type": "execute_result",
          "data": {
            "text/plain": [
              "0.040666408636989934"
            ]
          },
          "metadata": {},
          "execution_count": 48
        }
      ],
      "source": [
        "np.sqrt(model.score(x_treino, y_treino))"
      ]
    },
    {
      "cell_type": "code",
      "execution_count": 49,
      "metadata": {
        "id": "cl-p7CYl1xUi",
        "outputId": "17737ced-f6cc-4734-bb42-6c5d33ddd577",
        "colab": {
          "base_uri": "https://localhost:8080/"
        }
      },
      "outputs": [
        {
          "output_type": "execute_result",
          "data": {
            "text/plain": [
              "-0.1065487447201241"
            ]
          },
          "metadata": {},
          "execution_count": 49
        }
      ],
      "source": [
        "model.score(x_teste, y_teste)"
      ]
    },
    {
      "cell_type": "code",
      "execution_count": 50,
      "metadata": {
        "id": "BbQ6zkoa1xUi"
      },
      "outputs": [],
      "source": [
        "y_pred_t = model.predict(x_treino)"
      ]
    },
    {
      "cell_type": "code",
      "execution_count": 51,
      "metadata": {
        "id": "W_ePoeX21xUi"
      },
      "outputs": [],
      "source": [
        "y_pred= model.predict(x_teste)"
      ]
    },
    {
      "cell_type": "code",
      "execution_count": null,
      "metadata": {
        "id": "mNFAJ7391xUi"
      },
      "outputs": [],
      "source": [
        "plt.plot(y_treino, y_pred_t, 'o')\n",
        "\n",
        "plt.plot(y_teste, y_pred, 'x')\n"
      ]
    },
    {
      "cell_type": "code",
      "source": [
        "mape(y_teste,y_pred)"
      ],
      "metadata": {
        "colab": {
          "base_uri": "https://localhost:8080/"
        },
        "id": "oa9ZoR9KHqNr",
        "outputId": "e5161d58-dcbc-4057-b27a-3c35c2b92426"
      },
      "execution_count": 63,
      "outputs": [
        {
          "output_type": "execute_result",
          "data": {
            "text/plain": [
              "1.5077140219453673"
            ]
          },
          "metadata": {},
          "execution_count": 63
        }
      ]
    },
    {
      "cell_type": "code",
      "source": [
        "plt.plot(((y_teste.values - y_pred)/y_teste.values)*100)\n",
        "np.mean(100*np.abs(y_teste.values - y_pred)/y_teste.values)"
      ],
      "metadata": {
        "colab": {
          "base_uri": "https://localhost:8080/",
          "height": 282
        },
        "id": "_NnezWOTJHXC",
        "outputId": "3739b9d1-5e8c-4573-df9d-b54e8bf8538c"
      },
      "execution_count": 71,
      "outputs": [
        {
          "output_type": "execute_result",
          "data": {
            "text/plain": [
              "150.77140219453676"
            ]
          },
          "metadata": {},
          "execution_count": 71
        },
        {
          "output_type": "display_data",
          "data": {
            "text/plain": [
              "<Figure size 432x288 with 1 Axes>"
            ],
            "image/png": "[encoded data removed]"
          },
          "metadata": {
            "needs_background": "light"
          }
        }
      ]
    },
    {
      "cell_type": "code",
      "execution_count": 64,
      "metadata": {
        "id": "AlSxQ5mY1xUj",
        "outputId": "54a3b172-60b8-4543-e15a-93ab0d7778a9",
        "colab": {
          "base_uri": "https://localhost:8080/",
          "height": 282
        }
      },
      "outputs": [
        {
          "output_type": "execute_result",
          "data": {
            "text/plain": [
              "[<matplotlib.lines.Line2D at 0x7f307bd9c6d0>]"
            ]
          },
          "metadata": {},
          "execution_count": 64
        },
        {
          "output_type": "display_data",
          "data": {
            "text/plain": [
              "<Figure size 432x288 with 1 Axes>"
            ],
            "image/png": "[encoded data removed]"
          },
          "metadata": {
            "needs_background": "light"
          }
        }
      ],
      "source": [
        "plt.plot(y_teste.values, 'o')\n",
        "plt.plot(y_pred, 'x')"
      ]
    },
    {
      "cell_type": "code",
      "execution_count": null,
      "metadata": {
        "id": "b93PPcYm1xUj"
      },
      "outputs": [],
      "source": [
        "def mape(y_true, y_pred):\n",
        "    return np.mean(np.abs((y_true - y_pred) / (y_true+0.00001))) * 100"
      ]
    },
    {
      "cell_type": "code",
      "execution_count": null,
      "metadata": {
        "id": "953nhaNw1xUj"
      },
      "outputs": [],
      "source": [
        "def mae (y_true, y_pred):\n",
        "    return np.mean(np.abs(y_true - y_pred))"
      ]
    },
    {
      "cell_type": "code",
      "execution_count": null,
      "metadata": {
        "id": "4zHefH8S1xUj"
      },
      "outputs": [],
      "source": [
        "def r2_score(y_true, y_pred):\n",
        "    return np.mean(np.square(y_true - y_pred))"
      ]
    },
    {
      "cell_type": "code",
      "execution_count": null,
      "metadata": {
        "id": "6LMJaEmV1xUk",
        "outputId": "8ecff0df-a028-4213-f2a6-ae52dbdcfa8c"
      },
      "outputs": [
        {
          "data": {
            "text/plain": [
              "0.24169303797468356"
            ]
          },
          "execution_count": 63,
          "metadata": {},
          "output_type": "execute_result"
        }
      ],
      "source": [
        ""
      ]
    }
  ],
  "metadata": {
    "colab": {
      "name": "popularity_forro.ipynb",
      "provenance": [],
      "include_colab_link": true
    },
    "kernelspec": {
      "display_name": "Python 3.7.6 ('base')",
      "language": "python",
      "name": "python3"
    },
    "language_info": {
      "codemirror_mode": {
        "name": "ipython",
        "version": 3
      },
      "file_extension": ".py",
      "mimetype": "text/x-python",
      "name": "python",
      "nbconvert_exporter": "python",
      "pygments_lexer": "ipython3",
      "version": "3.7.6"
    },
    "orig_nbformat": 4,
    "vscode": {
      "interpreter": {
        "hash": "1d3a245165631ca1151694c656e253180713a00b2aa4e363f5b597e7a7cbc838"
      }
    }
  },
  "nbformat": 4,
  "nbformat_minor": 0
}